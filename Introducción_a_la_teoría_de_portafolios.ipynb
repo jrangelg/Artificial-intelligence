{
  "nbformat": 4,
  "nbformat_minor": 0,
  "metadata": {
    "colab": {
      "provenance": [],
      "gpuType": "T4",
      "include_colab_link": true
    },
    "kernelspec": {
      "name": "python3",
      "display_name": "Python 3"
    },
    "language_info": {
      "name": "python"
    },
    "accelerator": "TPU"
  },
  "cells": [
    {
      "cell_type": "markdown",
      "metadata": {
        "id": "view-in-github",
        "colab_type": "text"
      },
      "source": [
        "<a href=\"https://colab.research.google.com/github/jrangelg/Artificial-intelligence/blob/main/Introducci%C3%B3n_a_la_teor%C3%ADa_de_portafolios.ipynb\" target=\"_parent\"><img src=\"https://colab.research.google.com/assets/colab-badge.svg\" alt=\"Open In Colab\"/></a>"
      ]
    },
    {
      "cell_type": "markdown",
      "source": [
        "# Introducción a la teoría de portafolios\n",
        "- Colección de acciones se decir un proceso estocástico multivariado\n",
        "\n",
        "Existen dos contextos para hablar de portafolios\n",
        "$$\n",
        "V_t = \\begin{pmatrix}\n",
        "S_{1t}\\\\\n",
        "\\vdots \\\\\n",
        "S_{pt}\n",
        "\\end{pmatrix}\n",
        "$$\n",
        "- Función de acciones\n",
        "$$\n",
        "V_t = \\omega_1S_{1t} + \\cdots + \\omega_pS_{pt}\n",
        "$$"
      ],
      "metadata": {
        "id": "tWMAtth5Zp8i"
      }
    },
    {
      "cell_type": "markdown",
      "source": [
        "# Tería del Análisis multivariado - Vectores aleatorios\n",
        "\n",
        "## Vector de medias\n",
        "\n",
        "$$\n",
        "E(V_t) = \\begin{pmatrix}\n",
        "E(S_{1t})\\\\\n",
        "\\vdots \\\\\n",
        "E(S_{pt})\n",
        "\\end{pmatrix} = \\begin{pmatrix}\n",
        "\\mu_{1t}\\\\\n",
        "\\vdots \\\\\n",
        "\\mu_{pt}\n",
        "\\end{pmatrix}\n",
        "$$\n",
        "Es una media o tendencia dinámica\n",
        "\n",
        "## Matriz de varianzas\n",
        "\n",
        "$$\n",
        "Var(V_t) = Σ(t)=\\begin{bmatrix}\n",
        "\\sigma_{11} &\\sigma_{12}  & \\cdots  & \\sigma_{1p}\\\\\n",
        "\\sigma_{21} &\\sigma_{22}  & \\cdots  & \\sigma_{2p} \\\\\n",
        " \\vdots & \\vdots  & \\ddots  & \\vdots  \\\\\n",
        " \\sigma_{p1} &\\sigma_{p2}  & \\cdots  & \\sigma_{pp}\n",
        "\\end{bmatrix}(t)\n",
        "$$\n",
        "\n",
        "Si la volatilidad no depende del tiempo se llama un proceso estocástico homocedastico (ARMA(p,q), AR(p), FAR(p), VAR(p)), y si depende del tiempo se llama un proceso heterocedastico ( ARCH(p), GARCH(p,q), EGARCH(p,d,q), EWMA, VARCH(p))\n",
        "\n",
        "## Correlación\n",
        "El coseno entre las dos variables\n",
        "$$\n",
        "Cor(X,Y) : = \\frac{Cov(X,Y)}{SD(X)SD(Y)}\n",
        "$$\n",
        "$$\n",
        "Cov(X,Y) : = E(XY)-E(X)E(Y)\n",
        "$$\n",
        "Note que Cov(X,X)=Var(X), entonces, Cor(X,X)=1"
      ],
      "metadata": {
        "id": "X3X-2PBqapHB"
      }
    },
    {
      "cell_type": "markdown",
      "source": [
        "![Image](data:image/png;base64,iVBORw0KGgoAAAANSUhEUgAAAXwAAACECAMAAACkj2A4AAAAilBMVEX////09PSYmJiJiYkAAACqqqrr6+tzc3P8/Pzw8PCjo6PLy8v6+vqwsLDg4OCnp6eDg4PV1dXl5eVnZ2fe3t6SkpK6urrAwMDR0dHIyMidnZ1wcHC2trZfX195eXlkZGRPT09ISEg+Pj4lJSWGhoZBQUE1NTUgICAsLCxYWFgwMDAiIiIYGBgNDQ3i97tIAAARn0lEQVR4nO1d6WKyOhBNIIQdCRB2EJeqWH3/17sJ4AYUW69VP+r50QUhhsNwMplMEgDeeOONN95449WAA58YQNX9wHl2Vf4e8GS1DQDUVhQ/uyp/EIFbCOxn+ux6/EkEWjzTgW8+ux5/EVjSo/nEMINnV+QvgpgY57I/sZ5dkb+IgOmNvyrekv8MBBIAnrt+k/8EOBqnfTKPnl2RP4joYz8N2S/t7eS/8cYbvw2lH8+u1p+AJZl90OGzK/YXkCKE1sUJs9Vixw4t/GdX7C/ASxByL3u1VlxuEDWeVKE/hXCOkN0Wmags9fqvG9X/68tuK3CsbZC/Q/u4fdBy60MKuS3Wg0P1i0+IcwuRwVfF/eNQKULzjsTrQsV6JN8W5VTySX+THWbeLeWJ9kjZ96ZM9tuUKJjfrZf8LNZjwArMtp3M7Gs1cBn8wPCVujheUCmOtBHSVwgtew1VyH8WbvBFyiDyl2ZSkp4T7B8VSKjIkTLeCRrp0LIh7dFa6/lAL384rhXQCpx8p+wxfWum/6Q4LxY4fF5Qlo/U9LGIUNFDy6Q5qBjsxo0f3rztdttqOq/kTYHfK0s5O22CRqr6gJQIJZ332qC1SBih6Xue7191fAzim8SKTI/rujDv6k7i8i9RyMRnTEJypRsNAyFkJXmEF0dQn4yNAsEWIdpuCi1X4L+UNBGm8yyfiddiDkEuTFczOqueY7rpjg1kIjdfXbb3TJPoNToFudix81cf1fcuRtvvg9oebdsCr39UDUFICTCRmW4FlTlB+GtvxbEJSBeCWeSc/Og4MIOdhjZvJnAecy9dME/U3VgAOl8z6k0Vl2mNt64dnY07VvKBJSOUtSwxmlfkR4zEeBE4JtNraMcNBQr2rAYero/prCsU73XVrITdK5rOA5RXTcHkg5NvmKqNPKAWLgb+9CB20DrCq9+wSHe2JQQa0qvnPR8v+SAsUNHSiYZ8Bpw3D+bU44Xa1G0wjU/+o70Nm7+8QqhJxMnugnzWrysyB/ibGALHOzCq54fi3Iw0b5eGmDq5qC5mloyXfCPetDtU4awi31AVfUYhUCEzzwHVYS+DgafMx1ErtsKPw7MMD8EBq5Ydpk0Sl/wQYGuwGUm4hzOf1eeMWHYUv+vTY7lqcPVcT/cmMLQA+GUy0EiGeehvmTkLEX9CfQ2uWzW4zKKZMLk7y2EPfIjRYq0C0kg+WIzV0WcSkwkdI2xczRgJdK1hk1pWRN2w5+IGFMU2knBkVw9osuqemtQSn659HKymqub19cROmO6JkzeSj/c/CUz8UyBynx8pVUrvy7lGZXtJAIRUGCAryHNNTGS5fjmWRTeEJtTHDHFqz5meQ382GDTQp7a9ayRfQmNNrPDkpK8HFZVVM8BbRafqEemZNNQ5dQg7MazJMlza7ZKSOe8yqx72SL5m35gvyUBxzI0i3iqry3OzkaoOFqedqCYnWRFaHRszEf1v9vLNojewxp+IhEzFKXiQuEiXA6Y/Y0ZPV2GlNnAdjVN1VNoN7Dgpfxy6fBnoj6jwzXC8mmh9jgzJeKdhHeuJzFkXaTDg7hQbPS3MmvPlSH0dGHe5h3RZSaxPL+VI/WZWgyHY/SadLj2A4zyvm3dlUMdNO7ebmgXlOLOnDWnWGTHBwqJ2PA3/tuRNS/tKTibhLfKxHGdUzQjcC+4N1fGivBNqeOMXoESzMtDPkIryB0JIGGfz9lqwEtTFHq3eSVMPABFpD0RprD2aN9544yWgkoteq+GNNEvjJRGK5/FHNUr60kje+B1cJlY6QR3Gf+MBMKyw5dpM3uQ/Ct4k15jshzV4DrH2Jv9RCE2BAsc305TPBwrf5J/jMn6u3D2yClM3BYaKa/Bg45v8BkpwGe6F/t0jXpIcOjjwK6Q8a2NC7/0V/yYU3710uuHEvXPPH9I8iAyvBnEUldhZ9I4uMJBZO54O7eV9A47QF6PzIRIvzmXhHVBmxORJ5xi59+IUBr5oR6q8vfc0XEb0oku0KstPqMk/Cj74OJRkx+E4tchCp1F4y8GYp/Ctjhce03mNdP62y28ioJpnSr1D+Qc4kigs+ehFIEhaykh3TCkVmcsBy6I+AwaSILCXAPJiyHt6+DcBP3yUxO5hHoB/tr7BYehUTVapj3YQ+HMpDGQRGrQgnrBhn2zz+gyaTfx8FUKJJ244i4MrqF4sl/DoW3t9TASMMjDdNXJiaidI9SElRuwvMcHWZsr+9ZBkrDJHURjveFd1dwxhFzDOdwkueY/LWeRN4epZadqxdWjmY/5xcJUOVA2FIBqYzqpsmdED1QMS4hYN0QzYyBX4GosYcfKVELmc6XKV2vwCZ9N1gc4A/aX4xrIOixdo+N1Q9uv6t41Ezt1+Cxz6gdASA7yvHgfdTzj5Lsqt75AfCG8IQq0r6OOMmXQiHdHkwxv7HXdpFKw1lj8HkRqZ4t4E6qY64m7Civz1pLrA+Tz4mqp0hvfSdF04lT0fkEod8hWRaz6QQqtSF4JEY8YkR2VWr644zTDfcou35s3UJmd9KPFN/hUIV+ePOtna98wCg3jhk8CdOnBX6pbEzB26BeB5TRvBIaaWrydp5Wru3usdfxNadvUUIuY0Dvg0PZuJFWGmLlGB+jyNcssVyTCXQjyJLNGeVJP5Vu+w1zeBv5FTDb2ojtpbhM/OUyxA6riitapXXHEifhxXMwmwm39ZUA8UXE2vdPBjMDDc8NCa3GHYwxC67w3pmVY/AItWjb8oPwTJQFdPp1VV7IfU4x7K7Ezbiw2p+fJHJejTMIoiPZAegsnAe64tfZ3VxDcfUY979PeVqJWrDSdfzDr4Crp9h2rcBZr0rwUEjeDSlmD0wykaL0T+ZKyLtnyJN/lPRId8I6SCDgzW/D14fl+HfCWlfHIi++mNdCpGh3wlnKKlouiJTZ5NPilQagBSaNcGm/5VdGXH0/IiBNbk0YPkXdnB2keJAe6ZLT0SdMnXNX0es5+PntjaJd/UeRAl9f81L+jb6JIfxVCc4ujheeBd8qllFDmkNy1z+k+gQz5MUxCs4uDh0bku+aID6NoZWgHgH0fUjgR5mgUsdxY/PC+Kiq2AoBNjYH3Yy/HGCaO25YdMbxQTiQ93MAShPQ9AZ82OjKRxrqrA0ZIdg9h84UVSPD4TuSU7Bili1tLqixGnJrbIh5Gg8VUCw4EVo34JLfJhQDV2QJFG62h2yFdUXK0ccv88/6tokc9qUvWt4Eg7WBzv2M4T8Sb/iTiQbwmiKNpHLBl4chF9XJbhgfywU5MqzWmMe0McyPcyhAqzmXMY+lQQluUGobttC4TT9Ap7B/LJDKEyONTEFAQhL9esJpO71ETVzNd5igfyjXSNPo8b0yiqqmKL+C76uE++j26meTIcJziQr1BWE//QzBqsJo5H/BLdJSlDpb5dvkyX+aj5UOhuTKM45sd9Zr/RjJAyHoyQHTVfTRBatR6U4sR7/w6mL+wMjAbTKR+JU4Pr5Ox1b7v3hpnXh4h5m+Gl9eVxbgF7OjjEeWpwvQKhzrw+GCf1oSi45SHQ2q7iOQCz3Q3X/wrOvB19hvadDWOMoMqPILl5m78d2pVuYUfxyuHA/Jm3468Q6iwfDOsgj37b8m5WnVHD06T25S0F/AbOAmuKidBnJ5JscEqweHPDqx2knsrDmi/Q44NXxB3addZGrvtcZXqbFQSr5g4mi5fR/POoZp/s1wiyn7W7QZJNp9OM2zJOpIqt9Fpcnp7IB3CK0Kz3/Lj8ifxBd8rBM4zBqg5X+R+vswTnRSeLL2fX91Y7+Q8n92JSoZqlF1clRhOMg0GTi7UzVSIfCCU9KgVng+uKt6HU9ahuKd7zK4mIgXjlqofhsocbzdF+2b1nffY/xrX8OWs1gqLIS3GQ/MserrlFfcFkf3ez3Roo4PsjFHn+cf3kX4VxuNFL8rnsbyads9NGjKI8ESLBvR5oDG1X1DU35mx7JeseSUyGyl5f0TjMqL4k37B3aNMNrYprXFckCxWgXE2wEF3uVuq1tPJJI0HmTrNnr5RliY26tGI7qsjEtqPvZlHRoIt64BZCfnUfN50GRJ6beT1H2xZVUK1a0uvmh2Jjy63YDi5ZTTr6nmTVnoyyt8ohCPZXUouESYxYFdx65tV2y2Try3o8Dor/2dh3O7BW7UfWerUhrZZwd6gJwiKPkpL95w0sfqFQibWzRZTPq2e27Oz06Z1toSoetqtpB9b0OUIdCSym/IgchRtGfo4cYAxMYTYWRo7Yvezn1b/J+sszHwqrRA3pbfIVf4FQaxgL59VWetBhxraIFYdnt6fHEdcoOewLNJVrnYAeZs0EVZsNsMTOUvni+pgUSwrUNKGdqKbwiVBbqWYV+boi8t06ZmsVeLPDVVg+7k+UNe5oABafCiCoTty2r0w9fBCUaLYqa3PsZi9MOtuRGfGxb2oe5hwZ6uGNP9vByqkpVaoTj9NbxVmbfLo7ZrZTeZXVhXfIN2TUGUOsyVdAwbQfb132fcfNi5VTPaxDSYTbGN93iMPed4h4BjwxyJu5i914vr/rdKjMmnyoQsr0HhMIdGnIc1EhM9sIQFK9HWJHdtTjShG6GB6m3/fk7SC/remZW53kbJnqmHsTkHiw8ad836EC1d9WvobseDEIGt3pkO/17OtrVsvIhCUNSiZAqQYibdn1iY4gSe4nTGtSjZMP84FNbqUQiI3udMgP5t2NmpKPqqzwk3lQTPJVmg/uyFgpTSP5YPVsF7OGAQFZ1LsBt8n3SrlrS/4HdzX9tRgj14tyHYQTV/q6+OCDiusZIUlQlziQfwUVkG7litBug9vdHQrEm+pcuJGBv/2EkVPYQ+RLyIPJYbIt+tFktd+E0+hOi3zWtvaYaVhy1xgLpRTSTOQrDJruQHgLCqUQCtkyrAw3XQ3vkw6n+6qsjqvZzuPhIJ9NUzUt7b0LDWc3HKiJy6xoJN9Ct+3X/htodOeSfGz3xgwNweY8QuYhQ8xbWriMvSH2jycyCNfCkGIt7Zfk46nbS2vJXwdl4mPWI2HdDVpGA/t8WALGxmJXn0DR6+RBNLpzQb6h9W34DPgGcZfxtjDJpW/mr5LiWtZnuq0ahUvy804rXcPkrqW5SQw8l9ljKEx5INCWMaM3UdNnRAOt1KPBdIdryTn5SjrrxDSNlIs7M/3LjCbT/m5WFc2vRXAb3bkg3151X5d6L2pXMkC4F9J5xXpkD3Vyk21E943PL2xfx/BZvSvdOSc/KrqtaJBVSolpfFF347u5TKZ8feyj1p1z8oV599kKRb3pdxmwfpMd1zvNKYP1MLRcama16Oh1IskMZMN7nmfkh6vOeK0hfTauwuVS4j/4lm/cs7nhVnxGvtYdSQF036Qv8E3+6gXNrsM47hb4YkuB1rpzIt8r29w7WrlbH5RSue2t/c5VOOO6cyI/mrX9Ek8o9kfTvakir5bqXOnOkXyrXNnCcUsam7loq+26G2T7FeRcd47kR7P58rQ5jpxls/lmh5D7Ovk2d0ClOwfyHblnTyaeNPWImlS6cyDfKftrMq6dJ518IR3Jx+cLG57gP2SwGWeInMj/oiYjmxYXoeVJdpR+PKYmTHdOsvPUmjwMZDPFr5GlzHVn8reylHG+MMNz8smll6GQR83CZLrjXZDfzo+7lmX7DyJCIjkj38vOkyo8e97t8P4WchTEZ+RbF0uhe/LmdRKd7oZw55oXayNdCqv/OPLNTW6fJ0W0FF5YjY98J9lOT8aumq2+TfA48nG2O8tIUdu7eccjJF/x0efRkcdpnkVYk3MOmZKHks90Z3aUHYXmOca0qQkfqR8j+SBcoKPmEz/KnJOjBx5LvrlCwoH8gOQ2rioCGhdzlOQ7ydnYGrZbSYyPJJ/5O0fyAWznbY2SfKY7J/L1MvZwnNQQHyw7THdO5E9K3bLEQ03GKjvM3zmR7+dhfPFhsB1YWv7eMBcn8pNYvoznL/evFRG+D5yz9We9RDgPvDpCIifDaTH3hHo2cSVM0vNIjrNMZDd6taDwHZC+zOywZLzLeX0F72WWHA/CEdr2G2+8Hv4DHtU5I+zM5t8AAAAASUVORK5CYII=)"
      ],
      "metadata": {
        "id": "9R8Qf860dIMa"
      }
    },
    {
      "cell_type": "markdown",
      "source": [
        "![Image](data:image/png;base64,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)\n"
      ],
      "metadata": {
        "id": "CJoueGrCdu1R"
      }
    },
    {
      "cell_type": "code",
      "source": [],
      "metadata": {
        "id": "zk52BAqttCb0"
      },
      "execution_count": null,
      "outputs": []
    },
    {
      "cell_type": "markdown",
      "source": [
        "# Matriz de correlaciones\n",
        "\n",
        "$$\n",
        "\\rho(t) = \\begin{bmatrix}\n",
        "\\rho_{11} &\\rho_{12}  & \\cdots  & \\rho_{1p}\\\\\n",
        "\\rho_{21} &\\rho_{22}  & \\cdots  & \\rho_{2p} \\\\\n",
        " \\vdots & \\vdots  & \\ddots  & \\vdots  \\\\\n",
        " \\rho_{p1} &\\rho_{p2}  & \\cdots  & \\rho_{pp}\n",
        "\\end{bmatrix}(t) =  \\begin{bmatrix}\n",
        "1 &\\rho_{12}  & \\cdots  & \\rho_{1p}\\\\\n",
        "\\rho_{21} &1  & \\cdots  & \\rho_{2p} \\\\\n",
        " \\vdots & \\vdots  & \\ddots  & \\vdots  \\\\\n",
        " \\rho_{p1} &\\rho_{p2}  & \\cdots  & 1\n",
        "\\end{bmatrix}(t)\n",
        "$$"
      ],
      "metadata": {
        "id": "vQh11u2LeD0Q"
      }
    },
    {
      "cell_type": "markdown",
      "source": [
        "# Propiedades de la matriz de varianzas y covarianzas\n",
        "1: $$\n",
        "Var(AX+b) = A \\Sigma A'\n",
        "$$\n",
        "1.1: $$\n",
        "Var(w^T R) = w^T \\Sigma w\n",
        "$$\n",
        "2: $$\n",
        "Var(X+Y) = Var(X) + Var(Y)+2Cov(X,Y)\n",
        "$$"
      ],
      "metadata": {
        "id": "_3pxPpNRfCVJ"
      }
    },
    {
      "cell_type": "markdown",
      "source": [
        "# TEOREMA DE LA DIAGONALIZACIÓN\n",
        "- Teorema de la Diagonalización: Sea $A$ una matriz cuadrada de tamaño $n\\times n$. Si $A$ tiene $n$ vectores propios linealmente independientes, entonces $A$ es diagonalizable, es decir, existen una matriz invertible $P$ y una matriz diagonal $D$ tal que $A = PDP^{-1}$.\n",
        "\n",
        "Demostración:\n",
        "\n",
        "Supongamos que $A$ tiene $n$ vectores propios linealmente independientes $v_1, v_2, \\ldots, v_n$ con valores propios correspondientes $\\lambda_1, \\lambda_2, \\ldots, \\lambda_n$ respectivamente.\n",
        "\n",
        "Podemos construir una matriz $P$ cuyas columnas son los vectores propios normalizados:\n",
        "\n",
        "\\[\n",
        "P = \\begin{bmatrix}\n",
        "    v_1 & v_2 & \\ldots & v_n\n",
        "\\end{bmatrix}\n",
        "\\]\n",
        "\n",
        "La matriz diagonal $D$ se forma colocando los valores propios correspondientes en la diagonal:\n",
        "\n",
        "\\[\n",
        "D = \\begin{bmatrix}\n",
        "    \\lambda_1 & 0 & \\ldots & 0 \\\\\n",
        "    0 & \\lambda_2 & \\ldots & 0 \\\\\n",
        "    \\vdots & \\vdots & \\ddots & \\vdots \\\\\n",
        "    0 & 0 & \\ldots & \\lambda_n\n",
        "\\end{bmatrix}\n",
        "\\]\n",
        "\n",
        "Entonces, si multiplicamos $P$ y $D$ y su inversa $P^{-1}$:\n",
        "\n",
        "\\[\n",
        "PDP^{-1} = \\begin{bmatrix}\n",
        "    v_1 & v_2 & \\ldots & v_n\n",
        "\\end{bmatrix}\n",
        "\\begin{bmatrix}\n",
        "    \\lambda_1 & 0 & \\ldots & 0 \\\\\n",
        "    0 & \\lambda_2 & \\ldots & 0 \\\\\n",
        "    \\vdots & \\vdots & \\ddots & \\vdots \\\\\n",
        "    0 & 0 & \\ldots & \\lambda_n\n",
        "\\end{bmatrix}\n",
        "\\begin{bmatrix}\n",
        "    v_1^T \\\\\n",
        "    v_2^T \\\\\n",
        "    \\vdots \\\\\n",
        "    v_n^T\n",
        "\\end{bmatrix}\n",
        "\\]\n",
        "\n",
        "Dado que los vectores propios son linealmente independientes, la matriz $P$ es invertible y su inversa existe. Por lo tanto, podemos concluir que $A$ es diagonalizable mediante la matriz $P$, la matriz diagonal $D$, y su inversa $P^{-1}$.\n",
        "\n",
        "[CalculadoraMatrices](https://matrixcalc.org/)\n",
        "\n"
      ],
      "metadata": {
        "id": "EQ--PYk_f1lY"
      }
    },
    {
      "cell_type": "code",
      "source": [
        "import numpy as np\n",
        "\n",
        "# Definir una matriz cuadrada\n",
        "A = np.array([[1, 2], [3, 4]])\n",
        "\n",
        "# Calcular los vectores propios y valores propios\n",
        "eigenvalues, eigenvectors = np.linalg.eig(A)\n",
        "\n",
        "# Imprimir los vectores propios y valores propios\n",
        "print(\"Valores propios:\")\n",
        "print(eigenvalues)\n",
        "print(\"\\nVectores propios:\")\n",
        "print(eigenvectors)\n"
      ],
      "metadata": {
        "colab": {
          "base_uri": "https://localhost:8080/"
        },
        "id": "cNOSNgJ7f1Gh",
        "outputId": "f5a094fd-beb2-42d7-a127-78cd0ff81c73"
      },
      "execution_count": null,
      "outputs": [
        {
          "output_type": "stream",
          "name": "stdout",
          "text": [
            "Valores propios:\n",
            "[-0.37228132  5.37228132]\n",
            "\n",
            "Vectores propios:\n",
            "[[-0.82456484 -0.41597356]\n",
            " [ 0.56576746 -0.90937671]]\n"
          ]
        }
      ]
    },
    {
      "cell_type": "code",
      "execution_count": null,
      "metadata": {
        "colab": {
          "base_uri": "https://localhost:8080/"
        },
        "id": "4cU9ZOHVZkid",
        "outputId": "32521a3f-fd58-4180-915e-9ef7e6892fde"
      },
      "outputs": [
        {
          "output_type": "stream",
          "name": "stdout",
          "text": [
            "Valores propios:\n",
            "[-0.17282531  7.09540548  4.07741984]\n",
            "\n",
            "Vectores propios:\n",
            "[[ 0.81631395 -0.50010373 -0.28901176]\n",
            " [-0.575733   -0.66419576 -0.47683908]\n",
            " [-0.04650862 -0.555644    0.83011848]]\n"
          ]
        }
      ],
      "source": [
        "\n",
        "# Definir una matriz cuadrada\n",
        "A = np.array([[2, 3 , 1], [3, 4,1],[1,1,5]])\n",
        "\n",
        "# Calcular los vectores propios y valores propios\n",
        "eigenvalues, eigenvectors = np.linalg.eig(A)\n",
        "\n",
        "# Imprimir los vectores propios y valores propios\n",
        "print(\"Valores propios:\")\n",
        "print(eigenvalues)\n",
        "print(\"\\nVectores propios:\")\n",
        "print(eigenvectors)\n"
      ]
    },
    {
      "cell_type": "code",
      "source": [
        "eigenvectors @ eigenvectors.T"
      ],
      "metadata": {
        "colab": {
          "base_uri": "https://localhost:8080/"
        },
        "id": "dENVgfcnic8A",
        "outputId": "96be7309-4c8e-4fb4-d565-842fd786ce1d"
      },
      "execution_count": null,
      "outputs": [
        {
          "output_type": "execute_result",
          "data": {
            "text/plain": [
              "array([[ 1.00000000e+00,  0.00000000e+00, -5.55111512e-17],\n",
              "       [ 0.00000000e+00,  1.00000000e+00,  1.11022302e-16],\n",
              "       [-5.55111512e-17,  1.11022302e-16,  1.00000000e+00]])"
            ]
          },
          "metadata": {},
          "execution_count": 3
        }
      ]
    },
    {
      "cell_type": "markdown",
      "source": [
        "Luego los vectores propios son ortonormales"
      ],
      "metadata": {
        "id": "af23q6cxi7Hs"
      }
    },
    {
      "cell_type": "markdown",
      "source": [
        "# Optimización el teorema de Weisdrass\n",
        "[khanacademy](https://es.khanacademy.org/math/multivariable-calculus/applications-of-multivariable-derivatives/optimizing-multivariable-functions/a/second-partial-derivative-test)"
      ],
      "metadata": {
        "id": "5HDa-VPEjotH"
      }
    },
    {
      "cell_type": "code",
      "source": [
        "# Generar una secuencia del -1 al 1 con pasos de 0.1\n",
        "x = [i/100 for i in range(-100, 101)]\n",
        "y= [(i/100)**2 for i in range(-100, 101)]\n",
        "# x depende de y\n",
        "np.corrcoef(x,y)\n",
        "# x no depende linealmente de y, hay ortogonalidad"
      ],
      "metadata": {
        "colab": {
          "base_uri": "https://localhost:8080/"
        },
        "id": "z_LiyQiWjPiO",
        "outputId": "e06f8fe9-bfa1-4a8a-ada1-517452342255"
      },
      "execution_count": null,
      "outputs": [
        {
          "output_type": "execute_result",
          "data": {
            "text/plain": [
              "array([[ 1.00000000e+00, -3.47758546e-17],\n",
              "       [-3.47758546e-17,  1.00000000e+00]])"
            ]
          },
          "metadata": {},
          "execution_count": 4
        }
      ]
    },
    {
      "cell_type": "code",
      "source": [
        "# Indepen implica ortogonalidad pero ortogonalidad no implica indpendencia\n",
        "x = np.random.standard_normal(1000)\n",
        "y = np.random.standard_normal(1000)\n",
        "np.corrcoef(x,y)"
      ],
      "metadata": {
        "colab": {
          "base_uri": "https://localhost:8080/"
        },
        "id": "lXecCVTblYrQ",
        "outputId": "37462fc0-0e62-4f59-ab77-2195e032c224"
      },
      "execution_count": null,
      "outputs": [
        {
          "output_type": "execute_result",
          "data": {
            "text/plain": [
              "array([[1.        , 0.08241778],\n",
              "       [0.08241778, 1.        ]])"
            ]
          },
          "metadata": {},
          "execution_count": 5
        }
      ]
    },
    {
      "cell_type": "markdown",
      "source": [
        "# Ejercicio 1\n",
        "\n"
      ],
      "metadata": {
        "id": "P2QSwmR02XDe"
      }
    },
    {
      "cell_type": "code",
      "source": [
        "# Definir mu y sig\n",
        "import numpy as np\n",
        "mu=np.array([0.08,0.1,0.1,0.14])\n",
        "sig = np.array([0.12,0.12,0.15,0.2])\n",
        "m=0.1"
      ],
      "metadata": {
        "id": "CYU1O2Cq2aPW"
      },
      "execution_count": null,
      "outputs": []
    },
    {
      "cell_type": "code",
      "source": [
        "# Definir la matriz de correlaciones\n",
        "cor=np.array([[1,0.20,0.5,0.3],[0.2,1,0.7,0.4],[0.5,0.7,1,0.9],[0.3,0.4,0.9,1]])"
      ],
      "metadata": {
        "id": "QhDtw5zE3JQO"
      },
      "execution_count": null,
      "outputs": []
    },
    {
      "cell_type": "code",
      "source": [
        "print(cor)"
      ],
      "metadata": {
        "colab": {
          "base_uri": "https://localhost:8080/"
        },
        "id": "NUZcQt093qnQ",
        "outputId": "89d737a3-fa36-403d-f37d-bbbfead0c8f7"
      },
      "execution_count": null,
      "outputs": [
        {
          "output_type": "stream",
          "name": "stdout",
          "text": [
            "[[1.  0.2 0.5 0.3]\n",
            " [0.2 1.  0.7 0.4]\n",
            " [0.5 0.7 1.  0.9]\n",
            " [0.3 0.4 0.9 1. ]]\n"
          ]
        }
      ]
    },
    {
      "cell_type": "code",
      "source": [
        "S= np.diag(sig)"
      ],
      "metadata": {
        "id": "THXaKXJr3tiu"
      },
      "execution_count": null,
      "outputs": []
    },
    {
      "cell_type": "code",
      "source": [
        "print(S)"
      ],
      "metadata": {
        "colab": {
          "base_uri": "https://localhost:8080/"
        },
        "id": "KVkegNDs3_KG",
        "outputId": "84475a95-92f8-4481-bcde-46e67e57d078"
      },
      "execution_count": null,
      "outputs": [
        {
          "output_type": "stream",
          "name": "stdout",
          "text": [
            "[[0.12 0.   0.   0.  ]\n",
            " [0.   0.12 0.   0.  ]\n",
            " [0.   0.   0.15 0.  ]\n",
            " [0.   0.   0.   0.2 ]]\n"
          ]
        }
      ]
    },
    {
      "cell_type": "code",
      "source": [
        "#Matriz de var y covar\n",
        "SIG=S @ cor @ S\n",
        "print(SIG)"
      ],
      "metadata": {
        "colab": {
          "base_uri": "https://localhost:8080/"
        },
        "id": "BJ9hIPb64IS-",
        "outputId": "080dbe2e-5056-4b95-8473-189bf7e9894f"
      },
      "execution_count": null,
      "outputs": [
        {
          "output_type": "stream",
          "name": "stdout",
          "text": [
            "[[0.0144  0.00288 0.009   0.0072 ]\n",
            " [0.00288 0.0144  0.0126  0.0096 ]\n",
            " [0.009   0.0126  0.0225  0.027  ]\n",
            " [0.0072  0.0096  0.027   0.04   ]]\n"
          ]
        }
      ]
    },
    {
      "cell_type": "code",
      "source": [
        "# Definir A,B,C\n",
        "uno = np.ones(len(mu))\n",
        "A= np.transpose(uno) @ np.linalg.inv(SIG) @ uno\n",
        "B= np.transpose(mu) @  np.linalg.inv(SIG) @ uno\n",
        "C= np.transpose(mu) @  np.linalg.inv(SIG) @ mu"
      ],
      "metadata": {
        "id": "AGibjcdQ4pBl"
      },
      "execution_count": null,
      "outputs": []
    },
    {
      "cell_type": "code",
      "source": [
        "print(B)"
      ],
      "metadata": {
        "colab": {
          "base_uri": "https://localhost:8080/"
        },
        "id": "eRaUvR7q7Y7N",
        "outputId": "acba3382-85ba-4842-ec9b-b1505574956c"
      },
      "execution_count": null,
      "outputs": [
        {
          "output_type": "stream",
          "name": "stdout",
          "text": [
            "63.816425120772465\n"
          ]
        }
      ]
    },
    {
      "cell_type": "code",
      "source": [
        "\n",
        "MAT = np.array([[C,B],[B,A]])"
      ],
      "metadata": {
        "id": "8bx5jp6j5N8e"
      },
      "execution_count": null,
      "outputs": []
    },
    {
      "cell_type": "code",
      "source": [
        "gl= np.linalg.inv(MAT) @ np.array([m,1])\n",
        "print(gl)"
      ],
      "metadata": {
        "colab": {
          "base_uri": "https://localhost:8080/"
        },
        "id": "OOMXHU7Z6bAu",
        "outputId": "c2ebb42c-39f4-4d0b-e830-055c045b5cb2"
      },
      "execution_count": null,
      "outputs": [
        {
          "output_type": "stream",
          "name": "stdout",
          "text": [
            "[-0.08485456  0.01405216]\n"
          ]
        }
      ]
    },
    {
      "cell_type": "code",
      "source": [
        "w = (1/(A*C-B**2))* np.linalg.inv(SIG) @ ((A*mu-B*uno)*m+(C*uno-B*mu))\n",
        "print(w)"
      ],
      "metadata": {
        "colab": {
          "base_uri": "https://localhost:8080/"
        },
        "id": "euNBQBYb7Gj1",
        "outputId": "9ea4cf40-7715-4eac-f51f-b823e17ba55a"
      },
      "execution_count": null,
      "outputs": [
        {
          "output_type": "stream",
          "name": "stdout",
          "text": [
            "[ 0.76228686  0.84419926 -0.98762956  0.38114343]\n"
          ]
        }
      ]
    },
    {
      "cell_type": "code",
      "source": [
        "w @ mu"
      ],
      "metadata": {
        "colab": {
          "base_uri": "https://localhost:8080/"
        },
        "id": "zLBguvUd9BS-",
        "outputId": "f017eee7-92ac-49ef-c964-268d70c60e1f"
      },
      "execution_count": null,
      "outputs": [
        {
          "output_type": "execute_result",
          "data": {
            "text/plain": [
              "0.10000000000000046"
            ]
          },
          "metadata": {},
          "execution_count": 17
        }
      ]
    },
    {
      "cell_type": "code",
      "source": [
        "w @ SIG @ w.transpose()"
      ],
      "metadata": {
        "colab": {
          "base_uri": "https://localhost:8080/"
        },
        "id": "2uqJBaAi9Fxl",
        "outputId": "834d5ab6-393e-4351-fe45-47584c95921b"
      },
      "execution_count": null,
      "outputs": [
        {
          "output_type": "execute_result",
          "data": {
            "text/plain": [
              "0.0055667001003013505"
            ]
          },
          "metadata": {},
          "execution_count": 18
        }
      ]
    },
    {
      "cell_type": "code",
      "source": [
        "#b)\n",
        "# Definir la matriz de correlaciones\n",
        "cor= np.diag(np.ones(len(mu)))"
      ],
      "metadata": {
        "id": "nDanl3KjhOyj"
      },
      "execution_count": null,
      "outputs": []
    },
    {
      "cell_type": "code",
      "source": [
        "#Matriz de var y covar\n",
        "SIG=S @ cor @ S\n",
        "print(SIG)"
      ],
      "metadata": {
        "colab": {
          "base_uri": "https://localhost:8080/"
        },
        "id": "Hp5snkmhiNc1",
        "outputId": "5fa0a9f8-d3d1-4e9a-fa4c-78cd2ee52d28"
      },
      "execution_count": null,
      "outputs": [
        {
          "output_type": "stream",
          "name": "stdout",
          "text": [
            "[[0.0144 0.     0.     0.    ]\n",
            " [0.     0.0144 0.     0.    ]\n",
            " [0.     0.     0.0225 0.    ]\n",
            " [0.     0.     0.     0.04  ]]\n"
          ]
        }
      ]
    },
    {
      "cell_type": "code",
      "source": [
        "# Definir A,B,C\n",
        "uno = np.ones(len(mu))\n",
        "A= np.transpose(uno) @ np.linalg.inv(SIG) @ uno\n",
        "B= np.transpose(mu) @  np.linalg.inv(SIG) @ uno\n",
        "C= np.transpose(mu) @  np.linalg.inv(SIG) @ mu"
      ],
      "metadata": {
        "id": "YvNIVfwuiUBC"
      },
      "execution_count": null,
      "outputs": []
    },
    {
      "cell_type": "code",
      "source": [
        "print(B)"
      ],
      "metadata": {
        "colab": {
          "base_uri": "https://localhost:8080/"
        },
        "id": "HCIuLQl7iWhy",
        "outputId": "ba578028-95e1-41a1-cfaf-e24f4e9c9883"
      },
      "execution_count": null,
      "outputs": [
        {
          "output_type": "stream",
          "name": "stdout",
          "text": [
            "20.444444444444443\n"
          ]
        }
      ]
    },
    {
      "cell_type": "code",
      "source": [
        "MAT = np.array([[C,B],[B,A]])"
      ],
      "metadata": {
        "id": "uVXkuTJ9iZny"
      },
      "execution_count": null,
      "outputs": []
    },
    {
      "cell_type": "code",
      "source": [
        "gl= np.linalg.inv(MAT) @ np.array([m,1])\n",
        "print(gl)"
      ],
      "metadata": {
        "colab": {
          "base_uri": "https://localhost:8080/"
        },
        "id": "imNjg4JWicY7",
        "outputId": "9353cb8c-413c-4fc6-ed24-7086c868d946"
      },
      "execution_count": null,
      "outputs": [
        {
          "output_type": "stream",
          "name": "stdout",
          "text": [
            "[0.02783915 0.00206805]\n"
          ]
        }
      ]
    },
    {
      "cell_type": "code",
      "source": [
        "w = (1/(A*C-B**2))* np.linalg.inv(SIG) @ ((A*mu-B*uno)*m+(C*uno-B*mu))\n",
        "print(w)"
      ],
      "metadata": {
        "colab": {
          "base_uri": "https://localhost:8080/"
        },
        "id": "Z-txEYIdidPD",
        "outputId": "957f1321-6233-4945-a6b4-e8440f7998ef"
      },
      "execution_count": null,
      "outputs": [
        {
          "output_type": "stream",
          "name": "stdout",
          "text": [
            "[0.29827662 0.33694211 0.21564295 0.14913831]\n"
          ]
        }
      ]
    },
    {
      "cell_type": "markdown",
      "source": [
        "# Cuarto punto\n",
        "\n"
      ],
      "metadata": {
        "id": "OGD2GyavjhP3"
      }
    },
    {
      "cell_type": "code",
      "source": [
        "# Definir mu y sig\n",
        "import numpy as np\n",
        "mu=np.array([0.1,0.2])\n",
        "sig = np.array([0.1,0.2])\n",
        "m=0.05"
      ],
      "metadata": {
        "id": "F4ck9KU5jlCy"
      },
      "execution_count": null,
      "outputs": []
    },
    {
      "cell_type": "markdown",
      "source": [
        "# Ejercico del examen"
      ],
      "metadata": {
        "id": "q6C023zVqgbS"
      }
    },
    {
      "cell_type": "code",
      "source": [
        "# Definir mu y sig\n",
        "import numpy as np\n",
        "mu=np.array([0.02,0.07,0.15,0.2])\n",
        "sig = np.array([0.05,0.12,0.17,0.25])\n",
        "m=0.05"
      ],
      "metadata": {
        "id": "wrVribHtqjRZ"
      },
      "execution_count": null,
      "outputs": []
    },
    {
      "cell_type": "code",
      "source": [
        "# Definir la matriz de correlaciones\n",
        "cor=np.array([[1,0.30,0.3,0.3],[0.3,1,0.6,0.6],[0.3,0.6,1,0.6],[0.3,0.6,0.6,1]])"
      ],
      "metadata": {
        "id": "tHqnsundrA6i"
      },
      "execution_count": null,
      "outputs": []
    },
    {
      "cell_type": "markdown",
      "source": [
        "$$\n",
        "L(\\omega,λ,\\gamma) = \\frac{1}{2} \\omega'\\Sigma \\omega - λ(\\omega'\\mu-m) - \\gamma (ω'1 -1)\n",
        "$$\n",
        "$$\n",
        "\\frac{\\partial L}{∂ \\omega} =  \\Sigma \\omega - λ * \\mu - \\gamma*1 = 0\n",
        "$$\n",
        "$$\n",
        "\\frac{\\partial L}{∂ λ} =  \\omega'\\mu-m = 0\n",
        "$$\n",
        "$$\n",
        "\\frac{\\partial L}{∂ \\gamma} =  ω'1 -1 = 0\n",
        "$$\n",
        "Por lo tanto\n",
        "\n",
        "$$\n",
        "ω^* = \\Sigma^{-1}(λ\\mu+\\gamma1)\n",
        "$$\n",
        "Ahora faltaría encontrar el $\\gamma$ y el $λ$\n",
        "$$\n",
        "A = 1'Σ^{-1}1 \\\\\n",
        "B = 1'Σ^{-1}\\mu\\\\\n",
        "C = \\mu'Σ^{-1}\\mu\n",
        "$$\n",
        "Sistema de ecuaciones\n",
        "$$\n",
        "C\\lambda + B \\gamma = m\\\\\n",
        "B\\lambda + A \\gamma = 1\n",
        "$$\n",
        "Se tiene el valor optimo de ω\n",
        "$$\n",
        "ω^* = \\Sigma^{-1}(λ\\mu+\\gamma1)\n",
        "$$\n"
      ],
      "metadata": {
        "id": "Sm_R6x6Jq0LM"
      }
    },
    {
      "cell_type": "markdown",
      "source": [
        "# C) Genere 700"
      ],
      "metadata": {
        "id": "PkWFy8euyZ6n"
      }
    },
    {
      "cell_type": "code",
      "source": [
        "B=700\n",
        "p=4\n",
        "mu=np.array([0.02,0.07,0.15,0.2])\n",
        "sig = np.array([0.05,0.12,0.17,0.25])\n",
        "S= np.diag(sig)\n",
        "R=np.array([[1,0.30,0.3,0.3],[0.3,1,0.6,0.6],[0.3,0.6,1,0.6],[0.3,0.6,0.6,1]])\n",
        "C = S @ R @ S\n",
        "M=[]\n",
        "for i in range(B):\n",
        "  M=M+[np.random.multivariate_normal(mu,C,p)]"
      ],
      "metadata": {
        "id": "4BKYNlVzsPsR"
      },
      "execution_count": null,
      "outputs": []
    },
    {
      "cell_type": "code",
      "source": [
        "np.mean(mu)"
      ],
      "metadata": {
        "colab": {
          "base_uri": "https://localhost:8080/"
        },
        "id": "afqGpXIT4Ji_",
        "outputId": "225340a2-35bd-4881-cc95-12b872b91297"
      },
      "execution_count": null,
      "outputs": [
        {
          "output_type": "execute_result",
          "data": {
            "text/plain": [
              "0.11"
            ]
          },
          "metadata": {},
          "execution_count": 67
        }
      ]
    },
    {
      "cell_type": "code",
      "source": [
        "W=[]\n",
        "for i in range(B):\n",
        "  a=np.random.normal(0.25,0.3,1)\n",
        "  b=np.random.normal(0.25,0.3,1)\n",
        "  c=np.random.normal(0.25,0.3,1)\n",
        "  W=W+[[a[0],b[0],c[0],1-a[0]-b[0]-c[0]]]"
      ],
      "metadata": {
        "id": "gTM9IvLesPpi"
      },
      "execution_count": null,
      "outputs": []
    },
    {
      "cell_type": "code",
      "source": [
        "np.sum(W[1])"
      ],
      "metadata": {
        "colab": {
          "base_uri": "https://localhost:8080/"
        },
        "id": "KHhMftjo1W8w",
        "outputId": "9f0aeec4-0458-4295-ccca-410a23c62f7c"
      },
      "execution_count": null,
      "outputs": [
        {
          "output_type": "execute_result",
          "data": {
            "text/plain": [
              "1.0"
            ]
          },
          "metadata": {},
          "execution_count": 49
        }
      ]
    },
    {
      "cell_type": "code",
      "source": [
        "mu_np = []\n",
        "for i in range(len(mu)):\n",
        "  mu_np = mu_np + [np.array(mu[i])]\n",
        "mu_p =[]\n",
        "for i in range(B):\n",
        "  x=0\n",
        "  for j in range(p):\n",
        "    x=x+W[i][j]*mu_np[j]\n",
        "  mu_p=mu_p + [x]"
      ],
      "metadata": {
        "id": "T2tBIjRh1aMY"
      },
      "execution_count": null,
      "outputs": []
    },
    {
      "cell_type": "code",
      "source": [
        "import matplotlib.pyplot as plt\n",
        "plt.plot(mu_p)\n",
        "plt.hlines(y=np.mean(mu),xmin=0,xmax=700,color=\"red\")\n",
        "plt.show()"
      ],
      "metadata": {
        "colab": {
          "base_uri": "https://localhost:8080/",
          "height": 430
        },
        "id": "ejmlKpbc19p4",
        "outputId": "2f6d6f2a-16ba-486c-9d0a-7d197b3acf47"
      },
      "execution_count": null,
      "outputs": [
        {
          "output_type": "display_data",
          "data": {
            "text/plain": [
              "<Figure size 640x480 with 1 Axes>"
            ],
            "image/png": "[encoded data removed]"
          },
          "metadata": {}
        }
      ]
    },
    {
      "cell_type": "code",
      "source": [
        "sig_p = []\n",
        "for i in range(B):\n",
        "    sig_p.append(np.sqrt(W[i] @ C @ np.transpose(W[i])))\n"
      ],
      "metadata": {
        "id": "dYYXFcoz4l5h"
      },
      "execution_count": null,
      "outputs": []
    },
    {
      "cell_type": "code",
      "source": [
        "plt.scatter(sig_p,mu_p)\n",
        "plt.show()"
      ],
      "metadata": {
        "colab": {
          "base_uri": "https://localhost:8080/",
          "height": 430
        },
        "id": "ih4n4q8T5zrY",
        "outputId": "6b2b4fd0-a09d-402a-f3aa-76d73d0a0ce9"
      },
      "execution_count": null,
      "outputs": [
        {
          "output_type": "display_data",
          "data": {
            "text/plain": [
              "<Figure size 640x480 with 1 Axes>"
            ],
            "image/png": "[encoded data removed]"
          },
          "metadata": {}
        }
      ]
    },
    {
      "cell_type": "markdown",
      "source": [
        "# VaR(α) y Es($\\alpha$)"
      ],
      "metadata": {
        "id": "2JtofNRQWadj"
      }
    },
    {
      "cell_type": "code",
      "source": [
        "pip install scipy\n"
      ],
      "metadata": {
        "colab": {
          "base_uri": "https://localhost:8080/"
        },
        "id": "bOV04dYiWgFG",
        "outputId": "9bf1340c-c397-4507-9189-d9935a27475b"
      },
      "execution_count": null,
      "outputs": [
        {
          "output_type": "stream",
          "name": "stdout",
          "text": [
            "Requirement already satisfied: scipy in /usr/local/lib/python3.10/dist-packages (1.11.1)\n",
            "Requirement already satisfied: numpy<1.28.0,>=1.21.6 in /usr/local/lib/python3.10/dist-packages (from scipy) (1.25.1)\n"
          ]
        }
      ]
    },
    {
      "cell_type": "code",
      "source": [
        "from scipy.stats import norm\n",
        "\n",
        "media = 15.29\n",
        "desviacion_estandar = 13.81\n",
        "percentil = 0.95\n",
        "\n",
        "cuantil = norm.ppf(percentil, loc=media, scale=desviacion_estandar)\n",
        "\n",
        "print(f\"El cuantil del {percentil*100}% de la distribución normal es: {cuantil}\")\n"
      ],
      "metadata": {
        "colab": {
          "base_uri": "https://localhost:8080/"
        },
        "id": "fepAoCzyh_dp",
        "outputId": "e7c0e16e-4df2-4ad2-faa4-d8b53dbb713f"
      },
      "execution_count": null,
      "outputs": [
        {
          "output_type": "stream",
          "name": "stdout",
          "text": [
            "El cuantil del 95.0% de la distribución normal es: 38.005428588199834\n"
          ]
        }
      ]
    },
    {
      "cell_type": "code",
      "source": [
        "from scipy.stats import norm\n",
        "\n",
        "media = -0.0037\n",
        "desviacion_estandar = 0.0147\n",
        "percentil = 0.99\n",
        "\n",
        "cuantil = norm.ppf(percentil, loc=media, scale=desviacion_estandar)\n",
        "\n",
        "print(f\"El cuantil del {percentil*100}% de la distribución normal es: {cuantil}\")"
      ],
      "metadata": {
        "colab": {
          "base_uri": "https://localhost:8080/"
        },
        "id": "JvFfDjRPmQry",
        "outputId": "261791d6-f5a7-47bb-82f2-fc78e56c2aea"
      },
      "execution_count": null,
      "outputs": [
        {
          "output_type": "stream",
          "name": "stdout",
          "text": [
            "El cuantil del 99.0% de la distribución normal es: 0.030497313748400354\n"
          ]
        }
      ]
    },
    {
      "cell_type": "code",
      "source": [
        "from scipy.stats import norm\n",
        "\n",
        "media = -0.0037\n",
        "desviacion_estandar = 0.01476\n",
        "percentil = 0.99\n",
        "\n",
        "cuantil = media +(desviacion_estandar/(1-percentil))*norm.ppf(percentil, loc=0, scale=1)\n",
        "\n",
        "print(f\"El cuantil del {percentil*100}% de la distribución normal es: {cuantil}\")"
      ],
      "metadata": {
        "colab": {
          "base_uri": "https://localhost:8080/"
        },
        "id": "UKY9_ZJmm77f",
        "outputId": "62c4cd3d-7c65-483f-ae1d-b61ee3587212"
      },
      "execution_count": null,
      "outputs": [
        {
          "output_type": "stream",
          "name": "stdout",
          "text": [
            "El cuantil del 99.0% de la distribución normal es: 3.429989462084278\n"
          ]
        }
      ]
    },
    {
      "cell_type": "markdown",
      "source": [
        "# Tener cuidado\n",
        "\n",
        "Dejarlo en decimales"
      ],
      "metadata": {
        "id": "0LLYgaNtoTvI"
      }
    },
    {
      "cell_type": "code",
      "source": [
        "from scipy import integrate\n",
        "\n",
        "def f(x):\n",
        "    return (1/(1-percentil))\n",
        "\n",
        "a = 0\n",
        "b = 2\n",
        "\n",
        "resultado, error = integrate.quad(f, a, b)\n",
        "\n",
        "print(f\"El resultado de la integral definida es: {resultado}\")\n",
        "print(f\"El error estimado de la integración es: {error}\")\n"
      ],
      "metadata": {
        "id": "Ky_9GpRKiWO4"
      },
      "execution_count": null,
      "outputs": []
    }
  ]
}
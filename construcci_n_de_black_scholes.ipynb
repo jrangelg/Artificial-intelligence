{
  "nbformat": 4,
  "nbformat_minor": 0,
  "metadata": {
    "colab": {
      "provenance": [],
      "authorship_tag": "ABX9TyPCmWUJa6CYSjcCh+wlyght",
      "include_colab_link": true
    },
    "kernelspec": {
      "name": "python3",
      "display_name": "Python 3"
    },
    "language_info": {
      "name": "python"
    }
  },
  "cells": [
    {
      "cell_type": "markdown",
      "metadata": {
        "id": "view-in-github",
        "colab_type": "text"
      },
      "source": [
        "<a href=\"https://colab.research.google.com/github/jrangelg/Artificial-intelligence/blob/main/construcci_n_de_black_scholes.ipynb\" target=\"_parent\"><img src=\"https://colab.research.google.com/assets/colab-badge.svg\" alt=\"Open In Colab\"/></a>"
      ]
    },
    {
      "cell_type": "markdown",
      "source": [
        "# CONSTRUCCIÓN DEL MODELO DE BLACK SCHOLES\n",
        "\n",
        "Se tienes dos activos\n",
        "\n",
        "$$dR_t= \\rho R_t$$ Activo en resta fija\n",
        "\n",
        "$$dS_t = \\mu S_t dt + \\sigma S_t dB_t$$\n",
        "\n",
        "Activo en renta variables"
      ],
      "metadata": {
        "id": "-ca7LM4M-tYQ"
      }
    },
    {
      "cell_type": "markdown",
      "source": [
        "$$dS_t = \\mu S_t dt + \\sigma S_t dB_t$$\n",
        "$$S_t := S_0 e^{(\\mu-\\frac{1}{2}\\sigma^2)t + \\sigma B_t}$$\n",
        "Sobre un comportamiento monótono se hace la estimación de la media y de la volatilidad del activo sobre los retornos logarítmicos.\n",
        "\n",
        "$$\n",
        "u_t := log\\left(\\frac{S_t}{S_{t-1}}\\right)\n",
        "$$\n",
        "$$\n",
        "\\hat \\mu = \\bar u / (\\Delta t)\n",
        "$$\n",
        "\n",
        "$$\n",
        "\\hat \\sigma = s_u/ (\\Delta t)\n",
        "$$"
      ],
      "metadata": {
        "id": "BeSJjSNA55GQ"
      }
    },
    {
      "cell_type": "markdown",
      "source": [
        "$$E(S_t):=S_0e^{\\mu t}$$"
      ],
      "metadata": {
        "id": "SijrdC397ia3"
      }
    },
    {
      "cell_type": "markdown",
      "source": [
        "$$d\\Pi = r\\Pi dt$$\n",
        "\n",
        "$$\\Pi = \\Pi_0e^{rt}$$"
      ],
      "metadata": {
        "id": "d8CkbV-o7QRu"
      }
    },
    {
      "cell_type": "markdown",
      "source": [
        "## Finanzas cuantitativas\n",
        "\n",
        "# Descom de la acción\n",
        "\n",
        "$$\n",
        "S_t = K+C_t-P_t\n",
        "$$\n",
        "\n",
        "# Estrategía sin interes\n",
        "\n",
        "$$\n",
        "C(S_t,T) - S_t = P(S_t,T)-K\n",
        "$$\n",
        "\n",
        "$$\n",
        "Π(S_t,T) - S_t\n",
        "$$"
      ],
      "metadata": {
        "id": "HDGEU9KU2yzf"
      }
    },
    {
      "cell_type": "markdown",
      "source": [
        "K: Precio inicial del activo Strike\n",
        "\n",
        "\n",
        "$S_t$: Stock precio del activo en un tiempo fijo"
      ],
      "metadata": {
        "id": "v2va-9SK_fbw"
      }
    },
    {
      "cell_type": "markdown",
      "source": [
        "$$\n",
        "C_t:=(S_t-K)^+ = máx\\{S_t-K,0\\}\n",
        "$$\n",
        "\n",
        "$$\n",
        "P_t:=(K-S_t)^+ = máx\\{K-S_t,0\\}\n",
        "$$\n",
        "# Contrato europeo, bajo renta fija\n",
        "Límite de una sucesión binomial se tiene la exponencial\n",
        "$$\n",
        "\\lim_{n \\rightarrow \\infty}(1+\\frac{tr}{n})^n = e^{tr}\n",
        "$$\n",
        "$$\n",
        "\\lim_{n \\rightarrow \\infty}S_0(1+\\frac{tr}{n})^n = S_0e^{tr}\n",
        "$$\n",
        "# Tasa de inetrés por unidad de tiempo\n",
        "$$\n",
        "C(S_t,T) - S_t = P(S_t,T)-Ke^{-r(T-t)}\n",
        "$$"
      ],
      "metadata": {
        "id": "5PoU5ely4vAM"
      }
    },
    {
      "cell_type": "markdown",
      "source": [
        "# Matriz de rendimiento\n",
        "\n"
      ],
      "metadata": {
        "id": "STjXhq9Z7cTN"
      }
    },
    {
      "cell_type": "code",
      "source": [
        "import numpy as np\n",
        "\n",
        "A=np.array([[20,60],[20,40]])\n",
        "b=np.array([15,0])"
      ],
      "metadata": {
        "id": "scybDkiO7b61"
      },
      "execution_count": null,
      "outputs": []
    },
    {
      "cell_type": "code",
      "source": [
        "print(A)"
      ],
      "metadata": {
        "id": "oJ2W1HPwKUOS",
        "outputId": "0eb7e428-d218-4b6f-cc00-419b033d9945",
        "colab": {
          "base_uri": "https://localhost:8080/"
        }
      },
      "execution_count": null,
      "outputs": [
        {
          "output_type": "stream",
          "name": "stdout",
          "text": [
            "[[20 60]\n",
            " [20 40]]\n"
          ]
        }
      ]
    },
    {
      "cell_type": "code",
      "source": [
        "np.linalg.inv(A) @ b"
      ],
      "metadata": {
        "colab": {
          "base_uri": "https://localhost:8080/"
        },
        "id": "T3QIixjN7bBl",
        "outputId": "09d4036b-ecb2-4bca-9f93-e6b0206f42fd"
      },
      "execution_count": null,
      "outputs": [
        {
          "output_type": "execute_result",
          "data": {
            "text/plain": [
              "array([-1.5 ,  0.75])"
            ]
          },
          "metadata": {},
          "execution_count": 2
        }
      ]
    },
    {
      "cell_type": "markdown",
      "source": [
        "# EC BLACK SCHOLES\n",
        "\n",
        "La ecuación de Black-Scholes es un modelo matemático utilizado para calcular el precio teórico de las opciones financieras, especialmente las opciones europeas de compra (call) y venta (put). Desarrollada por Fischer Black, Myron Scholes y Robert Merton en 1973, esta ecuación se basa en la suposición de que el precio del activo subyacente sigue un proceso estocástico de difusión geométrica. La fórmula considera factores como el precio actual del activo subyacente, el precio de ejercicio de la opción, el tiempo hasta la madurez de la opción, la volatilidad del activo y la tasa de interés libre de riesgo. La ecuación de Black-Scholes ayuda a los inversionistas a valorar opciones y tomar decisiones informadas sobre la compra o venta de estos instrumentos financieros.\n",
        "\n",
        "## Ecuaciones de Black-Scholes\n",
        "\n",
        "La fórmula de Black-Scholes para una opción de compra (Call) es:\n",
        "\n",
        "$$\n",
        "C = S_0 \\cdot N(d_1) - K \\cdot e^{-rT} \\cdot N(d_2)\n",
        "$$\n",
        "\n",
        "Y para una opción de venta (Put) es:\n",
        "\n",
        "$$\n",
        "P = K \\cdot e^{-rT} \\cdot N(-d_2) - S_0 \\cdot N(-d_1)\n",
        "$$\n",
        "\n",
        "Donde:\n",
        "\n",
        "$$\n",
        "d_1 = \\frac{\\ln\\left(\\frac{S_0}{K}\\right) + \\left(r + \\frac{\\sigma^2}{2}\\right) T}{\\sigma \\sqrt{T}}\n",
        "$$\n",
        "\n",
        "$$\n",
        "d_2 = d_1 - \\sigma \\sqrt{T}\n",
        "$$\n",
        "\n",
        "### Definiciones de las variables:\n",
        "\n",
        "- \\( C \\): Precio de la opción de compra (Call)\n",
        "- \\( P \\): Precio de la opción de venta (Put)\n",
        "- \\( S_0 \\): Precio actual del activo subyacente\n",
        "- \\( K \\): Precio de ejercicio de la opción\n",
        "- \\( T \\): Tiempo hasta el vencimiento de la opción (en años)\n",
        "- \\( r \\): Tasa de interés libre de riesgo anual\n",
        "- \\( \\sigma \\): Volatilidad del activo subyacente\n",
        "- \\( N(\\cdot) \\): Función de distribución acumulativa de la normal estándar\n",
        "\n",
        "\n",
        "$$\n",
        "dS_t := \\mu S_t dt + \\sigma S_t dW_t\\\\\n",
        "dR_t := \\rho R_t dt\n",
        "$$\n",
        "Estimar tres parámetros"
      ],
      "metadata": {
        "id": "5RPF4K3y7afY"
      }
    },
    {
      "cell_type": "markdown",
      "source": [
        "# Implementación la fórmula de Black-Scholes para calcular el precio de una opción de compra (call) y una opción de venta (put):"
      ],
      "metadata": {
        "id": "VdgfH8wLBtCB"
      }
    },
    {
      "cell_type": "code",
      "source": [
        "import math\n",
        "from scipy.stats import norm\n",
        "\n",
        "# Función de Black-Scholes para opción de compra (Call)\n",
        "def black_scholes_call(S, K, T, r, sigma):\n",
        "    d1 = (math.log(S / K) + (r + (sigma ** 2) / 2) * T) / (sigma * math.sqrt(T))\n",
        "    d2 = d1 - sigma * math.sqrt(T)\n",
        "    call_price = S * norm.cdf(d1) - K * math.exp(-r * T) * norm.cdf(d2)\n",
        "    return call_price\n",
        "\n",
        "# Función de Black-Scholes para opción de venta (Put)\n",
        "def black_scholes_put(S, K, T, r, sigma):\n",
        "    d1 = (math.log(S / K) + (r + (sigma ** 2) / 2) * T) / (sigma * math.sqrt(T))\n",
        "    d2 = d1 - sigma * math.sqrt(T)\n",
        "    put_price = K * math.exp(-r * T) * norm.cdf(-d2) - S * norm.cdf(-d1)\n",
        "    return put_price\n",
        "\n",
        "# Ejemplo de parámetros\n",
        "S = 100     # Precio del activo subyacente\n",
        "K = 95      # Precio de ejercicio\n",
        "T = 1       # Tiempo hasta el vencimiento (en años)\n",
        "r = 0.05    # Tasa de interés libre de riesgo\n",
        "sigma = 0.2 # Volatilidad\n",
        "\n",
        "# Calcular precios\n",
        "call_option = black_scholes_call(S, K, T, r, sigma)\n",
        "put_option = black_scholes_put(S, K, T, r, sigma)\n",
        "\n",
        "# Imprimir resultados\n",
        "print(f\"El precio de la opción Call es: {call_option}\")\n",
        "print(f\"El precio de la opción Put es: {put_option}\")\n"
      ],
      "metadata": {
        "colab": {
          "base_uri": "https://localhost:8080/"
        },
        "id": "dtUTnaRnBstA",
        "outputId": "b36e2632-1276-4cb1-da4b-bf3bf478e423"
      },
      "execution_count": null,
      "outputs": [
        {
          "output_type": "stream",
          "name": "stdout",
          "text": [
            "El precio de la opción Call es: 13.346464945879582\n",
            "El precio de la opción Put es: 3.713260273447414\n"
          ]
        }
      ]
    },
    {
      "cell_type": "markdown",
      "source": [
        "$$f(x,y)\\\\\n",
        "df(x,y)= \\frac{df}{dx}dx +\\frac{df}{dy}dy\n",
        "$$"
      ],
      "metadata": {
        "id": "7dFVpTKT4uVO"
      }
    },
    {
      "cell_type": "markdown",
      "source": [
        "Combinación lineal de un activo de renta fija $R_t$ y un activo de recta variable con parámetros estimados $S_t$"
      ],
      "metadata": {
        "id": "IoOAKsgZ90gx"
      }
    },
    {
      "cell_type": "markdown",
      "source": [
        "Haciendo uso de la formula de Ito"
      ],
      "metadata": {
        "id": "W8ZeFlDsDXTp"
      }
    },
    {
      "cell_type": "markdown",
      "source": [
        "$$V_t := \\alpha R_t + \\beta S_t\\\\\n",
        "dV_t := \\frac{dV}{dt}dt +\\frac{dV}{dS}dS + \\frac{1}{2}\\frac{d^2V}{dS^2}dS^2\\\\\n",
        "\\Delta W_t \\sim N(0, \\Delta t)\\\\\n",
        "dV_t := \\frac{dV}{dt}dt + \\mu S dt + \\frac{1}{2}\\frac{d^2V}{dS^2} \\sigma^2 S^2 dt +\\sigma S_t \\frac{dV}{dS}dW\\\\\n",
        "$$"
      ],
      "metadata": {
        "id": "mnsPiROf5mA9"
      }
    },
    {
      "cell_type": "markdown",
      "source": [
        "Ecuación de Balck Scholes.\n",
        "\n",
        "Modela el precio del contrato Call dados $\\mu$, $\\sigma$, $\\rho$"
      ],
      "metadata": {
        "id": "aCVL6IGw-cIB"
      }
    },
    {
      "cell_type": "markdown",
      "source": [
        "$$\n",
        "dV_t := \\left(\\frac{dV}{dt} + \\mu S  + \\frac{1}{2}\\frac{d^2V}{dS^2} \\sigma^2 S^2 \\right)dt +\\sigma S_t \\frac{dV}{dS}dW\n",
        "$$"
      ],
      "metadata": {
        "id": "1KXdwvEnHkq4"
      }
    },
    {
      "cell_type": "markdown",
      "source": [
        "$$\\Pi = V(S,t) - \\Delta S$$\n",
        "$$d\\Pi = dV(S,t) - \\Delta S dS$$\n",
        "\n",
        "$$\n",
        "d\\Pi := \\left(\\frac{dV}{dt} + \\mu S  + \\frac{1}{2}\\frac{d^2V}{dS^2} \\sigma^2 S^2 \\right)dt +\\sigma S_t \\frac{dV}{dS}dW - \\Delta \\left(\\mu S_t dt + \\sigma S_t dW_t\\right)\n",
        "$$\n",
        "\n",
        "$$\n",
        "d\\Pi := \\left(\\frac{dV}{dt} + \\mu S  + \\frac{1}{2}\\frac{d^2V}{dS^2} \\sigma^2 S^2 \\right)dt +\\sigma S_t \\frac{dV}{dS}dW - \\frac{dV}{dS} \\left(\\mu S_t dt + \\sigma S_t dW_t\\right)\n",
        "$$\n",
        "\n",
        "$$\n",
        "d\\Pi := \\left(\\frac{dV}{dt} +  \\frac{1}{2}\\frac{d^2V}{dS^2} \\sigma^2 S^2 \\right)dt\n",
        "$$"
      ],
      "metadata": {
        "id": "pQil19NrHkoi"
      }
    },
    {
      "cell_type": "markdown",
      "source": [
        "$$\n",
        "d\\Pi = r\\Pi dt\n",
        "$$"
      ],
      "metadata": {
        "id": "_RlrnsIx4GwV"
      }
    },
    {
      "cell_type": "markdown",
      "source": [
        "$$\\left(\\frac{dV}{dt} +  \\frac{1}{2}\\frac{d^2V}{dS^2} \\sigma^2 S^2 \\right)dt  = r(V - \\frac{dV}{dS}S)dt $$\n",
        "$$\n",
        "\\frac{dV}{dt} +  \\frac{1}{2}\\frac{d^2V}{dS^2} \\sigma^2 S^2  + r\\frac{dV}{dS}S -rV = 0\n",
        "$$"
      ],
      "metadata": {
        "id": "xK6qpb1DL-gx"
      }
    },
    {
      "cell_type": "markdown",
      "source": [
        "$\\Pi = C - P$"
      ],
      "metadata": {
        "id": "gc48dJMoMhaa"
      }
    },
    {
      "cell_type": "markdown",
      "source": [
        "# TALLER 1\n",
        "\n",
        "## 1)\n",
        "$$C = S exp(-D(T-t))N(d_1) - E exp(-r(T-t))N(d_2)$$\n",
        "$$\n",
        "\\Delta = \\frac{dC}{dS} = exp(-D(T-t))N(d_1)\n",
        "$$"
      ],
      "metadata": {
        "id": "Y1yg4MVwPaQp"
      }
    },
    {
      "cell_type": "markdown",
      "source": [
        "C(S_t,T) - S_t = P(S_t,T)-K"
      ],
      "metadata": {
        "id": "ORNdaIL23yKd"
      }
    },
    {
      "cell_type": "code",
      "source": [
        "C_t = \\fra"
      ],
      "metadata": {
        "id": "8F8_mPwb-2A7"
      },
      "execution_count": null,
      "outputs": []
    },
    {
      "cell_type": "code",
      "source": [
        "\n",
        "import numpy as np\n",
        "import matplotlib.pyplot as plt\n",
        "from scipy.stats import norm\n",
        "\n",
        "def black_scholes_call(S, K, T, r, sigma,contrato):\n",
        "  \"\"\"\n",
        "  Calculate the price of a European call option using the Black-Scholes model.\n",
        "\n",
        "  Args:\n",
        "    S: Current price of the underlying asset.\n",
        "    K: Strike price of the option.\n",
        "    T: Time to maturity (in years).\n",
        "    r: Risk-free interest rate.\n",
        "    sigma: Volatility of the underlying asset.\n",
        "\n",
        "  Returns:\n",
        "    The price of the call option.\n",
        "  \"\"\"\n",
        "  d1 = (np.log(S / K) + (r + 0.5 * sigma ** 2) * T) / (sigma * np.sqrt(T))\n",
        "  d2 = d1 - sigma * np.sqrt(T)\n",
        "  if contrato == 'call':\n",
        "      call_price = S * norm.cdf(d1) - K * np.exp(-r * T) * norm.cdf(d2)\n",
        "  else:\n",
        "      call_price = K * np.exp(-r * T) * norm.cdf(-d2) - S * norm.cdf(-d1)\n",
        "  return call_price\n",
        "\n",
        "# Example usage\n",
        "S = 100  # Current price of the underlying asset\n",
        "K = 100  # Strike price of the option\n",
        "T = 1    # Time to maturity (in years)\n",
        "r = 0.05 # Risk-free interest rate\n",
        "sigma = 0.2 # Volatility of the underlying asset\n",
        "\n",
        "call_price = black_scholes_call(S, K, T, r, sigma, \"call\")\n",
        "print(f\"The price of the call option is: {call_price}\")\n",
        "\n",
        "# Simulate the price of the call option\n",
        "S_range = np.linspace(80, 120, 100)\n",
        "call_prices = [black_scholes_call(s, K, T, r, sigma, \"call\") for s in S_range]\n",
        "\n",
        "# Plot the price of the call option\n",
        "plt.plot(S_range, call_prices)\n",
        "plt.xlabel(\"Underlying Asset Price (S)\")\n",
        "plt.ylabel(\"Call Option Price\")\n",
        "plt.title(\"Black-Scholes Call Option Price\")\n",
        "plt.grid(True)\n",
        "plt.show()"
      ],
      "metadata": {
        "colab": {
          "base_uri": "https://localhost:8080/",
          "height": 489
        },
        "id": "_xof-mKG5R6m",
        "outputId": "8e561592-8141-4671-eee9-d50cda0a578e"
      },
      "execution_count": null,
      "outputs": [
        {
          "output_type": "stream",
          "name": "stdout",
          "text": [
            "The price of the call option is: 10.450583572185565\n"
          ]
        },
        {
          "output_type": "display_data",
          "data": {
            "text/plain": [
              "<Figure size 640x480 with 1 Axes>"
            ],
            "image/png": "[encoded data removed]"
          },
          "metadata": {}
        }
      ]
    },
    {
      "cell_type": "code",
      "source": [
        "call_price = black_scholes_call(S, K, T, r, sigma, \"put\")\n",
        "print(f\"The price of the call option is: {call_price}\")\n",
        "\n",
        "# Simulate the price of the call option\n",
        "S_range = np.linspace(80, 120, 100)\n",
        "call_prices = [black_scholes_call(s, K, T, r, sigma, \"put\") for s in S_range]\n",
        "\n",
        "# Plot the price of the call option\n",
        "plt.plot(S_range, call_prices)\n",
        "plt.xlabel(\"Underlying Asset Price (S)\")\n",
        "plt.ylabel(\"Put Option Price\")\n",
        "plt.title(\"Black-Scholes Call Option Price\")\n",
        "plt.grid(True)\n",
        "plt.show()"
      ],
      "metadata": {
        "colab": {
          "base_uri": "https://localhost:8080/",
          "height": 489
        },
        "id": "-j74-Xa9Cglq",
        "outputId": "451a069e-2773-427a-866d-6dc099291137"
      },
      "execution_count": null,
      "outputs": [
        {
          "output_type": "stream",
          "name": "stdout",
          "text": [
            "The price of the call option is: 5.573526022256971\n"
          ]
        },
        {
          "output_type": "display_data",
          "data": {
            "text/plain": [
              "<Figure size 640x480 with 1 Axes>"
            ],
            "image/png": "[encoded data removed]"
          },
          "metadata": {}
        }
      ]
    }
  ]
}
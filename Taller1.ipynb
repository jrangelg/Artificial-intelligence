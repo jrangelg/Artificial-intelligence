{
  "nbformat": 4,
  "nbformat_minor": 0,
  "metadata": {
    "colab": {
      "provenance": [],
      "authorship_tag": "ABX9TyPiRG22aUJ0dFZokNR/B5Mc",
      "include_colab_link": true
    },
    "kernelspec": {
      "name": "ir",
      "display_name": "R"
    },
    "language_info": {
      "name": "R"
    }
  },
  "cells": [
    {
      "cell_type": "markdown",
      "metadata": {
        "id": "view-in-github",
        "colab_type": "text"
      },
      "source": [
        "<a href=\"https://colab.research.google.com/github/jrangelg/Artificial-intelligence/blob/main/Taller1.ipynb\" target=\"_parent\"><img src=\"https://colab.research.google.com/assets/colab-badge.svg\" alt=\"Open In Colab\"/></a>"
      ]
    },
    {
      "cell_type": "markdown",
      "source": [
        "# Primer punto"
      ],
      "metadata": {
        "id": "lIFB8eGvneXc"
      }
    },
    {
      "cell_type": "code",
      "source": [
        "# prompt: como leer un archivo de excel con varias hojas\n",
        "\n",
        "# Instalar y cargar la librería readxl si aún no lo has hecho\n",
        "# install.packages(\"readxl\")\n",
        "#library(readxl)\n",
        "\n",
        "# Especifica la ruta de tu archivo Excel\n",
        "#ruta_archivo <- \"tu_archivo.xlsx\"\n",
        "\n",
        "# Obtener los nombres de todas las hojas en el archivo Excel\n",
        "#nombres_hojas <- excel_sheets(ruta_archivo)\n",
        "\n",
        "# Crear una lista vacía para almacenar los dataframes de cada hoja\n",
        "#lista_hojas <- list()\n",
        "\n",
        "# Iterar sobre cada nombre de hoja y leerla\n",
        "#for (hoja in nombres_hojas) {\n",
        "#  lista_hojas[[hoja]] <- read_excel(ruta_archivo, sheet = hoja)\n",
        "#}\n",
        "\n",
        "# Ahora la variable 'lista_hojas' es una lista donde cada elemento\n",
        "# es un dataframe que corresponde a una hoja del archivo Excel,\n",
        "# y el nombre del elemento es el nombre de la hoja.\n",
        "\n",
        "# Por ejemplo, para acceder al dataframe de la primera hoja:\n",
        "# dataframe_primera_hoja <- lista_hojas[[1]]\n",
        "\n",
        "# O si conoces el nombre de la hoja:\n",
        "# dataframe_hoja_especifica <- lista_hojas[[\"NombreDeLaHoja\"]]"
      ],
      "metadata": {
        "id": "bG5NibOS2Iv2"
      },
      "execution_count": 40,
      "outputs": []
    },
    {
      "cell_type": "code",
      "execution_count": 3,
      "metadata": {
        "colab": {
          "base_uri": "https://localhost:8080/"
        },
        "id": "lMwrbZP-ncrX",
        "outputId": "b343153d-9a9a-4ae9-ce0f-71bc3ef830c5"
      },
      "outputs": [
        {
          "output_type": "stream",
          "name": "stdout",
          "text": [
            "    precio ventas calificacion paginas\n",
            "1    35.88    525          4.1     410\n",
            "2    80.95    497          1.0     366\n",
            "3    46.81    496          4.1     287\n",
            "4    89.47    637          3.9     327\n",
            "5    94.64    477          3.5     279\n",
            "6    14.10    652          2.9     276\n",
            "7    57.53    345          1.6     261\n",
            "8    90.32    558          1.0     270\n",
            "9    59.63    512          2.8     383\n",
            "10   51.10    522          3.0     297\n",
            "11   96.12    538          2.6     306\n",
            "12   50.80    450          2.9     312\n",
            "13   70.98    467          3.9     362\n",
            "14   61.54    398          1.2     274\n",
            "15   19.26    393          2.4     250\n",
            "16   90.98    530          4.2     384\n",
            "17   32.15    545          4.3     278\n",
            "18   13.79    505          2.0     264\n",
            "19   39.51    592          2.4     238\n",
            "20   95.91    705          4.4     236\n",
            "21   90.06    451          4.4     271\n",
            "22   72.35    269          2.2     331\n",
            "23   67.65    601          1.6     355\n",
            "24   99.48    429          3.8     335\n",
            "25   69.01    431          1.4     282\n",
            "26   73.77    603          1.1     303\n",
            "27   58.97    472          5.0     265\n",
            "28   63.47    378          1.1     264\n",
            "29   36.02    518          2.4     344\n",
            "30   23.24    486          4.7     249\n",
            "31   96.67    501          3.5     398\n",
            "32   91.21    539          2.1     295\n",
            "33   72.16    463          4.0     311\n",
            "34   81.59    564          4.3     263\n",
            "35   12.22    478          2.3     271\n",
            "36   53.00    533          3.0     234\n",
            "37   78.26    610          3.8     291\n",
            "38   29.48    544          3.6     321\n",
            "39   38.64    467          3.6     316\n",
            "40   30.85    615          4.9     261\n",
            "41   22.85    599          2.7     261\n",
            "42   47.31    555          1.5     275\n",
            "43   47.24    524          3.1     375\n",
            "44   43.20    437          1.9     243\n",
            "45   23.72    636          2.9     291\n",
            "46   22.49    440          2.5     395\n",
            "47   30.97    719          4.9     295\n",
            "48   51.94    653          2.6     232\n",
            "49   33.94    476          1.9     267\n",
            "50   87.20    397          3.5     324\n",
            "51   14.12    429          1.5     281\n",
            "52   49.80    526          4.9     272\n",
            "53   81.90    475          3.1     283\n",
            "54   20.97    465          1.7     305\n",
            "55   60.49    405          3.5     380\n",
            "56   28.59    495          4.9     296\n",
            "57   21.48    422          3.7     354\n",
            "58   77.80    333          2.7     332\n",
            "59   90.55    462          2.3     294\n",
            "60   43.70    592          4.3     223\n",
            "61   69.86    442          1.6     274\n",
            "62   18.54    561          1.8     276\n",
            "63   44.56    338          4.6     302\n",
            "64   34.69    494          2.2     365\n",
            "65   83.32    552          2.5     415\n",
            "66   50.37    530          4.1     377\n",
            "67   82.91    511          1.8     293\n",
            "68   83.12    436          1.1     212\n",
            "69   81.49    415          2.6     281\n",
            "70   49.58    398          2.9     304\n",
            "71   77.90    512          2.7     342\n",
            "72   66.63    405          2.4     348\n",
            "73   73.92    451          4.5     334\n",
            "74   10.06    474          2.8     230\n",
            "75   52.78    684          3.1     342\n",
            "76   29.81    435          4.9     278\n",
            "77   44.18    524          4.1     309\n",
            "78   65.15    508          1.8     304\n",
            "79   41.66    404          2.2     321\n",
            "80   20.00    493          4.9     301\n",
            "81   31.93    644          3.3     217\n",
            "82   70.13    545          4.0     337\n",
            "83   47.59    504          2.5     319\n",
            "84   80.94    458          4.1     287\n",
            "85   19.26    295          3.2     306\n",
            "86   49.14    613          4.7     307\n",
            "87   98.65    354          1.7     311\n",
            "88   90.37    574          2.1     382\n",
            "89   89.78    691          1.4     289\n",
            "90   25.75    356          1.8     308\n",
            "91   21.76    570          4.9     358\n",
            "92   68.78    474          2.2     353\n",
            "93   40.92    343          3.9     357\n",
            "94   69.11    349          4.1     271\n",
            "95   38.83    340          1.4     400\n",
            "96   26.89    447          2.0     303\n",
            "97   80.41    354          2.1     393\n",
            "98   18.42    569          1.4     232\n",
            "99   52.01    710          1.5     301\n",
            "100  56.04    371          5.0     362\n"
          ]
        }
      ],
      "source": [
        "set.seed(123)\n",
        "libreria <- data.frame (\n",
        "precio = round( runif(100 , 10 , 100) , 2) ,\n",
        "ventas = round( rnorm(100 , mean = 500 , sd = 100) ) ,\n",
        "calificacion = round( runif(100 , 1 , 5) , 1) ,\n",
        "paginas = round( rnorm(100 , 300 , 50) )\n",
        ")\n",
        "print(libreria)"
      ]
    },
    {
      "cell_type": "code",
      "source": [
        "mean(libreria$)"
      ],
      "metadata": {
        "colab": {
          "base_uri": "https://localhost:8080/",
          "height": 34
        },
        "id": "g3PMojmQpeyr",
        "outputId": "6d6efd48-d0ae-4bce-d913-d03ca3098a78"
      },
      "execution_count": 5,
      "outputs": [
        {
          "output_type": "display_data",
          "data": {
            "text/html": [
              "305.99"
            ],
            "text/markdown": "305.99",
            "text/latex": "305.99",
            "text/plain": [
              "[1] 305.99"
            ]
          },
          "metadata": {}
        }
      ]
    },
    {
      "cell_type": "code",
      "source": [
        "mean(libreria$precio)"
      ],
      "metadata": {
        "colab": {
          "base_uri": "https://localhost:8080/",
          "height": 34
        },
        "id": "vqBCMlfiphol",
        "outputId": "8138f12a-e01a-4b7a-8f24-35816d3d94e0"
      },
      "execution_count": 6,
      "outputs": [
        {
          "output_type": "display_data",
          "data": {
            "text/html": [
              "54.8707"
            ],
            "text/markdown": "54.8707",
            "text/latex": "54.8707",
            "text/plain": [
              "[1] 54.8707"
            ]
          },
          "metadata": {}
        }
      ]
    },
    {
      "cell_type": "code",
      "source": [
        "mean(libreria$paginas)"
      ],
      "metadata": {
        "colab": {
          "base_uri": "https://localhost:8080/",
          "height": 34
        },
        "id": "hIvi4HxQpl97",
        "outputId": "1fdf6911-e4ef-4035-c14d-ee50067403a4"
      },
      "execution_count": 9,
      "outputs": [
        {
          "output_type": "display_data",
          "data": {
            "text/html": [
              "305.99"
            ],
            "text/markdown": "305.99",
            "text/latex": "305.99",
            "text/plain": [
              "[1] 305.99"
            ]
          },
          "metadata": {}
        }
      ]
    },
    {
      "cell_type": "code",
      "source": [
        "# hallar las medianas 4 variables\n",
        "\n",
        "median(libreria$precio)\n",
        "median(libreria$ventas)\n",
        "median(libreria$calificacion)\n",
        "median(libreria$paginas)"
      ],
      "metadata": {
        "colab": {
          "base_uri": "https://localhost:8080/",
          "height": 86
        },
        "id": "70YNUalrrzF7",
        "outputId": "6ab86fd7-eb4c-44f3-c7bb-561ce9e99978"
      },
      "execution_count": 10,
      "outputs": [
        {
          "output_type": "display_data",
          "data": {
            "text/html": [
              "51.975"
            ],
            "text/markdown": "51.975",
            "text/latex": "51.975",
            "text/plain": [
              "[1] 51.975"
            ]
          },
          "metadata": {}
        },
        {
          "output_type": "display_data",
          "data": {
            "text/html": [
              "494.5"
            ],
            "text/markdown": "494.5",
            "text/latex": "494.5",
            "text/plain": [
              "[1] 494.5"
            ]
          },
          "metadata": {}
        },
        {
          "output_type": "display_data",
          "data": {
            "text/html": [
              "2.85"
            ],
            "text/markdown": "2.85",
            "text/latex": "2.85",
            "text/plain": [
              "[1] 2.85"
            ]
          },
          "metadata": {}
        },
        {
          "output_type": "display_data",
          "data": {
            "text/html": [
              "301.5"
            ],
            "text/markdown": "301.5",
            "text/latex": "301.5",
            "text/plain": [
              "[1] 301.5"
            ]
          },
          "metadata": {}
        }
      ]
    },
    {
      "cell_type": "markdown",
      "source": [
        "# 2. Medidas de dispersión"
      ],
      "metadata": {
        "id": "8lU2IMIysHtT"
      }
    },
    {
      "cell_type": "markdown",
      "source": [
        "\n",
        "## VARIANZA\n",
        "$$\n",
        "S^2 := \\frac{\\sum_{i=1}^n (x_i - \\bar{x})^2}{n-1}\n",
        "$$\n",
        "\n",
        "## DESV ESTÁNDAR\n",
        "\n",
        "$$\n",
        "S := \\sqrt{\\frac{\\sum_{i=1}^n (x_i - \\bar{x})^2}{n-1}}\n",
        "$$"
      ],
      "metadata": {
        "id": "M94t9e_LtK5M"
      }
    },
    {
      "cell_type": "code",
      "source": [
        "var(libreria$calificacion)"
      ],
      "metadata": {
        "colab": {
          "base_uri": "https://localhost:8080/",
          "height": 34
        },
        "id": "VgM2GkOesjnj",
        "outputId": "95bc271f-ca77-4d73-840e-6f6b06b7c696"
      },
      "execution_count": 11,
      "outputs": [
        {
          "output_type": "display_data",
          "data": {
            "text/html": [
              "1.38454545454545"
            ],
            "text/markdown": "1.38454545454545",
            "text/latex": "1.38454545454545",
            "text/plain": [
              "[1] 1.384545"
            ]
          },
          "metadata": {}
        }
      ]
    },
    {
      "cell_type": "code",
      "source": [
        "sqrt(var(libreria$calificacion))"
      ],
      "metadata": {
        "colab": {
          "base_uri": "https://localhost:8080/",
          "height": 34
        },
        "id": "xjPB7iyyto4C",
        "outputId": "f0d8660e-ea5d-4a36-c25e-65fe950b70b4"
      },
      "execution_count": 12,
      "outputs": [
        {
          "output_type": "display_data",
          "data": {
            "text/html": [
              "1.17666709588798"
            ],
            "text/markdown": "1.17666709588798",
            "text/latex": "1.17666709588798",
            "text/plain": [
              "[1] 1.176667"
            ]
          },
          "metadata": {}
        }
      ]
    },
    {
      "cell_type": "code",
      "source": [
        "sd(libreria$calificacion)"
      ],
      "metadata": {
        "colab": {
          "base_uri": "https://localhost:8080/",
          "height": 34
        },
        "id": "7Nyawax6tz1E",
        "outputId": "8b9ae6bc-7925-4409-d999-90dc755a404a"
      },
      "execution_count": 14,
      "outputs": [
        {
          "output_type": "display_data",
          "data": {
            "text/html": [
              "1.17666709588798"
            ],
            "text/markdown": "1.17666709588798",
            "text/latex": "1.17666709588798",
            "text/plain": [
              "[1] 1.176667"
            ]
          },
          "metadata": {}
        }
      ]
    },
    {
      "cell_type": "markdown",
      "source": [
        "La distancia promedio que tiene una calificación de los libros a la media de la calificaición es de 1.17 unidades aproximadamente."
      ],
      "metadata": {
        "id": "k8A6sB-xuA8t"
      }
    },
    {
      "cell_type": "code",
      "source": [
        "install.packages(\"ggplot2\")"
      ],
      "metadata": {
        "id": "-lPH_ZcDvuxL"
      },
      "execution_count": null,
      "outputs": []
    },
    {
      "cell_type": "code",
      "source": [
        "library(ggplot2)"
      ],
      "metadata": {
        "id": "kbJRBTlvuhsr"
      },
      "execution_count": 16,
      "outputs": []
    },
    {
      "cell_type": "markdown",
      "source": [
        "# Regla de la raíz.\n",
        "\n",
        "Numero de grupos óptimo para n datos es la raín de n.\n",
        "\n",
        "$$\n",
        "k = \\sqrt{n}\n",
        "$$\n",
        "\n",
        "n=100\n",
        "\n",
        "$$\n",
        "k = \\sqrt{100} = 10\n",
        "$$"
      ],
      "metadata": {
        "id": "JI734UnmvAqA"
      }
    },
    {
      "cell_type": "code",
      "source": [
        "ggplot(data = libreria, aes(x = calificacion)) +\n",
        "  geom_histogram(color = \"#d91613\", fill = \"#c4d913\", bins = 10) +\n",
        "  labs(title = \"Histograma de la variable\", x = \"variable\", y = \"Frec\")\n"
      ],
      "metadata": {
        "colab": {
          "base_uri": "https://localhost:8080/",
          "height": 437
        },
        "id": "uprIdAUZvtM8",
        "outputId": "ac473449-39f0-4b01-c71a-0ed1e74b7c35"
      },
      "execution_count": 22,
      "outputs": [
        {
          "output_type": "display_data",
          "data": {
            "text/plain": [
              "plot without title"
            ],
            "image/png": "[encoded data removed]"
          },
          "metadata": {
            "image/png": {
              "width": 420,
              "height": 420
            }
          }
        }
      ]
    },
    {
      "cell_type": "code",
      "source": [
        "cut(libreria$calificacion,breaks = 10)"
      ],
      "metadata": {
        "colab": {
          "base_uri": "https://localhost:8080/",
          "height": 156
        },
        "id": "x4-CMNaKw4nE",
        "outputId": "f79eacd0-fa29-4d77-f9c3-483447d621d9"
      },
      "execution_count": 23,
      "outputs": [
        {
          "output_type": "display_data",
          "data": {
            "text/html": [
              "<style>\n",
              ".list-inline {list-style: none; margin:0; padding: 0}\n",
              ".list-inline>li {display: inline-block}\n",
              ".list-inline>li:not(:last-child)::after {content: \"\\00b7\"; padding: 0 .5ex}\n",
              "</style>\n",
              "<ol class=list-inline><li>(3.8,4.2]</li><li>(0.996,1.4]</li><li>(3.8,4.2]</li><li>(3.8,4.2]</li><li>(3.4,3.8]</li><li>(2.6,3]</li><li>(1.4,1.8]</li><li>(0.996,1.4]</li><li>(2.6,3]</li><li>(2.6,3]</li><li>(2.2,2.6]</li><li>(2.6,3]</li><li>(3.8,4.2]</li><li>(0.996,1.4]</li><li>(2.2,2.6]</li><li>(3.8,4.2]</li><li>(4.2,4.6]</li><li>(1.8,2.2]</li><li>(2.2,2.6]</li><li>(4.2,4.6]</li><li>(4.2,4.6]</li><li>(1.8,2.2]</li><li>(1.4,1.8]</li><li>(3.4,3.8]</li><li>(0.996,1.4]</li><li>(0.996,1.4]</li><li>(4.6,5]</li><li>(0.996,1.4]</li><li>(2.2,2.6]</li><li>(4.6,5]</li><li>(3.4,3.8]</li><li>(1.8,2.2]</li><li>(3.8,4.2]</li><li>(4.2,4.6]</li><li>(2.2,2.6]</li><li>(2.6,3]</li><li>(3.4,3.8]</li><li>(3.4,3.8]</li><li>(3.4,3.8]</li><li>(4.6,5]</li><li>(2.6,3]</li><li>(1.4,1.8]</li><li>(3,3.4]</li><li>(1.8,2.2]</li><li>(2.6,3]</li><li>(2.2,2.6]</li><li>(4.6,5]</li><li>(2.2,2.6]</li><li>(1.8,2.2]</li><li>(3.4,3.8]</li><li>(1.4,1.8]</li><li>(4.6,5]</li><li>(3,3.4]</li><li>(1.4,1.8]</li><li>(3.4,3.8]</li><li>(4.6,5]</li><li>(3.4,3.8]</li><li>(2.6,3]</li><li>(2.2,2.6]</li><li>(4.2,4.6]</li><li>(1.4,1.8]</li><li>(1.4,1.8]</li><li>(4.2,4.6]</li><li>(1.8,2.2]</li><li>(2.2,2.6]</li><li>(3.8,4.2]</li><li>(1.4,1.8]</li><li>(0.996,1.4]</li><li>(2.2,2.6]</li><li>(2.6,3]</li><li>(2.6,3]</li><li>(2.2,2.6]</li><li>(4.2,4.6]</li><li>(2.6,3]</li><li>(3,3.4]</li><li>(4.6,5]</li><li>(3.8,4.2]</li><li>(1.4,1.8]</li><li>(1.8,2.2]</li><li>(4.6,5]</li><li>(3,3.4]</li><li>(3.8,4.2]</li><li>(2.2,2.6]</li><li>(3.8,4.2]</li><li>(3,3.4]</li><li>(4.6,5]</li><li>(1.4,1.8]</li><li>(1.8,2.2]</li><li>(0.996,1.4]</li><li>(1.4,1.8]</li><li>(4.6,5]</li><li>(1.8,2.2]</li><li>(3.8,4.2]</li><li>(3.8,4.2]</li><li>(0.996,1.4]</li><li>(1.8,2.2]</li><li>(1.8,2.2]</li><li>(0.996,1.4]</li><li>(1.4,1.8]</li><li>(4.6,5]</li></ol>\n",
              "\n",
              "<details>\n",
              "\t<summary style=display:list-item;cursor:pointer>\n",
              "\t\t<strong>Levels</strong>:\n",
              "\t</summary>\n",
              "\t<style>\n",
              "\t.list-inline {list-style: none; margin:0; padding: 0}\n",
              "\t.list-inline>li {display: inline-block}\n",
              "\t.list-inline>li:not(:last-child)::after {content: \"\\00b7\"; padding: 0 .5ex}\n",
              "\t</style>\n",
              "\t<ol class=list-inline><li>'(0.996,1.4]'</li><li>'(1.4,1.8]'</li><li>'(1.8,2.2]'</li><li>'(2.2,2.6]'</li><li>'(2.6,3]'</li><li>'(3,3.4]'</li><li>'(3.4,3.8]'</li><li>'(3.8,4.2]'</li><li>'(4.2,4.6]'</li><li>'(4.6,5]'</li></ol>\n",
              "</details>"
            ],
            "text/markdown": "1. (3.8,4.2]\n2. (0.996,1.4]\n3. (3.8,4.2]\n4. (3.8,4.2]\n5. (3.4,3.8]\n6. (2.6,3]\n7. (1.4,1.8]\n8. (0.996,1.4]\n9. (2.6,3]\n10. (2.6,3]\n11. (2.2,2.6]\n12. (2.6,3]\n13. (3.8,4.2]\n14. (0.996,1.4]\n15. (2.2,2.6]\n16. (3.8,4.2]\n17. (4.2,4.6]\n18. (1.8,2.2]\n19. (2.2,2.6]\n20. (4.2,4.6]\n21. (4.2,4.6]\n22. (1.8,2.2]\n23. (1.4,1.8]\n24. (3.4,3.8]\n25. (0.996,1.4]\n26. (0.996,1.4]\n27. (4.6,5]\n28. (0.996,1.4]\n29. (2.2,2.6]\n30. (4.6,5]\n31. (3.4,3.8]\n32. (1.8,2.2]\n33. (3.8,4.2]\n34. (4.2,4.6]\n35. (2.2,2.6]\n36. (2.6,3]\n37. (3.4,3.8]\n38. (3.4,3.8]\n39. (3.4,3.8]\n40. (4.6,5]\n41. (2.6,3]\n42. (1.4,1.8]\n43. (3,3.4]\n44. (1.8,2.2]\n45. (2.6,3]\n46. (2.2,2.6]\n47. (4.6,5]\n48. (2.2,2.6]\n49. (1.8,2.2]\n50. (3.4,3.8]\n51. (1.4,1.8]\n52. (4.6,5]\n53. (3,3.4]\n54. (1.4,1.8]\n55. (3.4,3.8]\n56. (4.6,5]\n57. (3.4,3.8]\n58. (2.6,3]\n59. (2.2,2.6]\n60. (4.2,4.6]\n61. (1.4,1.8]\n62. (1.4,1.8]\n63. (4.2,4.6]\n64. (1.8,2.2]\n65. (2.2,2.6]\n66. (3.8,4.2]\n67. (1.4,1.8]\n68. (0.996,1.4]\n69. (2.2,2.6]\n70. (2.6,3]\n71. (2.6,3]\n72. (2.2,2.6]\n73. (4.2,4.6]\n74. (2.6,3]\n75. (3,3.4]\n76. (4.6,5]\n77. (3.8,4.2]\n78. (1.4,1.8]\n79. (1.8,2.2]\n80. (4.6,5]\n81. (3,3.4]\n82. (3.8,4.2]\n83. (2.2,2.6]\n84. (3.8,4.2]\n85. (3,3.4]\n86. (4.6,5]\n87. (1.4,1.8]\n88. (1.8,2.2]\n89. (0.996,1.4]\n90. (1.4,1.8]\n91. (4.6,5]\n92. (1.8,2.2]\n93. (3.8,4.2]\n94. (3.8,4.2]\n95. (0.996,1.4]\n96. (1.8,2.2]\n97. (1.8,2.2]\n98. (0.996,1.4]\n99. (1.4,1.8]\n100. (4.6,5]\n\n\n\n**Levels**: 1. '(0.996,1.4]'\n2. '(1.4,1.8]'\n3. '(1.8,2.2]'\n4. '(2.2,2.6]'\n5. '(2.6,3]'\n6. '(3,3.4]'\n7. '(3.4,3.8]'\n8. '(3.8,4.2]'\n9. '(4.2,4.6]'\n10. '(4.6,5]'\n\n\n",
            "text/latex": "\\begin{enumerate*}\n\\item (3.8,4.2{]}\n\\item (0.996,1.4{]}\n\\item (3.8,4.2{]}\n\\item (3.8,4.2{]}\n\\item (3.4,3.8{]}\n\\item (2.6,3{]}\n\\item (1.4,1.8{]}\n\\item (0.996,1.4{]}\n\\item (2.6,3{]}\n\\item (2.6,3{]}\n\\item (2.2,2.6{]}\n\\item (2.6,3{]}\n\\item (3.8,4.2{]}\n\\item (0.996,1.4{]}\n\\item (2.2,2.6{]}\n\\item (3.8,4.2{]}\n\\item (4.2,4.6{]}\n\\item (1.8,2.2{]}\n\\item (2.2,2.6{]}\n\\item (4.2,4.6{]}\n\\item (4.2,4.6{]}\n\\item (1.8,2.2{]}\n\\item (1.4,1.8{]}\n\\item (3.4,3.8{]}\n\\item (0.996,1.4{]}\n\\item (0.996,1.4{]}\n\\item (4.6,5{]}\n\\item (0.996,1.4{]}\n\\item (2.2,2.6{]}\n\\item (4.6,5{]}\n\\item (3.4,3.8{]}\n\\item (1.8,2.2{]}\n\\item (3.8,4.2{]}\n\\item (4.2,4.6{]}\n\\item (2.2,2.6{]}\n\\item (2.6,3{]}\n\\item (3.4,3.8{]}\n\\item (3.4,3.8{]}\n\\item (3.4,3.8{]}\n\\item (4.6,5{]}\n\\item (2.6,3{]}\n\\item (1.4,1.8{]}\n\\item (3,3.4{]}\n\\item (1.8,2.2{]}\n\\item (2.6,3{]}\n\\item (2.2,2.6{]}\n\\item (4.6,5{]}\n\\item (2.2,2.6{]}\n\\item (1.8,2.2{]}\n\\item (3.4,3.8{]}\n\\item (1.4,1.8{]}\n\\item (4.6,5{]}\n\\item (3,3.4{]}\n\\item (1.4,1.8{]}\n\\item (3.4,3.8{]}\n\\item (4.6,5{]}\n\\item (3.4,3.8{]}\n\\item (2.6,3{]}\n\\item (2.2,2.6{]}\n\\item (4.2,4.6{]}\n\\item (1.4,1.8{]}\n\\item (1.4,1.8{]}\n\\item (4.2,4.6{]}\n\\item (1.8,2.2{]}\n\\item (2.2,2.6{]}\n\\item (3.8,4.2{]}\n\\item (1.4,1.8{]}\n\\item (0.996,1.4{]}\n\\item (2.2,2.6{]}\n\\item (2.6,3{]}\n\\item (2.6,3{]}\n\\item (2.2,2.6{]}\n\\item (4.2,4.6{]}\n\\item (2.6,3{]}\n\\item (3,3.4{]}\n\\item (4.6,5{]}\n\\item (3.8,4.2{]}\n\\item (1.4,1.8{]}\n\\item (1.8,2.2{]}\n\\item (4.6,5{]}\n\\item (3,3.4{]}\n\\item (3.8,4.2{]}\n\\item (2.2,2.6{]}\n\\item (3.8,4.2{]}\n\\item (3,3.4{]}\n\\item (4.6,5{]}\n\\item (1.4,1.8{]}\n\\item (1.8,2.2{]}\n\\item (0.996,1.4{]}\n\\item (1.4,1.8{]}\n\\item (4.6,5{]}\n\\item (1.8,2.2{]}\n\\item (3.8,4.2{]}\n\\item (3.8,4.2{]}\n\\item (0.996,1.4{]}\n\\item (1.8,2.2{]}\n\\item (1.8,2.2{]}\n\\item (0.996,1.4{]}\n\\item (1.4,1.8{]}\n\\item (4.6,5{]}\n\\end{enumerate*}\n\n\\emph{Levels}: \\begin{enumerate*}\n\\item '(0.996,1.4{]}'\n\\item '(1.4,1.8{]}'\n\\item '(1.8,2.2{]}'\n\\item '(2.2,2.6{]}'\n\\item '(2.6,3{]}'\n\\item '(3,3.4{]}'\n\\item '(3.4,3.8{]}'\n\\item '(3.8,4.2{]}'\n\\item '(4.2,4.6{]}'\n\\item '(4.6,5{]}'\n\\end{enumerate*}\n",
            "text/plain": [
              "  [1] (3.8,4.2]   (0.996,1.4] (3.8,4.2]   (3.8,4.2]   (3.4,3.8]   (2.6,3]    \n",
              "  [7] (1.4,1.8]   (0.996,1.4] (2.6,3]     (2.6,3]     (2.2,2.6]   (2.6,3]    \n",
              " [13] (3.8,4.2]   (0.996,1.4] (2.2,2.6]   (3.8,4.2]   (4.2,4.6]   (1.8,2.2]  \n",
              " [19] (2.2,2.6]   (4.2,4.6]   (4.2,4.6]   (1.8,2.2]   (1.4,1.8]   (3.4,3.8]  \n",
              " [25] (0.996,1.4] (0.996,1.4] (4.6,5]     (0.996,1.4] (2.2,2.6]   (4.6,5]    \n",
              " [31] (3.4,3.8]   (1.8,2.2]   (3.8,4.2]   (4.2,4.6]   (2.2,2.6]   (2.6,3]    \n",
              " [37] (3.4,3.8]   (3.4,3.8]   (3.4,3.8]   (4.6,5]     (2.6,3]     (1.4,1.8]  \n",
              " [43] (3,3.4]     (1.8,2.2]   (2.6,3]     (2.2,2.6]   (4.6,5]     (2.2,2.6]  \n",
              " [49] (1.8,2.2]   (3.4,3.8]   (1.4,1.8]   (4.6,5]     (3,3.4]     (1.4,1.8]  \n",
              " [55] (3.4,3.8]   (4.6,5]     (3.4,3.8]   (2.6,3]     (2.2,2.6]   (4.2,4.6]  \n",
              " [61] (1.4,1.8]   (1.4,1.8]   (4.2,4.6]   (1.8,2.2]   (2.2,2.6]   (3.8,4.2]  \n",
              " [67] (1.4,1.8]   (0.996,1.4] (2.2,2.6]   (2.6,3]     (2.6,3]     (2.2,2.6]  \n",
              " [73] (4.2,4.6]   (2.6,3]     (3,3.4]     (4.6,5]     (3.8,4.2]   (1.4,1.8]  \n",
              " [79] (1.8,2.2]   (4.6,5]     (3,3.4]     (3.8,4.2]   (2.2,2.6]   (3.8,4.2]  \n",
              " [85] (3,3.4]     (4.6,5]     (1.4,1.8]   (1.8,2.2]   (0.996,1.4] (1.4,1.8]  \n",
              " [91] (4.6,5]     (1.8,2.2]   (3.8,4.2]   (3.8,4.2]   (0.996,1.4] (1.8,2.2]  \n",
              " [97] (1.8,2.2]   (0.996,1.4] (1.4,1.8]   (4.6,5]    \n",
              "10 Levels: (0.996,1.4] (1.4,1.8] (1.8,2.2] (2.2,2.6] (2.6,3] ... (4.6,5]"
            ]
          },
          "metadata": {}
        }
      ]
    },
    {
      "cell_type": "code",
      "source": [
        "barplot(table(cut(libreria$calificacion,breaks = 10)))"
      ],
      "metadata": {
        "colab": {
          "base_uri": "https://localhost:8080/",
          "height": 437
        },
        "id": "JF6CM7WbxA0V",
        "outputId": "16200e7f-1de2-4d3f-ee3c-e7e40d5845b4"
      },
      "execution_count": 26,
      "outputs": [
        {
          "output_type": "display_data",
          "data": {
            "text/plain": [
              "plot without title"
            ],
            "image/png": "[encoded data removed]"
          },
          "metadata": {
            "image/png": {
              "width": 420,
              "height": 420
            }
          }
        }
      ]
    },
    {
      "cell_type": "code",
      "source": [
        "var"
      ],
      "metadata": {
        "colab": {
          "base_uri": "https://localhost:8080/",
          "height": 364
        },
        "id": "G_JBpZ30tuiL",
        "outputId": "4862b87d-779c-4fa6-9187-d522977eebf1"
      },
      "execution_count": 13,
      "outputs": [
        {
          "output_type": "display_data",
          "data": {
            "text/html": [
              "<pre class=language-r><code>function (x, y = NULL, na.rm = FALSE, use) \n",
              "{\n",
              "<span style=white-space:pre-wrap>    if (missing(use)) </span>\n",
              "<span style=white-space:pre-wrap>        use &lt;- if (na.rm) </span>\n",
              "<span style=white-space:pre-wrap>            \"na.or.complete\"</span>\n",
              "<span style=white-space:pre-wrap>        else \"everything\"</span>\n",
              "<span style=white-space:pre-wrap>    na.method &lt;- pmatch(use, c(\"all.obs\", \"complete.obs\", \"pairwise.complete.obs\", </span>\n",
              "<span style=white-space:pre-wrap>        \"everything\", \"na.or.complete\"))</span>\n",
              "<span style=white-space:pre-wrap>    if (is.na(na.method)) </span>\n",
              "<span style=white-space:pre-wrap>        stop(\"invalid 'use' argument\")</span>\n",
              "<span style=white-space:pre-wrap>    if (is.data.frame(x)) </span>\n",
              "<span style=white-space:pre-wrap>        x &lt;- as.matrix(x)</span>\n",
              "<span style=white-space:pre-wrap>    else if (!is.null(x)) </span>\n",
              "<span style=white-space:pre-wrap>        stopifnot(is.atomic(x))</span>\n",
              "<span style=white-space:pre-wrap>    if (is.data.frame(y)) </span>\n",
              "<span style=white-space:pre-wrap>        y &lt;- as.matrix(y)</span>\n",
              "<span style=white-space:pre-wrap>    else if (!is.null(y)) </span>\n",
              "<span style=white-space:pre-wrap>        stopifnot(is.atomic(y))</span>\n",
              "<span style=white-space:pre-wrap>    .Call(C_cov, x, y, na.method, FALSE)</span>\n",
              "}</code></pre>"
            ],
            "text/markdown": "```r\nfunction (x, y = NULL, na.rm = FALSE, use) \n{\n    if (missing(use)) \n        use <- if (na.rm) \n            \"na.or.complete\"\n        else \"everything\"\n    na.method <- pmatch(use, c(\"all.obs\", \"complete.obs\", \"pairwise.complete.obs\", \n        \"everything\", \"na.or.complete\"))\n    if (is.na(na.method)) \n        stop(\"invalid 'use' argument\")\n    if (is.data.frame(x)) \n        x <- as.matrix(x)\n    else if (!is.null(x)) \n        stopifnot(is.atomic(x))\n    if (is.data.frame(y)) \n        y <- as.matrix(y)\n    else if (!is.null(y)) \n        stopifnot(is.atomic(y))\n    .Call(C_cov, x, y, na.method, FALSE)\n}\n```",
            "text/latex": "\\begin{minted}{r}\nfunction (x, y = NULL, na.rm = FALSE, use) \n\\{\n    if (missing(use)) \n        use <- if (na.rm) \n            \"na.or.complete\"\n        else \"everything\"\n    na.method <- pmatch(use, c(\"all.obs\", \"complete.obs\", \"pairwise.complete.obs\", \n        \"everything\", \"na.or.complete\"))\n    if (is.na(na.method)) \n        stop(\"invalid 'use' argument\")\n    if (is.data.frame(x)) \n        x <- as.matrix(x)\n    else if (!is.null(x)) \n        stopifnot(is.atomic(x))\n    if (is.data.frame(y)) \n        y <- as.matrix(y)\n    else if (!is.null(y)) \n        stopifnot(is.atomic(y))\n    .Call(C\\_cov, x, y, na.method, FALSE)\n\\}\n\\end{minted}",
            "text/plain": [
              "function (x, y = NULL, na.rm = FALSE, use) \n",
              "{\n",
              "    if (missing(use)) \n",
              "        use <- if (na.rm) \n",
              "            \"na.or.complete\"\n",
              "        else \"everything\"\n",
              "    na.method <- pmatch(use, c(\"all.obs\", \"complete.obs\", \"pairwise.complete.obs\", \n",
              "        \"everything\", \"na.or.complete\"))\n",
              "    if (is.na(na.method)) \n",
              "        stop(\"invalid 'use' argument\")\n",
              "    if (is.data.frame(x)) \n",
              "        x <- as.matrix(x)\n",
              "    else if (!is.null(x)) \n",
              "        stopifnot(is.atomic(x))\n",
              "    if (is.data.frame(y)) \n",
              "        y <- as.matrix(y)\n",
              "    else if (!is.null(y)) \n",
              "        stopifnot(is.atomic(y))\n",
              "    .Call(C_cov, x, y, na.method, FALSE)\n",
              "}\n",
              "<bytecode: 0x5a9d1742c268>\n",
              "<environment: namespace:stats>"
            ]
          },
          "metadata": {}
        }
      ]
    },
    {
      "cell_type": "code",
      "source": [
        "IQR(libreria$calificacion)"
      ],
      "metadata": {
        "colab": {
          "base_uri": "https://localhost:8080/",
          "height": 34
        },
        "id": "rAt13haxxn09",
        "outputId": "a66b2816-9a46-4e4f-a2b4-a3c3d495396f"
      },
      "execution_count": 27,
      "outputs": [
        {
          "output_type": "display_data",
          "data": {
            "text/html": [
              "2.025"
            ],
            "text/markdown": "2.025",
            "text/latex": "2.025",
            "text/plain": [
              "[1] 2.025"
            ]
          },
          "metadata": {}
        }
      ]
    },
    {
      "cell_type": "markdown",
      "source": [
        "Los IQR's ayudan a comparar la homogeneidad de dos grupos."
      ],
      "metadata": {
        "id": "PW51jfuKxx9U"
      }
    },
    {
      "cell_type": "code",
      "source": [
        "library(ggplot2)\n",
        "\n",
        "# Histograma de precios\n",
        "ggplot(libreria , aes(x = precio)) +\n",
        "geom_histogram( binwidth = 5 , fill = \"skyblue\", color = \"black\") +\n",
        "theme_minimal()\n",
        "\n",
        "# Boxplot de calificaciones\n",
        "ggplot(libreria , aes( y = calificacion ) ) +\n",
        " geom_boxplot( fill = \"lightgreen\") +\n",
        " theme_minimal ()"
      ],
      "metadata": {
        "colab": {
          "base_uri": "https://localhost:8080/",
          "height": 857
        },
        "id": "aRBVxoDdx2z8",
        "outputId": "53593ee7-a7c3-4684-cd90-f04c80b3cafa"
      },
      "execution_count": 29,
      "outputs": [
        {
          "output_type": "display_data",
          "data": {
            "text/plain": [
              "plot without title"
            ],
            "image/png": "[encoded data removed]"
          },
          "metadata": {
            "image/png": {
              "width": 420,
              "height": 420
            }
          }
        },
        {
          "output_type": "display_data",
          "data": {
            "text/plain": [
              "plot without title"
            ],
            "image/png": "[encoded data removed]"
          },
          "metadata": {
            "image/png": {
              "width": 420,
              "height": 420
            }
          }
        }
      ]
    },
    {
      "cell_type": "code",
      "source": [
        "min(libreria$precio)"
      ],
      "metadata": {
        "colab": {
          "base_uri": "https://localhost:8080/",
          "height": 34
        },
        "id": "-1EzsN08z0LU",
        "outputId": "6e8793cb-d3af-41f5-d6c7-624fa1bf2a41"
      },
      "execution_count": 30,
      "outputs": [
        {
          "output_type": "display_data",
          "data": {
            "text/html": [
              "10.06"
            ],
            "text/markdown": "10.06",
            "text/latex": "10.06",
            "text/plain": [
              "[1] 10.06"
            ]
          },
          "metadata": {}
        }
      ]
    },
    {
      "cell_type": "code",
      "source": [
        "max(libreria$precio)"
      ],
      "metadata": {
        "colab": {
          "base_uri": "https://localhost:8080/",
          "height": 34
        },
        "id": "fLPr1EFsz0E2",
        "outputId": "15433679-0701-46df-e80f-ee61aeebfd81"
      },
      "execution_count": 31,
      "outputs": [
        {
          "output_type": "display_data",
          "data": {
            "text/html": [
              "99.48"
            ],
            "text/markdown": "99.48",
            "text/latex": "99.48",
            "text/plain": [
              "[1] 99.48"
            ]
          },
          "metadata": {}
        }
      ]
    },
    {
      "cell_type": "code",
      "source": [
        "library(ggplot2)\n",
        "\n",
        "ggplot(data = iris, aes(x = Species, y = Sepal.Length)) +\n",
        "  geom_boxplot(fill = \"skyblue\", color = \"darkblue\") +\n",
        "  labs(title = \"Boxplot de Sepal.Length por Especie\",\n",
        "       x = \"Especie\",\n",
        "       y = \"Longitud del Sépalo\")\n"
      ],
      "metadata": {
        "colab": {
          "base_uri": "https://localhost:8080/",
          "height": 437
        },
        "id": "yV_IZZXH0CO0",
        "outputId": "f4a87da8-5028-4afd-c67f-8a4d40dfb12b"
      },
      "execution_count": 32,
      "outputs": [
        {
          "output_type": "display_data",
          "data": {
            "text/plain": [
              "plot without title"
            ],
            "image/png": "[encoded data removed]"
          },
          "metadata": {
            "image/png": {
              "width": 420,
              "height": 420
            }
          }
        }
      ]
    },
    {
      "cell_type": "code",
      "source": [
        "IQR(iris$Sepal.Length[iris$Species == \"setosa\"])"
      ],
      "metadata": {
        "colab": {
          "base_uri": "https://localhost:8080/",
          "height": 34
        },
        "id": "_R3p0wJF0dfX",
        "outputId": "fd6cb0b3-96c7-4a21-d4e5-18ceba0c8e52"
      },
      "execution_count": 34,
      "outputs": [
        {
          "output_type": "display_data",
          "data": {
            "text/html": [
              "0.4"
            ],
            "text/markdown": "0.4",
            "text/latex": "0.4",
            "text/plain": [
              "[1] 0.4"
            ]
          },
          "metadata": {}
        }
      ]
    },
    {
      "cell_type": "code",
      "source": [
        "sd(iris$Sepal.Length[iris$Species == \"setosa\"])"
      ],
      "metadata": {
        "colab": {
          "base_uri": "https://localhost:8080/",
          "height": 34
        },
        "id": "GH12OTlC1fWt",
        "outputId": "df212cbb-cd40-402d-b893-6146dc16e8e5"
      },
      "execution_count": 37,
      "outputs": [
        {
          "output_type": "display_data",
          "data": {
            "text/html": [
              "0.352489687213451"
            ],
            "text/markdown": "0.352489687213451",
            "text/latex": "0.352489687213451",
            "text/plain": [
              "[1] 0.3524897"
            ]
          },
          "metadata": {}
        }
      ]
    },
    {
      "cell_type": "code",
      "source": [
        "IQR(iris$Sepal.Length[iris$Species == \"versicolor\"])"
      ],
      "metadata": {
        "colab": {
          "base_uri": "https://localhost:8080/",
          "height": 34
        },
        "id": "5hOjC-5w0yn9",
        "outputId": "aaff1f22-9b6a-474a-af2f-614c9e6e2873"
      },
      "execution_count": 35,
      "outputs": [
        {
          "output_type": "display_data",
          "data": {
            "text/html": [
              "0.7"
            ],
            "text/markdown": "0.7",
            "text/latex": "0.7",
            "text/plain": [
              "[1] 0.7"
            ]
          },
          "metadata": {}
        }
      ]
    },
    {
      "cell_type": "code",
      "source": [
        "sd(iris$Sepal.Length[iris$Species == \"versicolor\"])"
      ],
      "metadata": {
        "colab": {
          "base_uri": "https://localhost:8080/",
          "height": 34
        },
        "id": "8X4GEXHK1hG8",
        "outputId": "fb900267-fa1b-4cdd-df68-5a0b5919f831"
      },
      "execution_count": 38,
      "outputs": [
        {
          "output_type": "display_data",
          "data": {
            "text/html": [
              "0.516171147063863"
            ],
            "text/markdown": "0.516171147063863",
            "text/latex": "0.516171147063863",
            "text/plain": [
              "[1] 0.5161711"
            ]
          },
          "metadata": {}
        }
      ]
    },
    {
      "cell_type": "code",
      "source": [
        "IQR(iris$Sepal.Length[iris$Species == \"virginica\"])"
      ],
      "metadata": {
        "colab": {
          "base_uri": "https://localhost:8080/",
          "height": 34
        },
        "id": "-wvPsaps02zk",
        "outputId": "6cdf6e17-ec8d-49f2-d432-773a58f0b5c7"
      },
      "execution_count": 36,
      "outputs": [
        {
          "output_type": "display_data",
          "data": {
            "text/html": [
              "0.675"
            ],
            "text/markdown": "0.675",
            "text/latex": "0.675",
            "text/plain": [
              "[1] 0.675"
            ]
          },
          "metadata": {}
        }
      ]
    },
    {
      "cell_type": "code",
      "source": [
        "sd(iris$Sepal.Length[iris$Species == \"virginica\"])"
      ],
      "metadata": {
        "colab": {
          "base_uri": "https://localhost:8080/",
          "height": 34
        },
        "id": "7lx5FGf_1kxF",
        "outputId": "a7dfe0f2-3d75-43dc-d8cf-a1bcc8df6a3f"
      },
      "execution_count": 39,
      "outputs": [
        {
          "output_type": "display_data",
          "data": {
            "text/html": [
              "0.635879593274432"
            ],
            "text/markdown": "0.635879593274432",
            "text/latex": "0.635879593274432",
            "text/plain": [
              "[1] 0.6358796"
            ]
          },
          "metadata": {}
        }
      ]
    },
    {
      "cell_type": "markdown",
      "source": [],
      "metadata": {
        "id": "q0w86KMq4g_M"
      }
    },
    {
      "cell_type": "code",
      "source": [
        "table(iris$Species\n",
        ")"
      ],
      "metadata": {
        "colab": {
          "base_uri": "https://localhost:8080/",
          "height": 69
        },
        "id": "vR-hNXtf0tTH",
        "outputId": "eaddba29-1ed8-42bc-990d-ae740bcf5901"
      },
      "execution_count": 33,
      "outputs": [
        {
          "output_type": "display_data",
          "data": {
            "text/plain": [
              "\n",
              "    setosa versicolor  virginica \n",
              "        50         50         50 "
            ]
          },
          "metadata": {}
        }
      ]
    },
    {
      "cell_type": "code",
      "source": [
        "cor(libreria$precio,libreria$ventas)"
      ],
      "metadata": {
        "colab": {
          "base_uri": "https://localhost:8080/",
          "height": 34
        },
        "id": "LPDYZLdZ3E9u",
        "outputId": "96fc55c8-3d57-4bc7-ca13-667eaf649e5c"
      },
      "execution_count": 41,
      "outputs": [
        {
          "output_type": "display_data",
          "data": {
            "text/html": [
              "-0.0265171940890824"
            ],
            "text/markdown": "-0.0265171940890824",
            "text/latex": "-0.0265171940890824",
            "text/plain": [
              "[1] -0.02651719"
            ]
          },
          "metadata": {}
        }
      ]
    },
    {
      "cell_type": "markdown",
      "source": [
        "$$\n",
        "H_0 : ρ = 0\n",
        "$$\n",
        "Nula: No hay cor lineal\n",
        "\n",
        "$$H_a : ρ \\neq 0$$\n",
        "\n",
        "Alternativa: Hay cor lineal"
      ],
      "metadata": {
        "id": "oKYfyrqk3MWu"
      }
    },
    {
      "cell_type": "code",
      "source": [
        "plot(libreria$precio,libreria$ventas)"
      ],
      "metadata": {
        "colab": {
          "base_uri": "https://localhost:8080/",
          "height": 437
        },
        "id": "k_N5L1pi4c0o",
        "outputId": "bd8f36f3-c1e9-452a-9c25-03c5c11f3f2b"
      },
      "execution_count": 46,
      "outputs": [
        {
          "output_type": "display_data",
          "data": {
            "text/plain": [
              "plot without title"
            ],
            "image/png": "[encoded data removed]"
          },
          "metadata": {
            "image/png": {
              "width": 420,
              "height": 420
            }
          }
        }
      ]
    },
    {
      "cell_type": "code",
      "source": [
        "cor.test(libreria$precio,libreria$ventas)"
      ],
      "metadata": {
        "colab": {
          "base_uri": "https://localhost:8080/",
          "height": 208
        },
        "id": "fCY5bNTH3JWo",
        "outputId": "b960abcd-fcd3-410e-fde1-cc3e6218c8a5"
      },
      "execution_count": 42,
      "outputs": [
        {
          "output_type": "display_data",
          "data": {
            "text/plain": [
              "\n",
              "\tPearson's product-moment correlation\n",
              "\n",
              "data:  libreria$precio and libreria$ventas\n",
              "t = -0.2626, df = 98, p-value = 0.7934\n",
              "alternative hypothesis: true correlation is not equal to 0\n",
              "95 percent confidence interval:\n",
              " -0.2217802  0.1707905\n",
              "sample estimates:\n",
              "        cor \n",
              "-0.02651719 \n"
            ]
          },
          "metadata": {}
        }
      ]
    },
    {
      "cell_type": "markdown",
      "source": [
        "p-value = 0.7934 > 0.05 no se rechaza"
      ],
      "metadata": {
        "id": "Wk0UyFGM3bE7"
      }
    },
    {
      "cell_type": "markdown",
      "source": [
        "No hay dependencia lineal"
      ],
      "metadata": {
        "id": "GCk0oVNS3h_Q"
      }
    },
    {
      "cell_type": "code",
      "source": [
        "x <- rnorm(1000,4,1)\n",
        "y <- -5*x+rnorm(1000,0,2)\n",
        "plot(x,y)\n",
        "cor.test(x,y)"
      ],
      "metadata": {
        "colab": {
          "base_uri": "https://localhost:8080/",
          "height": 628
        },
        "id": "MdRXJWgh35L5",
        "outputId": "3f6e56ee-5fe2-4040-b2a2-bbb340afb0bc"
      },
      "execution_count": 45,
      "outputs": [
        {
          "output_type": "display_data",
          "data": {
            "text/plain": [
              "\n",
              "\tPearson's product-moment correlation\n",
              "\n",
              "data:  x and y\n",
              "t = -75.51, df = 998, p-value < 2.2e-16\n",
              "alternative hypothesis: true correlation is not equal to 0\n",
              "95 percent confidence interval:\n",
              " -0.9312533 -0.9127238\n",
              "sample estimates:\n",
              "       cor \n",
              "-0.9225184 \n"
            ]
          },
          "metadata": {}
        },
        {
          "output_type": "display_data",
          "data": {
            "text/plain": [
              "plot without title"
            ],
            "image/png": "[encoded data removed]"
          },
          "metadata": {
            "image/png": {
              "width": 420,
              "height": 420
            }
          }
        }
      ]
    }
  ]
}
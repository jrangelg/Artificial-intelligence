{
  "nbformat": 4,
  "nbformat_minor": 0,
  "metadata": {
    "colab": {
      "provenance": [],
      "authorship_tag": "ABX9TyO5HbtozzksqJxctILxc6gC",
      "include_colab_link": true
    },
    "kernelspec": {
      "name": "ir",
      "display_name": "R"
    },
    "language_info": {
      "name": "R"
    }
  },
  "cells": [
    {
      "cell_type": "markdown",
      "metadata": {
        "id": "view-in-github",
        "colab_type": "text"
      },
      "source": [
        "<a href=\"https://colab.research.google.com/github/jrangelg/Artificial-intelligence/blob/main/Clase1.ipynb\" target=\"_parent\"><img src=\"https://colab.research.google.com/assets/colab-badge.svg\" alt=\"Open In Colab\"/></a>"
      ]
    },
    {
      "cell_type": "code",
      "source": [
        "x <- c(1,2,3,4)\n",
        "print(x)"
      ],
      "metadata": {
        "colab": {
          "base_uri": "https://localhost:8080/"
        },
        "id": "OeU0kxMycSsk",
        "outputId": "33ae51be-62a3-4e7d-ff14-c431f0388b16"
      },
      "execution_count": null,
      "outputs": [
        {
          "output_type": "stream",
          "name": "stdout",
          "text": [
            "[1] 1 2 3 4\n"
          ]
        }
      ]
    },
    {
      "cell_type": "code",
      "source": [
        "y <-rnorm(100,1,2)\n",
        "hist(y)"
      ],
      "metadata": {
        "colab": {
          "base_uri": "https://localhost:8080/",
          "height": 437
        },
        "id": "B4GEJgMIdLKr",
        "outputId": "93360a25-dcd6-405c-ea93-6d039177a622"
      },
      "execution_count": null,
      "outputs": [
        {
          "output_type": "display_data",
          "data": {
            "text/plain": [
              "Plot with title “Histogram of y”"
            ],
            "image/png": "[encoded data removed]"
          },
          "metadata": {
            "image/png": {
              "width": 420,
              "height": 420
            }
          }
        }
      ]
    },
    {
      "cell_type": "code",
      "source": [
        "rnorm"
      ],
      "metadata": {
        "colab": {
          "base_uri": "https://localhost:8080/",
          "height": 52
        },
        "id": "cAu0dy19qAbZ",
        "outputId": "bc2cc709-58ba-40b5-b42a-d22918163397"
      },
      "execution_count": null,
      "outputs": [
        {
          "output_type": "display_data",
          "data": {
            "text/html": [
              "<pre class=language-r><code>function (n, mean = 0, sd = 1) \n",
              ".Call(C_rnorm, n, mean, sd)</code></pre>"
            ],
            "text/markdown": "```r\nfunction (n, mean = 0, sd = 1) \n.Call(C_rnorm, n, mean, sd)\n```",
            "text/latex": "\\begin{minted}{r}\nfunction (n, mean = 0, sd = 1) \n.Call(C\\_rnorm, n, mean, sd)\n\\end{minted}",
            "text/plain": [
              "function (n, mean = 0, sd = 1) \n",
              ".Call(C_rnorm, n, mean, sd)\n",
              "<bytecode: 0x5d1038ead340>\n",
              "<environment: namespace:stats>"
            ]
          },
          "metadata": {}
        }
      ]
    },
    {
      "cell_type": "code",
      "source": [
        "mean(y) # media"
      ],
      "metadata": {
        "colab": {
          "base_uri": "https://localhost:8080/",
          "height": 34
        },
        "id": "KSYRESkco0qt",
        "outputId": "ad68547b-e806-406c-bd39-101601ae5edb"
      },
      "execution_count": null,
      "outputs": [
        {
          "output_type": "display_data",
          "data": {
            "text/html": [
              "1.11981128054804"
            ],
            "text/markdown": "1.11981128054804",
            "text/latex": "1.11981128054804",
            "text/plain": [
              "[1] 1.119811"
            ]
          },
          "metadata": {}
        }
      ]
    },
    {
      "cell_type": "code",
      "source": [
        "sd(y)"
      ],
      "metadata": {
        "colab": {
          "base_uri": "https://localhost:8080/",
          "height": 34
        },
        "id": "fJTQH3Rlpv8P",
        "outputId": "8db198ac-a314-48b5-d2eb-d2a6ea81c5cc"
      },
      "execution_count": null,
      "outputs": [
        {
          "output_type": "display_data",
          "data": {
            "text/html": [
              "1.87306398204951"
            ],
            "text/markdown": "1.87306398204951",
            "text/latex": "1.87306398204951",
            "text/plain": [
              "[1] 1.873064"
            ]
          },
          "metadata": {}
        }
      ]
    },
    {
      "cell_type": "code",
      "source": [
        "# Variables cuantitativas continuas\n",
        "print(y)"
      ],
      "metadata": {
        "colab": {
          "base_uri": "https://localhost:8080/"
        },
        "id": "XqAWd6_rdbBj",
        "outputId": "42f17fc7-2ee3-4ce8-c2eb-0afcb62f4452"
      },
      "execution_count": null,
      "outputs": [
        {
          "output_type": "stream",
          "name": "stdout",
          "text": [
            "  [1]  2.86839559  0.06516979  2.96570138  2.17461750 -2.21934011 -1.03689528\n",
            "  [7] -0.85639505  2.73588620 -1.74497259 -0.11799614 -0.39278267  1.74186989\n",
            " [13]  2.18216837 -0.40287301  1.82677168 -1.33324523 -1.41884632  1.24749813\n",
            " [19]  2.97739982 -0.30383826  4.15989633 -0.75562325  1.26686708  2.21503019\n",
            " [25]  2.95950585  2.35762276 -0.86971345 -0.05365910  0.43003665  1.75038710\n",
            " [31]  2.20508103  2.64848509 -0.70297965 -0.84303913  0.47968999  2.38965215\n",
            " [37]  1.01922780  1.80002578  3.92239762  0.64489053  3.19613921  4.49029628\n",
            " [43]  1.23453149  1.47838561  2.09886446  1.02859014  3.10718353  1.91050221\n",
            " [49]  1.02059271  1.03824343  5.85336253  0.60034266  3.03089326 -0.73035436\n",
            " [55]  1.39546618  3.53437894  2.00171198  1.82072873 -3.15751600  0.08315430\n",
            " [61]  5.63785960 -0.75868576 -0.09727994 -0.99932494  3.03513486  2.72066105\n",
            " [67]  0.12855798  1.56762980  4.02376105 -0.93963707  1.37224914  0.81550337\n",
            " [73]  1.94845243 -1.28500220 -1.30750426 -0.51667597  0.94685034  2.04541439\n",
            " [79]  1.56640810 -1.10149100  4.28827688  4.26623711  0.48696549 -0.10193364\n",
            " [85]  0.13743888 -1.81205929 -2.58669032  4.32226413  5.05663457  3.71252875\n",
            " [91]  4.10062671 -1.26009515 -1.15928671  0.81266618  2.72083033  3.23156511\n",
            " [97]  0.38437319 -0.17709345  2.10257690  0.76154370\n"
          ]
        }
      ]
    },
    {
      "cell_type": "markdown",
      "source": [
        "# Definir.\n",
        "\n",
        "\n",
        "1. Hipótesis.\n",
        "\n",
        "Es una afirmación previa. Cuyo grado de verdad no se conoce.\n",
        "\n",
        "2. Población. Unidades dentro del contexto de la hipótesis.\n",
        "\n",
        "3. Muestra. Es un subconjunto de la población.\n",
        "\n",
        "4. Variable. Es una característica medible en cada unidad muestral.\n",
        "\n"
      ],
      "metadata": {
        "id": "5Px4ISjnf-sN"
      }
    },
    {
      "cell_type": "markdown",
      "source": [
        "# Definir.\n",
        "\n",
        "\n",
        "1. Hipótesis.\n",
        "\n",
        "Es una afirmación previa. Cuyo grado de verdad no se conoce.\n",
        "\n",
        "2. Población. Unidades dentro del contexto de la hipótesis.\n",
        "\n",
        "3. Muestra. Es un subconjunto de la población.\n",
        "\n",
        "4. Variable. Es una característica medible en cada unidad muestral.\n"
      ],
      "metadata": {
        "id": "8liUniRmhPpc"
      }
    },
    {
      "cell_type": "markdown",
      "source": [
        "# Variables cuantitativas discretas"
      ],
      "metadata": {
        "id": "sppZcFVQhe-y"
      }
    },
    {
      "cell_type": "code",
      "source": [
        "z <- rbinom(100,20,0.4)\n",
        "print(z)"
      ],
      "metadata": {
        "colab": {
          "base_uri": "https://localhost:8080/"
        },
        "id": "-5jKpC6LhSAz",
        "outputId": "1d7fa6a6-33ae-426b-8ea9-561aa6a2c982"
      },
      "execution_count": null,
      "outputs": [
        {
          "output_type": "stream",
          "name": "stdout",
          "text": [
            "  [1]  9  5  7  8 12  7 12  9 10  8 10  9 10 10  9  8 10  8  4  7 10  3  7  9 13\n",
            " [26]  5  7  8  6  7  4  9  5  8  9  9  5  9  7 10 10  9  5 10 12  9  5  6  9  5\n",
            " [51]  9 11  8 10  7  8  6  6  8  9  7  7  7  7  7 12  3  6  9  9  8 11  7 11 12\n",
            " [76]  5  7 10  7  7  5  9 14  7  7  9  8  8  7  7 10 10  8  8  6  5  8 11  8  7\n"
          ]
        }
      ]
    },
    {
      "cell_type": "markdown",
      "source": [
        "# Cualitativas.\n",
        "\n",
        "- char"
      ],
      "metadata": {
        "id": "HTbNNiGgh7Pt"
      }
    },
    {
      "cell_type": "code",
      "source": [
        "x<-c(rep(\"A\",50),rep(\"B\",20),rep(\"C\",10))\n",
        "print(x)\n"
      ],
      "metadata": {
        "colab": {
          "base_uri": "https://localhost:8080/"
        },
        "id": "WIGPdNMah_rj",
        "outputId": "7c5a7297-2d6c-48e6-8441-43872c30a3a5"
      },
      "execution_count": null,
      "outputs": [
        {
          "output_type": "stream",
          "name": "stdout",
          "text": [
            " [1] \"A\" \"A\" \"A\" \"A\" \"A\" \"A\" \"A\" \"A\" \"A\" \"A\" \"A\" \"A\" \"A\" \"A\" \"A\" \"A\" \"A\" \"A\" \"A\"\n",
            "[20] \"A\" \"A\" \"A\" \"A\" \"A\" \"A\" \"A\" \"A\" \"A\" \"A\" \"A\" \"A\" \"A\" \"A\" \"A\" \"A\" \"A\" \"A\" \"A\"\n",
            "[39] \"A\" \"A\" \"A\" \"A\" \"A\" \"A\" \"A\" \"A\" \"A\" \"A\" \"A\" \"A\" \"B\" \"B\" \"B\" \"B\" \"B\" \"B\" \"B\"\n",
            "[58] \"B\" \"B\" \"B\" \"B\" \"B\" \"B\" \"B\" \"B\" \"B\" \"B\" \"B\" \"B\" \"B\" \"C\" \"C\" \"C\" \"C\" \"C\" \"C\"\n",
            "[77] \"C\" \"C\" \"C\" \"C\"\n"
          ]
        }
      ]
    },
    {
      "cell_type": "code",
      "source": [
        "table(x)"
      ],
      "metadata": {
        "colab": {
          "base_uri": "https://localhost:8080/",
          "height": 69
        },
        "id": "d7g8ojVkjeXs",
        "outputId": "7577ca2e-127c-4641-9513-a0a271be8d00"
      },
      "execution_count": null,
      "outputs": [
        {
          "output_type": "display_data",
          "data": {
            "text/plain": [
              "x\n",
              " A  B  C \n",
              "50 20 10 "
            ]
          },
          "metadata": {}
        }
      ]
    },
    {
      "cell_type": "code",
      "source": [
        "barplot(table(x))"
      ],
      "metadata": {
        "colab": {
          "base_uri": "https://localhost:8080/",
          "height": 437
        },
        "id": "ey3RXMgfiY4L",
        "outputId": "38fec004-9515-461b-b22e-5c660abbe4bf"
      },
      "execution_count": null,
      "outputs": [
        {
          "output_type": "display_data",
          "data": {
            "text/plain": [
              "plot without title"
            ],
            "image/png": "[encoded data removed]"
          },
          "metadata": {
            "image/png": {
              "width": 420,
              "height": 420
            }
          }
        }
      ]
    },
    {
      "cell_type": "markdown",
      "source": [
        "# Diagrama de barras. Se usa cuando la variable de interés es categórica.\n",
        "# Histograma. Variables cuantitativas continuas."
      ],
      "metadata": {
        "id": "Z5Qik9PXpKGE"
      }
    },
    {
      "cell_type": "code",
      "source": [
        "print(y)"
      ],
      "metadata": {
        "colab": {
          "base_uri": "https://localhost:8080/"
        },
        "id": "cQD5ntCXjGDD",
        "outputId": "e5f890de-3b7d-4f00-dcbf-9ebf92f885c0"
      },
      "execution_count": null,
      "outputs": [
        {
          "output_type": "stream",
          "name": "stdout",
          "text": [
            "  [1]  2.86839559  0.06516979  2.96570138  2.17461750 -2.21934011 -1.03689528\n",
            "  [7] -0.85639505  2.73588620 -1.74497259 -0.11799614 -0.39278267  1.74186989\n",
            " [13]  2.18216837 -0.40287301  1.82677168 -1.33324523 -1.41884632  1.24749813\n",
            " [19]  2.97739982 -0.30383826  4.15989633 -0.75562325  1.26686708  2.21503019\n",
            " [25]  2.95950585  2.35762276 -0.86971345 -0.05365910  0.43003665  1.75038710\n",
            " [31]  2.20508103  2.64848509 -0.70297965 -0.84303913  0.47968999  2.38965215\n",
            " [37]  1.01922780  1.80002578  3.92239762  0.64489053  3.19613921  4.49029628\n",
            " [43]  1.23453149  1.47838561  2.09886446  1.02859014  3.10718353  1.91050221\n",
            " [49]  1.02059271  1.03824343  5.85336253  0.60034266  3.03089326 -0.73035436\n",
            " [55]  1.39546618  3.53437894  2.00171198  1.82072873 -3.15751600  0.08315430\n",
            " [61]  5.63785960 -0.75868576 -0.09727994 -0.99932494  3.03513486  2.72066105\n",
            " [67]  0.12855798  1.56762980  4.02376105 -0.93963707  1.37224914  0.81550337\n",
            " [73]  1.94845243 -1.28500220 -1.30750426 -0.51667597  0.94685034  2.04541439\n",
            " [79]  1.56640810 -1.10149100  4.28827688  4.26623711  0.48696549 -0.10193364\n",
            " [85]  0.13743888 -1.81205929 -2.58669032  4.32226413  5.05663457  3.71252875\n",
            " [91]  4.10062671 -1.26009515 -1.15928671  0.81266618  2.72083033  3.23156511\n",
            " [97]  0.38437319 -0.17709345  2.10257690  0.76154370\n"
          ]
        }
      ]
    },
    {
      "cell_type": "code",
      "source": [
        "y <- c(5)"
      ],
      "metadata": {
        "id": "1Ftc76W-jJ1a"
      },
      "execution_count": null,
      "outputs": []
    },
    {
      "cell_type": "code",
      "source": [
        "print(y)"
      ],
      "metadata": {
        "colab": {
          "base_uri": "https://localhost:8080/"
        },
        "id": "Kfy0ej2HjMdj",
        "outputId": "d8ee7a77-cad7-4c4c-c73a-1a356ededb8a"
      },
      "execution_count": null,
      "outputs": [
        {
          "output_type": "stream",
          "name": "stdout",
          "text": [
            "[1] 5\n"
          ]
        }
      ]
    },
    {
      "cell_type": "code",
      "source": [
        "x1 <- c(2)"
      ],
      "metadata": {
        "id": "m2Pfdk4Wj0Jy"
      },
      "execution_count": null,
      "outputs": []
    },
    {
      "cell_type": "code",
      "source": [
        "x2 <- c(5)"
      ],
      "metadata": {
        "id": "dlEnQj-dj2wC"
      },
      "execution_count": null,
      "outputs": []
    },
    {
      "cell_type": "code",
      "source": [
        "x1"
      ],
      "metadata": {
        "colab": {
          "base_uri": "https://localhost:8080/",
          "height": 34
        },
        "id": "IemB2wA2j6NT",
        "outputId": "14552660-d3ca-40c9-ef98-a7f3694709a0"
      },
      "execution_count": null,
      "outputs": [
        {
          "output_type": "display_data",
          "data": {
            "text/html": [
              "2"
            ],
            "text/markdown": "2",
            "text/latex": "2",
            "text/plain": [
              "[1] 2"
            ]
          },
          "metadata": {}
        }
      ]
    },
    {
      "cell_type": "code",
      "source": [
        "x2"
      ],
      "metadata": {
        "colab": {
          "base_uri": "https://localhost:8080/",
          "height": 34
        },
        "id": "r30ZuIesj7YT",
        "outputId": "75f53a3a-1a98-4fe5-fce7-fd1ddd835b8c"
      },
      "execution_count": null,
      "outputs": [
        {
          "output_type": "display_data",
          "data": {
            "text/html": [
              "5"
            ],
            "text/markdown": "5",
            "text/latex": "5",
            "text/plain": [
              "[1] 5"
            ]
          },
          "metadata": {}
        }
      ]
    },
    {
      "cell_type": "code",
      "source": [
        "x=5\n",
        "print(x)"
      ],
      "metadata": {
        "colab": {
          "base_uri": "https://localhost:8080/"
        },
        "id": "yK0wV4xzj977",
        "outputId": "4992bdd5-f9e5-4e3e-9f82-d81ddab4a855"
      },
      "execution_count": null,
      "outputs": [
        {
          "output_type": "stream",
          "name": "stdout",
          "text": [
            "[1] 5\n"
          ]
        }
      ]
    },
    {
      "cell_type": "code",
      "source": [
        "x3<-c(x1,x2)\n",
        "print(x3)"
      ],
      "metadata": {
        "colab": {
          "base_uri": "https://localhost:8080/"
        },
        "id": "i_3mkEa4lLW8",
        "outputId": "c2f9de82-cd27-4ba6-d9a4-adaa437993f8"
      },
      "execution_count": null,
      "outputs": [
        {
          "output_type": "stream",
          "name": "stdout",
          "text": [
            "[1] 2 5\n"
          ]
        }
      ]
    },
    {
      "cell_type": "code",
      "source": [
        "?rnorm"
      ],
      "metadata": {
        "id": "NQFPsp5dqYJQ"
      },
      "execution_count": null,
      "outputs": []
    },
    {
      "cell_type": "markdown",
      "source": [
        "# Media.\n",
        "\n",
        "# Variables cuantitativas.\n",
        "\n",
        "$$\n",
        "\\bar{x} = \\frac{x_1 + x_2 + ... + x_n}{n}\n",
        "$$\n",
        "# Varianza.\n",
        "$$\n",
        "s^2 = \\frac{(x_1 - \\bar{x})^2 + ( x_2- \\bar{x})^2 + ... + (x_n - \\bar{x})^2}{n-1}\n",
        "$$\n",
        "# Desv Estándar.\n",
        "\n",
        "$$\n",
        "s = \\sqrt{ \\frac{(x_1 - \\bar{x})^2 + ( x_2- \\bar{x})^2 + ... + (x_n - \\bar{x})^2}{n-1}}\n",
        "$$\n",
        "\n"
      ],
      "metadata": {
        "id": "Mb-TnUo3ri36"
      }
    },
    {
      "cell_type": "code",
      "source": [
        "x<-1:10\n",
        "\n",
        "mean(x)\n",
        "\n",
        "sum(x)/10"
      ],
      "metadata": {
        "colab": {
          "base_uri": "https://localhost:8080/",
          "height": 52
        },
        "id": "bDhHlwyPr1ZQ",
        "outputId": "8ba03163-b9cb-4f67-bf56-ef5a5e6f8997"
      },
      "execution_count": null,
      "outputs": [
        {
          "output_type": "display_data",
          "data": {
            "text/html": [
              "5.5"
            ],
            "text/markdown": "5.5",
            "text/latex": "5.5",
            "text/plain": [
              "[1] 5.5"
            ]
          },
          "metadata": {}
        },
        {
          "output_type": "display_data",
          "data": {
            "text/html": [
              "5.5"
            ],
            "text/markdown": "5.5",
            "text/latex": "5.5",
            "text/plain": [
              "[1] 5.5"
            ]
          },
          "metadata": {}
        }
      ]
    },
    {
      "cell_type": "code",
      "source": [
        "x <- rnorm(1000,2,3)"
      ],
      "metadata": {
        "id": "jPfbuZV_rTVK"
      },
      "execution_count": null,
      "outputs": []
    },
    {
      "cell_type": "markdown",
      "source": [
        "# Diagrama de caja"
      ],
      "metadata": {
        "id": "OkLvXTIxtfmi"
      }
    },
    {
      "cell_type": "code",
      "source": [
        "boxplot(x)"
      ],
      "metadata": {
        "colab": {
          "base_uri": "https://localhost:8080/",
          "height": 437
        },
        "id": "poXVW9LAtemK",
        "outputId": "19872886-dbe6-4d52-bb57-3a671fc1f138"
      },
      "execution_count": null,
      "outputs": [
        {
          "output_type": "display_data",
          "data": {
            "text/plain": [
              "plot without title"
            ],
            "image/png": "[encoded data removed]"
          },
          "metadata": {
            "image/png": {
              "width": 420,
              "height": 420
            }
          }
        }
      ]
    },
    {
      "cell_type": "code",
      "source": [
        "quantile(x,c(0.25,0.5,0.75))"
      ],
      "metadata": {
        "colab": {
          "base_uri": "https://localhost:8080/",
          "height": 34
        },
        "id": "ry3c0wk3ttkq",
        "outputId": "63bd24a9-3f03-4dbe-8f38-a95d5add8311"
      },
      "execution_count": null,
      "outputs": [
        {
          "output_type": "display_data",
          "data": {
            "text/html": [
              "<style>\n",
              ".dl-inline {width: auto; margin:0; padding: 0}\n",
              ".dl-inline>dt, .dl-inline>dd {float: none; width: auto; display: inline-block}\n",
              ".dl-inline>dt::after {content: \":\\0020\"; padding-right: .5ex}\n",
              ".dl-inline>dt:not(:first-of-type) {padding-left: .5ex}\n",
              "</style><dl class=dl-inline><dt>25%</dt><dd>-0.234074500886943</dd><dt>50%</dt><dd>1.94267594749025</dd><dt>75%</dt><dd>4.08448123330356</dd></dl>\n"
            ],
            "text/markdown": "25%\n:   -0.23407450088694350%\n:   1.9426759474902575%\n:   4.08448123330356\n\n",
            "text/latex": "\\begin{description*}\n\\item[25\\textbackslash{}\\%] -0.234074500886943\n\\item[50\\textbackslash{}\\%] 1.94267594749025\n\\item[75\\textbackslash{}\\%] 4.08448123330356\n\\end{description*}\n",
            "text/plain": [
              "       25%        50%        75% \n",
              "-0.2340745  1.9426759  4.0844812 "
            ]
          },
          "metadata": {}
        }
      ]
    }
  ]
}
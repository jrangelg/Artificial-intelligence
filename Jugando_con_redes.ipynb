{
  "nbformat": 4,
  "nbformat_minor": 0,
  "metadata": {
    "colab": {
      "provenance": [],
      "authorship_tag": "ABX9TyPQQp9ZhnSTYKW2df8U3HNB",
      "include_colab_link": true
    },
    "kernelspec": {
      "name": "python3",
      "display_name": "Python 3"
    },
    "language_info": {
      "name": "python"
    }
  },
  "cells": [
    {
      "cell_type": "markdown",
      "metadata": {
        "id": "view-in-github",
        "colab_type": "text"
      },
      "source": [
        "<a href=\"https://colab.research.google.com/github/jrangelg/Artificial-intelligence-course-2023-2/blob/Tareas/Jugando_con_redes.ipynb\" target=\"_parent\"><img src=\"https://colab.research.google.com/assets/colab-badge.svg\" alt=\"Open In Colab\"/></a>"
      ]
    },
    {
      "cell_type": "markdown",
      "source": [
        "# TAREA JUGANDO CON REDES"
      ],
      "metadata": {
        "id": "U7FnESBHe-kW"
      }
    },
    {
      "cell_type": "code",
      "execution_count": 1,
      "metadata": {
        "colab": {
          "base_uri": "https://localhost:8080/"
        },
        "id": "ckkI1ypPeJ_D",
        "outputId": "58fcc9a6-83c7-4da6-a670-be515cf8ce88"
      },
      "outputs": [
        {
          "output_type": "stream",
          "name": "stdout",
          "text": [
            "Downloading data from https://storage.googleapis.com/tensorflow/tf-keras-datasets/mnist.npz\n",
            "11490434/11490434 [==============================] - 0s 0us/step\n",
            "Epoch 1/10\n",
            "938/938 [==============================] - 6s 5ms/step - loss: 0.3823 - accuracy: 0.8851 - val_loss: 0.1458 - val_accuracy: 0.9542\n",
            "Epoch 2/10\n",
            "938/938 [==============================] - 6s 6ms/step - loss: 0.1719 - accuracy: 0.9489 - val_loss: 0.1107 - val_accuracy: 0.9664\n",
            "Epoch 3/10\n",
            "938/938 [==============================] - 4s 4ms/step - loss: 0.1331 - accuracy: 0.9601 - val_loss: 0.0904 - val_accuracy: 0.9731\n",
            "Epoch 4/10\n",
            "938/938 [==============================] - 5s 5ms/step - loss: 0.1118 - accuracy: 0.9657 - val_loss: 0.0833 - val_accuracy: 0.9740\n",
            "Epoch 5/10\n",
            "938/938 [==============================] - 5s 6ms/step - loss: 0.0949 - accuracy: 0.9712 - val_loss: 0.0855 - val_accuracy: 0.9746\n",
            "Epoch 6/10\n",
            "938/938 [==============================] - 4s 4ms/step - loss: 0.0869 - accuracy: 0.9732 - val_loss: 0.0746 - val_accuracy: 0.9775\n",
            "Epoch 7/10\n",
            "938/938 [==============================] - 5s 5ms/step - loss: 0.0758 - accuracy: 0.9761 - val_loss: 0.0688 - val_accuracy: 0.9796\n",
            "Epoch 8/10\n",
            "938/938 [==============================] - 5s 5ms/step - loss: 0.0708 - accuracy: 0.9778 - val_loss: 0.0737 - val_accuracy: 0.9786\n",
            "Epoch 9/10\n",
            "938/938 [==============================] - 4s 4ms/step - loss: 0.0639 - accuracy: 0.9799 - val_loss: 0.0701 - val_accuracy: 0.9806\n",
            "Epoch 10/10\n",
            "938/938 [==============================] - 5s 6ms/step - loss: 0.0595 - accuracy: 0.9811 - val_loss: 0.0690 - val_accuracy: 0.9812\n",
            "313/313 [==============================] - 1s 2ms/step - loss: 0.0690 - accuracy: 0.9812\n",
            "Pérdida en el conjunto de prueba: 0.0689665749669075\n",
            "Exactitud en el conjunto de prueba: 0.9811999797821045\n"
          ]
        }
      ],
      "source": [
        "# Importar las bibliotecas necesarias\n",
        "import tensorflow as tf\n",
        "from tensorflow.keras.datasets import mnist\n",
        "from tensorflow.keras.models import Sequential\n",
        "from tensorflow.keras.layers import Dense, Flatten, Dropout\n",
        "from tensorflow.keras.utils import to_categorical\n",
        "\n",
        "# Cargar el conjunto de datos MNIST\n",
        "(x_train, y_train), (x_test, y_test) = mnist.load_data()\n",
        "\n",
        "# Normalizar las imágenes y codificar las etiquetas\n",
        "x_train = x_train / 255.0\n",
        "x_test = x_test / 255.0\n",
        "y_train = to_categorical(y_train, num_classes=10)\n",
        "y_test = to_categorical(y_test, num_classes=10)\n",
        "\n",
        "# Crear un modelo de red neuronal\n",
        "model = Sequential()\n",
        "\n",
        "# Capa de entrada (aplanar las imágenes)\n",
        "model.add(Flatten(input_shape=(28, 28)))\n",
        "\n",
        "# Capas ocultas\n",
        "model.add(Dense(128, activation='relu'))\n",
        "model.add(Dropout(0.2))\n",
        "model.add(Dense(64, activation='relu'))\n",
        "model.add(Dropout(0.2))\n",
        "\n",
        "# Capa de salida\n",
        "model.add(Dense(10, activation='softmax'))\n",
        "\n",
        "# Compilar el modelo\n",
        "model.compile(optimizer='adam', loss='categorical_crossentropy', metrics=['accuracy'])\n",
        "\n",
        "# Entrenar el modelo\n",
        "model.fit(x_train, y_train, epochs=10, batch_size=64, validation_data=(x_test, y_test))\n",
        "\n",
        "# Evaluar el modelo en el conjunto de prueba\n",
        "loss, accuracy = model.evaluate(x_test, y_test)\n",
        "print(f'Pérdida en el conjunto de prueba: {loss}')\n",
        "print(f'Exactitud en el conjunto de prueba: {accuracy}')\n"
      ]
    },
    {
      "cell_type": "code",
      "source": [
        "import tkinter as tk\n",
        "from tkinter import filedialog\n",
        "import numpy as np\n",
        "import matplotlib.pyplot as plt\n",
        "import tensorflow as tf\n",
        "\n",
        "# Función para predecir un número escrito a mano\n",
        "def predecir_numero(modelo, imagen):\n",
        "    imagen = imagen.reshape(1, 28, 28) / 255.0\n",
        "    prediccion = modelo.predict(imagen)\n",
        "    numero_predicho = np.argmax(prediccion)\n",
        "    return numero_predicho\n",
        "\n",
        "# Función para cargar una imagen y mostrar la predicción\n",
        "def cargar_imagen_y_predecir():\n",
        "    ruta_imagen = filedialog.askopenfilename(title=\"Seleccionar una imagen\",\n",
        "                                             filetypes=[(\"Archivos de imagen\", \"*.png *.jpg *.jpeg *.gif *.bmp\")])\n",
        "    if ruta_imagen:\n",
        "        imagen = plt.imread(ruta_imagen)\n",
        "        numero_predicho = predecir_numero(modelo, imagen)\n",
        "        resultado.config(text=f'Número Predicho: {numero_predicho}')\n",
        "        imagen = imagen[:,:,0]  # Convertir a escala de grises\n",
        "        plt.imshow(imagen, cmap='gray')\n",
        "        plt.axis('off')\n",
        "        plt.show()\n",
        "\n"
      ],
      "metadata": {
        "id": "BOv0xye_gUg9"
      },
      "execution_count": 4,
      "outputs": []
    }
  ]
}
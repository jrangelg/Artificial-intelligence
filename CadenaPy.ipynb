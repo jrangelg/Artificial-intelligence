{
  "nbformat": 4,
  "nbformat_minor": 0,
  "metadata": {
    "colab": {
      "provenance": [],
      "authorship_tag": "ABX9TyPlmt2Luvy0dhunzgTBjbVc",
      "include_colab_link": true
    },
    "kernelspec": {
      "name": "python3",
      "display_name": "Python 3"
    },
    "language_info": {
      "name": "python"
    }
  },
  "cells": [
    {
      "cell_type": "markdown",
      "metadata": {
        "id": "view-in-github",
        "colab_type": "text"
      },
      "source": [
        "<a href=\"https://colab.research.google.com/github/jrangelg/Artificial-intelligence/blob/main/CadenaPy.ipynb\" target=\"_parent\"><img src=\"https://colab.research.google.com/assets/colab-badge.svg\" alt=\"Open In Colab\"/></a>"
      ]
    },
    {
      "cell_type": "markdown",
      "source": [
        "# SIMULACIÓN CADENA DE MARKOV EN TIEMPO DISCRETO"
      ],
      "metadata": {
        "id": "vloS13S-Z6a5"
      }
    },
    {
      "cell_type": "markdown",
      "source": [
        "Una cadena de Markov es un modelo estocástico que describe una secuencia de eventos donde la probabilidad de que ocurra un evento futuro depende únicamente del estado actual y no de los estados anteriores que condujeron a ese estado actual. Estos procesos reciben el nombre en honor al matemático ruso Andrey Markov.\n",
        "\n",
        "En una cadena de Markov, se utilizan transiciones de estado para representar cómo un sistema se mueve de un estado a otro, y se asume que la probabilidad de transición depende solo del estado presente y no de la secuencia de eventos que llevó a ese estado. Esto se conoce como la propiedad de Markov o la propiedad sin memoria.\n",
        "\n",
        "Las cadenas de Markov se utilizan en una amplia variedad de campos, como la modelización de sistemas financieros, análisis de series temporales, reconocimiento de patrones, procesamiento de señales, aprendizaje automático, entre otros. Son especialmente útiles en situaciones donde se asume que el futuro depende principalmente del estado presente y no de una larga historia pasada."
      ],
      "metadata": {
        "id": "t72e1VPcaC1m"
      }
    },
    {
      "cell_type": "code",
      "execution_count": 1,
      "metadata": {
        "id": "4W2U_IlmZ5yh",
        "outputId": "f424f91c-ef19-4d55-b996-b874db105e33",
        "colab": {
          "base_uri": "https://localhost:8080/",
          "height": 510
        }
      },
      "outputs": [
        {
          "output_type": "stream",
          "name": "stdout",
          "text": [
            "Secuencia Simulada: [0, 0, 1, 1, 0, 0, 0, 0, 1, 0, 0]\n"
          ]
        },
        {
          "output_type": "display_data",
          "data": {
            "text/plain": [
              "<Figure size 640x480 with 1 Axes>"
            ],
            "image/png": "[encoded data removed]"
          },
          "metadata": {}
        }
      ],
      "source": [
        "import networkx as nx\n",
        "import numpy as np\n",
        "import matplotlib.pyplot as plt\n",
        "\n",
        "def simular_cadena_markov_grafo(grafo, estado_inicial, num_pasos):\n",
        "    secuencia_estados = [estado_inicial]\n",
        "\n",
        "    for _ in range(num_pasos):\n",
        "        # Obtener vecinos y probabilidades de transición desde el estado actual\n",
        "        vecinos = list(grafo.neighbors(estado_inicial))\n",
        "        probabilidades = [grafo[estado_inicial][vecino]['probabilidad'] for vecino in vecinos]\n",
        "\n",
        "        # Elegir el próximo estado basado en las probabilidades de transición\n",
        "        nuevo_estado = np.random.choice(vecinos, p=probabilidades)\n",
        "\n",
        "        # Actualizar el estado actual\n",
        "        estado_inicial = nuevo_estado\n",
        "\n",
        "        # Almacenar el estado en la secuencia\n",
        "        secuencia_estados.append(estado_inicial)\n",
        "\n",
        "    return secuencia_estados\n",
        "\n",
        "# Ejemplo de uso:\n",
        "G = nx.DiGraph()\n",
        "G.add_nodes_from([0, 1])\n",
        "G.add_edge(0, 1, probabilidad=0.3)\n",
        "G.add_edge(0, 0, probabilidad=0.7)\n",
        "G.add_edge(1, 0, probabilidad=0.4)\n",
        "G.add_edge(1, 1, probabilidad=0.6)\n",
        "\n",
        "estado_inicial = 0\n",
        "num_pasos = 10\n",
        "\n",
        "# Simular la cadena de Markov utilizando el grafo\n",
        "secuencia_simulada = simular_cadena_markov_grafo(G, estado_inicial, num_pasos)\n",
        "print(\"Secuencia Simulada:\", secuencia_simulada)\n",
        "\n",
        "# Dibujar el grafo\n",
        "pos = nx.circular_layout(G)\n",
        "nx.draw(G, pos, with_labels=True, arrows=True)\n",
        "labels = nx.get_edge_attributes(G, 'probabilidad')\n",
        "nx.draw_networkx_edge_labels(G, pos, edge_labels=labels)\n",
        "plt.show()\n"
      ]
    }
  ]
}
{
  "nbformat": 4,
  "nbformat_minor": 0,
  "metadata": {
    "colab": {
      "provenance": [],
      "authorship_tag": "ABX9TyONj3W16DyesCTkA+xx02Wz",
      "include_colab_link": true
    },
    "kernelspec": {
      "name": "python3",
      "display_name": "Python 3"
    },
    "language_info": {
      "name": "python"
    }
  },
  "cells": [
    {
      "cell_type": "markdown",
      "metadata": {
        "id": "view-in-github",
        "colab_type": "text"
      },
      "source": [
        "<a href=\"https://colab.research.google.com/github/jrangelg/Artificial-intelligence/blob/main/como_simular_MK.ipynb\" target=\"_parent\"><img src=\"https://colab.research.google.com/assets/colab-badge.svg\" alt=\"Open In Colab\"/></a>"
      ]
    },
    {
      "cell_type": "markdown",
      "source": [
        "# Cómo simular una cadena de Markov"
      ],
      "metadata": {
        "id": "8gl4XkM1YOsK"
      }
    },
    {
      "cell_type": "code",
      "execution_count": null,
      "metadata": {
        "colab": {
          "base_uri": "https://localhost:8080/"
        },
        "id": "d1lDvSsXYOEj",
        "outputId": "f2eefc1c-2816-4707-d936-484228de0e45"
      },
      "outputs": [
        {
          "output_type": "stream",
          "name": "stdout",
          "text": [
            "Requirement already satisfied: networkx in /usr/local/lib/python3.10/dist-packages (3.2.1)\n"
          ]
        }
      ],
      "source": [
        "pip install networkx\n"
      ]
    },
    {
      "cell_type": "code",
      "source": [
        "import networkx as nx\n",
        "import numpy as np\n",
        "import matplotlib.pyplot as plt\n",
        "\n",
        "def simular_cadena_markov_grafo(grafo, estado_inicial, num_pasos):\n",
        "    secuencia_estados = [estado_inicial]\n",
        "\n",
        "    for _ in range(num_pasos):\n",
        "        # Obtener vecinos y probabilidades de transición desde el estado actual\n",
        "        vecinos = list(grafo.neighbors(estado_inicial))\n",
        "        probabilidades = [grafo[estado_inicial][vecino]['probabilidad'] for vecino in vecinos]\n",
        "\n",
        "        # Elegir el próximo estado basado en las probabilidades de transición\n",
        "        nuevo_estado = np.random.choice(vecinos, p=probabilidades)\n",
        "\n",
        "        # Actualizar el estado actual\n",
        "        estado_inicial = nuevo_estado\n",
        "\n",
        "        # Almacenar el estado en la secuencia\n",
        "        secuencia_estados.append(estado_inicial)\n",
        "\n",
        "    return secuencia_estados\n",
        "\n",
        "# Ejemplo de uso:\n",
        "G = nx.DiGraph()\n",
        "G.add_nodes_from([0, 1])\n",
        "G.add_edge(0, 1, probabilidad=0.3)\n",
        "G.add_edge(0, 0, probabilidad=0.7)\n",
        "G.add_edge(1, 0, probabilidad=0.4)\n",
        "G.add_edge(1, 1, probabilidad=0.6)\n",
        "\n",
        "estado_inicial = 0\n",
        "num_pasos = 10\n",
        "\n",
        "# Simular la cadena de Markov utilizando el grafo\n",
        "secuencia_simulada = simular_cadena_markov_grafo(G, estado_inicial, num_pasos)\n",
        "print(\"Secuencia Simulada:\", secuencia_simulada)\n",
        "\n",
        "# Dibujar el grafo\n",
        "pos = nx.circular_layout(G)\n",
        "nx.draw(G, pos, with_labels=True, arrows=True)\n",
        "labels = nx.get_edge_attributes(G, 'probabilidad')\n",
        "nx.draw_networkx_edge_labels(G, pos, edge_labels=labels)\n",
        "plt.show()\n"
      ],
      "metadata": {
        "id": "um7fI-WqYVGY"
      },
      "execution_count": null,
      "outputs": []
    }
  ]
}
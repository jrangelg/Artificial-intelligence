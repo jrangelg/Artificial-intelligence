{
  "nbformat": 4,
  "nbformat_minor": 0,
  "metadata": {
    "colab": {
      "provenance": [],
      "include_colab_link": true
    },
    "kernelspec": {
      "display_name": "Python 3 (ipykernel)",
      "language": "python",
      "name": "python3"
    },
    "language_info": {
      "codemirror_mode": {
        "name": "ipython",
        "version": 3
      },
      "file_extension": ".py",
      "mimetype": "text/x-python",
      "name": "python",
      "nbconvert_exporter": "python",
      "pygments_lexer": "ipython3",
      "version": "3.9.7"
    }
  },
  "cells": [
    {
      "cell_type": "markdown",
      "metadata": {
        "id": "view-in-github",
        "colab_type": "text"
      },
      "source": [
        "<a href=\"https://colab.research.google.com/github/jrangelg/Artificial-intelligence/blob/main/Bagging_vs_Random_Forest_vs_XGBoosting.ipynb\" target=\"_parent\"><img src=\"https://colab.research.google.com/assets/colab-badge.svg\" alt=\"Open In Colab\"/></a>"
      ]
    },
    {
      "cell_type": "markdown",
      "metadata": {
        "id": "7Z8IdF4GSM7c"
      },
      "source": [
        "# Bagging  vs  Random  Forest vs XGBoosting"
      ]
    },
    {
      "cell_type": "markdown",
      "metadata": {
        "id": "R-CMxiL9SZM-"
      },
      "source": [
        "# Importar librerias"
      ]
    },
    {
      "cell_type": "code",
      "metadata": {
        "id": "4P3ib6OmR4YS"
      },
      "source": [
        "#importar librerias\n",
        "import pandas as pd\n",
        "import numpy as np\n",
        "import matplotlib.pyplot as plt\n",
        "%matplotlib inline\n",
        "import seaborn as sns"
      ],
      "execution_count": null,
      "outputs": []
    },
    {
      "cell_type": "markdown",
      "metadata": {
        "id": "dMcx5r4nSpal"
      },
      "source": [
        "# Importar archivos csv"
      ]
    },
    {
      "cell_type": "code",
      "metadata": {
        "id": "OLDsNCP9S0dQ"
      },
      "source": [
        "#leer los archivos\n",
        "#Leer el archivo de entrenamiento:\n",
        "train = pd.read_csv('https://raw.githubusercontent.com/TracyRenee61/Traffic-Forecasting/main/train_aWnotuB.csv')\n",
        "#Leer el archivo de prueba:\n",
        "test = pd.read_csv('https://raw.githubusercontent.com/TracyRenee61/Traffic-Forecasting/main/test_BdBKkAj.csv')\n",
        "#Leer el archivo de envío de muestras\n",
        "sample = pd.read_csv('https://raw.githubusercontent.com/TracyRenee61/Traffic-Forecasting/main/sample_submission_EZmX9uE.csv')"
      ],
      "execution_count": null,
      "outputs": []
    },
    {
      "cell_type": "code",
      "metadata": {
        "colab": {
          "base_uri": "https://localhost:8080/",
          "height": 423
        },
        "id": "Ddpu32NGUmEo",
        "outputId": "8da78e46-1420-4d01-fb06-f34efad09dd4"
      },
      "source": [
        "train # Datos de entrenamiento"
      ],
      "execution_count": null,
      "outputs": [
        {
          "output_type": "execute_result",
          "data": {
            "text/html": [
              "<div>\n",
              "<style scoped>\n",
              "    .dataframe tbody tr th:only-of-type {\n",
              "        vertical-align: middle;\n",
              "    }\n",
              "\n",
              "    .dataframe tbody tr th {\n",
              "        vertical-align: top;\n",
              "    }\n",
              "\n",
              "    .dataframe thead th {\n",
              "        text-align: right;\n",
              "    }\n",
              "</style>\n",
              "<table border=\"1\" class=\"dataframe\">\n",
              "  <thead>\n",
              "    <tr style=\"text-align: right;\">\n",
              "      <th></th>\n",
              "      <th>DateTime</th>\n",
              "      <th>Junction</th>\n",
              "      <th>Vehicles</th>\n",
              "      <th>ID</th>\n",
              "    </tr>\n",
              "  </thead>\n",
              "  <tbody>\n",
              "    <tr>\n",
              "      <th>0</th>\n",
              "      <td>2015-11-01 00:00:00</td>\n",
              "      <td>1</td>\n",
              "      <td>15</td>\n",
              "      <td>20151101001</td>\n",
              "    </tr>\n",
              "    <tr>\n",
              "      <th>1</th>\n",
              "      <td>2015-11-01 01:00:00</td>\n",
              "      <td>1</td>\n",
              "      <td>13</td>\n",
              "      <td>20151101011</td>\n",
              "    </tr>\n",
              "    <tr>\n",
              "      <th>2</th>\n",
              "      <td>2015-11-01 02:00:00</td>\n",
              "      <td>1</td>\n",
              "      <td>10</td>\n",
              "      <td>20151101021</td>\n",
              "    </tr>\n",
              "    <tr>\n",
              "      <th>3</th>\n",
              "      <td>2015-11-01 03:00:00</td>\n",
              "      <td>1</td>\n",
              "      <td>7</td>\n",
              "      <td>20151101031</td>\n",
              "    </tr>\n",
              "    <tr>\n",
              "      <th>4</th>\n",
              "      <td>2015-11-01 04:00:00</td>\n",
              "      <td>1</td>\n",
              "      <td>9</td>\n",
              "      <td>20151101041</td>\n",
              "    </tr>\n",
              "    <tr>\n",
              "      <th>...</th>\n",
              "      <td>...</td>\n",
              "      <td>...</td>\n",
              "      <td>...</td>\n",
              "      <td>...</td>\n",
              "    </tr>\n",
              "    <tr>\n",
              "      <th>48115</th>\n",
              "      <td>2017-06-30 19:00:00</td>\n",
              "      <td>4</td>\n",
              "      <td>11</td>\n",
              "      <td>20170630194</td>\n",
              "    </tr>\n",
              "    <tr>\n",
              "      <th>48116</th>\n",
              "      <td>2017-06-30 20:00:00</td>\n",
              "      <td>4</td>\n",
              "      <td>30</td>\n",
              "      <td>20170630204</td>\n",
              "    </tr>\n",
              "    <tr>\n",
              "      <th>48117</th>\n",
              "      <td>2017-06-30 21:00:00</td>\n",
              "      <td>4</td>\n",
              "      <td>16</td>\n",
              "      <td>20170630214</td>\n",
              "    </tr>\n",
              "    <tr>\n",
              "      <th>48118</th>\n",
              "      <td>2017-06-30 22:00:00</td>\n",
              "      <td>4</td>\n",
              "      <td>22</td>\n",
              "      <td>20170630224</td>\n",
              "    </tr>\n",
              "    <tr>\n",
              "      <th>48119</th>\n",
              "      <td>2017-06-30 23:00:00</td>\n",
              "      <td>4</td>\n",
              "      <td>12</td>\n",
              "      <td>20170630234</td>\n",
              "    </tr>\n",
              "  </tbody>\n",
              "</table>\n",
              "<p>48120 rows × 4 columns</p>\n",
              "</div>"
            ],
            "text/plain": [
              "                  DateTime  Junction  Vehicles           ID\n",
              "0      2015-11-01 00:00:00         1        15  20151101001\n",
              "1      2015-11-01 01:00:00         1        13  20151101011\n",
              "2      2015-11-01 02:00:00         1        10  20151101021\n",
              "3      2015-11-01 03:00:00         1         7  20151101031\n",
              "4      2015-11-01 04:00:00         1         9  20151101041\n",
              "...                    ...       ...       ...          ...\n",
              "48115  2017-06-30 19:00:00         4        11  20170630194\n",
              "48116  2017-06-30 20:00:00         4        30  20170630204\n",
              "48117  2017-06-30 21:00:00         4        16  20170630214\n",
              "48118  2017-06-30 22:00:00         4        22  20170630224\n",
              "48119  2017-06-30 23:00:00         4        12  20170630234\n",
              "\n",
              "[48120 rows x 4 columns]"
            ]
          },
          "metadata": {},
          "execution_count": 3
        }
      ]
    },
    {
      "cell_type": "code",
      "metadata": {
        "colab": {
          "base_uri": "https://localhost:8080/",
          "height": 423
        },
        "id": "bDeTJliuUwHI",
        "outputId": "fe6228de-586d-44be-f59e-adbfef74be52"
      },
      "source": [
        "test # Datos de Prueba"
      ],
      "execution_count": null,
      "outputs": [
        {
          "output_type": "execute_result",
          "data": {
            "text/html": [
              "<div>\n",
              "<style scoped>\n",
              "    .dataframe tbody tr th:only-of-type {\n",
              "        vertical-align: middle;\n",
              "    }\n",
              "\n",
              "    .dataframe tbody tr th {\n",
              "        vertical-align: top;\n",
              "    }\n",
              "\n",
              "    .dataframe thead th {\n",
              "        text-align: right;\n",
              "    }\n",
              "</style>\n",
              "<table border=\"1\" class=\"dataframe\">\n",
              "  <thead>\n",
              "    <tr style=\"text-align: right;\">\n",
              "      <th></th>\n",
              "      <th>DateTime</th>\n",
              "      <th>Junction</th>\n",
              "      <th>ID</th>\n",
              "    </tr>\n",
              "  </thead>\n",
              "  <tbody>\n",
              "    <tr>\n",
              "      <th>0</th>\n",
              "      <td>2017-07-01 00:00:00</td>\n",
              "      <td>1</td>\n",
              "      <td>20170701001</td>\n",
              "    </tr>\n",
              "    <tr>\n",
              "      <th>1</th>\n",
              "      <td>2017-07-01 01:00:00</td>\n",
              "      <td>1</td>\n",
              "      <td>20170701011</td>\n",
              "    </tr>\n",
              "    <tr>\n",
              "      <th>2</th>\n",
              "      <td>2017-07-01 02:00:00</td>\n",
              "      <td>1</td>\n",
              "      <td>20170701021</td>\n",
              "    </tr>\n",
              "    <tr>\n",
              "      <th>3</th>\n",
              "      <td>2017-07-01 03:00:00</td>\n",
              "      <td>1</td>\n",
              "      <td>20170701031</td>\n",
              "    </tr>\n",
              "    <tr>\n",
              "      <th>4</th>\n",
              "      <td>2017-07-01 04:00:00</td>\n",
              "      <td>1</td>\n",
              "      <td>20170701041</td>\n",
              "    </tr>\n",
              "    <tr>\n",
              "      <th>...</th>\n",
              "      <td>...</td>\n",
              "      <td>...</td>\n",
              "      <td>...</td>\n",
              "    </tr>\n",
              "    <tr>\n",
              "      <th>11803</th>\n",
              "      <td>2017-10-31 19:00:00</td>\n",
              "      <td>4</td>\n",
              "      <td>20171031194</td>\n",
              "    </tr>\n",
              "    <tr>\n",
              "      <th>11804</th>\n",
              "      <td>2017-10-31 20:00:00</td>\n",
              "      <td>4</td>\n",
              "      <td>20171031204</td>\n",
              "    </tr>\n",
              "    <tr>\n",
              "      <th>11805</th>\n",
              "      <td>2017-10-31 21:00:00</td>\n",
              "      <td>4</td>\n",
              "      <td>20171031214</td>\n",
              "    </tr>\n",
              "    <tr>\n",
              "      <th>11806</th>\n",
              "      <td>2017-10-31 22:00:00</td>\n",
              "      <td>4</td>\n",
              "      <td>20171031224</td>\n",
              "    </tr>\n",
              "    <tr>\n",
              "      <th>11807</th>\n",
              "      <td>2017-10-31 23:00:00</td>\n",
              "      <td>4</td>\n",
              "      <td>20171031234</td>\n",
              "    </tr>\n",
              "  </tbody>\n",
              "</table>\n",
              "<p>11808 rows × 3 columns</p>\n",
              "</div>"
            ],
            "text/plain": [
              "                  DateTime  Junction           ID\n",
              "0      2017-07-01 00:00:00         1  20170701001\n",
              "1      2017-07-01 01:00:00         1  20170701011\n",
              "2      2017-07-01 02:00:00         1  20170701021\n",
              "3      2017-07-01 03:00:00         1  20170701031\n",
              "4      2017-07-01 04:00:00         1  20170701041\n",
              "...                    ...       ...          ...\n",
              "11803  2017-10-31 19:00:00         4  20171031194\n",
              "11804  2017-10-31 20:00:00         4  20171031204\n",
              "11805  2017-10-31 21:00:00         4  20171031214\n",
              "11806  2017-10-31 22:00:00         4  20171031224\n",
              "11807  2017-10-31 23:00:00         4  20171031234\n",
              "\n",
              "[11808 rows x 3 columns]"
            ]
          },
          "metadata": {},
          "execution_count": 4
        }
      ]
    },
    {
      "cell_type": "code",
      "metadata": {
        "colab": {
          "base_uri": "https://localhost:8080/",
          "height": 50
        },
        "id": "c7qdIpaSUycn",
        "outputId": "036a06a2-e799-4b67-aa63-7afcad912086"
      },
      "source": [
        "sample #muestra"
      ],
      "execution_count": null,
      "outputs": [
        {
          "output_type": "execute_result",
          "data": {
            "text/html": [
              "<div>\n",
              "<style scoped>\n",
              "    .dataframe tbody tr th:only-of-type {\n",
              "        vertical-align: middle;\n",
              "    }\n",
              "\n",
              "    .dataframe tbody tr th {\n",
              "        vertical-align: top;\n",
              "    }\n",
              "\n",
              "    .dataframe thead th {\n",
              "        text-align: right;\n",
              "    }\n",
              "</style>\n",
              "<table border=\"1\" class=\"dataframe\">\n",
              "  <thead>\n",
              "    <tr style=\"text-align: right;\">\n",
              "      <th></th>\n",
              "      <th>ID</th>\n",
              "      <th>Vehicles</th>\n",
              "    </tr>\n",
              "  </thead>\n",
              "  <tbody>\n",
              "  </tbody>\n",
              "</table>\n",
              "</div>"
            ],
            "text/plain": [
              "Empty DataFrame\n",
              "Columns: [ID, Vehicles]\n",
              "Index: []"
            ]
          },
          "metadata": {},
          "execution_count": 5
        }
      ]
    },
    {
      "cell_type": "code",
      "metadata": {
        "colab": {
          "base_uri": "https://localhost:8080/"
        },
        "id": "r8LQM3vmZ1OB",
        "outputId": "677bab9c-b92a-445d-e1bf-14c98e563573"
      },
      "source": [
        "train.info() # información sobre los datos de entrenamiento"
      ],
      "execution_count": null,
      "outputs": [
        {
          "output_type": "stream",
          "name": "stdout",
          "text": [
            "<class 'pandas.core.frame.DataFrame'>\n",
            "RangeIndex: 48120 entries, 0 to 48119\n",
            "Data columns (total 4 columns):\n",
            " #   Column    Non-Null Count  Dtype \n",
            "---  ------    --------------  ----- \n",
            " 0   DateTime  48120 non-null  object\n",
            " 1   Junction  48120 non-null  int64 \n",
            " 2   Vehicles  48120 non-null  int64 \n",
            " 3   ID        48120 non-null  int64 \n",
            "dtypes: int64(3), object(1)\n",
            "memory usage: 1.5+ MB\n"
          ]
        }
      ]
    },
    {
      "cell_type": "code",
      "metadata": {
        "colab": {
          "base_uri": "https://localhost:8080/"
        },
        "id": "p2CoWbRuZ5iY",
        "outputId": "4188c3ef-78b3-464f-8f4d-6ca0b402b486"
      },
      "source": [
        "test.info() # información sobre los datos de prueba"
      ],
      "execution_count": null,
      "outputs": [
        {
          "output_type": "stream",
          "name": "stdout",
          "text": [
            "<class 'pandas.core.frame.DataFrame'>\n",
            "RangeIndex: 11808 entries, 0 to 11807\n",
            "Data columns (total 3 columns):\n",
            " #   Column    Non-Null Count  Dtype \n",
            "---  ------    --------------  ----- \n",
            " 0   DateTime  11808 non-null  object\n",
            " 1   Junction  11808 non-null  int64 \n",
            " 2   ID        11808 non-null  int64 \n",
            "dtypes: int64(2), object(1)\n",
            "memory usage: 276.9+ KB\n"
          ]
        }
      ]
    },
    {
      "cell_type": "markdown",
      "metadata": {
        "id": "pTv47yLMHCu5"
      },
      "source": [
        "# Revisar si existen valores nulos"
      ]
    },
    {
      "cell_type": "code",
      "metadata": {
        "colab": {
          "base_uri": "https://localhost:8080/",
          "height": 165
        },
        "id": "ChzCBjRaHJGI",
        "outputId": "413b480c-8574-48a8-cb73-5c339eb63b73"
      },
      "source": [
        "train.isnull().sum()"
      ],
      "execution_count": null,
      "outputs": [
        {
          "output_type": "error",
          "ename": "NameError",
          "evalue": "ignored",
          "traceback": [
            "\u001b[0;31m---------------------------------------------------------------------------\u001b[0m",
            "\u001b[0;31mNameError\u001b[0m                                 Traceback (most recent call last)",
            "\u001b[0;32m<ipython-input-1-f34a4ca27fa8>\u001b[0m in \u001b[0;36m<module>\u001b[0;34m()\u001b[0m\n\u001b[0;32m----> 1\u001b[0;31m \u001b[0mtrain\u001b[0m\u001b[0;34m.\u001b[0m\u001b[0misnull\u001b[0m\u001b[0;34m(\u001b[0m\u001b[0;34m)\u001b[0m\u001b[0;34m.\u001b[0m\u001b[0msum\u001b[0m\u001b[0;34m(\u001b[0m\u001b[0;34m)\u001b[0m\u001b[0;34m\u001b[0m\u001b[0;34m\u001b[0m\u001b[0m\n\u001b[0m",
            "\u001b[0;31mNameError\u001b[0m: name 'train' is not defined"
          ]
        }
      ]
    },
    {
      "cell_type": "code",
      "metadata": {
        "colab": {
          "base_uri": "https://localhost:8080/"
        },
        "id": "2hK5CTjZHMnp",
        "outputId": "aa0717a5-ed92-4245-e8f7-5d6f685b26fa"
      },
      "source": [
        "test.isnull().sum()"
      ],
      "execution_count": null,
      "outputs": [
        {
          "output_type": "execute_result",
          "data": {
            "text/plain": [
              "DateTime    0\n",
              "Junction    0\n",
              "ID          0\n",
              "dtype: int64"
            ]
          },
          "metadata": {},
          "execution_count": 9
        }
      ]
    },
    {
      "cell_type": "markdown",
      "metadata": {
        "id": "356OalCJFI0R"
      },
      "source": [
        "# Convertir columna Datetime en año, mes, semana, dia y hora (dada la estacionalidad)"
      ]
    },
    {
      "cell_type": "code",
      "metadata": {
        "colab": {
          "base_uri": "https://localhost:8080/"
        },
        "id": "ro1W8Gl9FLA_",
        "outputId": "b00ed89c-e7c9-4c45-810b-11188811f0eb"
      },
      "source": [
        "train['DateTime'] = pd.to_datetime(train['DateTime'], errors='coerce')\n",
        "test['DateTime'] = pd.to_datetime(test['DateTime'], errors='coerce')\n",
        "\n",
        "train['hourofday'] = train['DateTime'].dt.hour\n",
        "test['hourofday'] = test['DateTime'].dt.hour\n",
        "\n",
        "train['dayofweek'] = train['DateTime'].dt.dayofweek\n",
        "test['dayofweek'] = test['DateTime'].dt.dayofweek\n",
        "\n",
        "train['weekofyear'] = train['DateTime'].dt.week\n",
        "test['weekofyear'] = test['DateTime'].dt.week\n",
        "\n",
        "train['monthofyear'] = train['DateTime'].dt.month\n",
        "test['monthofyear'] = test['DateTime'].dt.month\n",
        "\n",
        "train['year'] = train['DateTime'].dt.year\n",
        "test['year'] = test['DateTime'].dt.year\n"
      ],
      "execution_count": null,
      "outputs": [
        {
          "output_type": "stream",
          "name": "stderr",
          "text": [
            "/usr/local/lib/python3.7/dist-packages/ipykernel_launcher.py:10: FutureWarning: Series.dt.weekofyear and Series.dt.week have been deprecated.  Please use Series.dt.isocalendar().week instead.\n",
            "  # Remove the CWD from sys.path while we load stuff.\n",
            "/usr/local/lib/python3.7/dist-packages/ipykernel_launcher.py:11: FutureWarning: Series.dt.weekofyear and Series.dt.week have been deprecated.  Please use Series.dt.isocalendar().week instead.\n",
            "  # This is added back by InteractiveShellApp.init_path()\n"
          ]
        }
      ]
    },
    {
      "cell_type": "markdown",
      "metadata": {
        "id": "GKrn8u8Eu3yO"
      },
      "source": [
        "# Preparar datos"
      ]
    },
    {
      "cell_type": "code",
      "metadata": {
        "id": "0VdNJqhrVcFT"
      },
      "source": [
        "ID_train = train.ID\n",
        "ID_test = test.ID"
      ],
      "execution_count": null,
      "outputs": []
    },
    {
      "cell_type": "code",
      "metadata": {
        "colab": {
          "base_uri": "https://localhost:8080/",
          "height": 423
        },
        "id": "2FEEwAGZty-O",
        "outputId": "05da3426-70da-4502-b759-8d250570a455"
      },
      "source": [
        "train.drop(['ID'], axis=1, inplace=True)\n",
        "test.drop(['ID'], axis=1, inplace=True)\n",
        "test"
      ],
      "execution_count": null,
      "outputs": [
        {
          "output_type": "execute_result",
          "data": {
            "text/html": [
              "<div>\n",
              "<style scoped>\n",
              "    .dataframe tbody tr th:only-of-type {\n",
              "        vertical-align: middle;\n",
              "    }\n",
              "\n",
              "    .dataframe tbody tr th {\n",
              "        vertical-align: top;\n",
              "    }\n",
              "\n",
              "    .dataframe thead th {\n",
              "        text-align: right;\n",
              "    }\n",
              "</style>\n",
              "<table border=\"1\" class=\"dataframe\">\n",
              "  <thead>\n",
              "    <tr style=\"text-align: right;\">\n",
              "      <th></th>\n",
              "      <th>DateTime</th>\n",
              "      <th>Junction</th>\n",
              "      <th>hourofday</th>\n",
              "      <th>dayofweek</th>\n",
              "      <th>weekofyear</th>\n",
              "      <th>monthofyear</th>\n",
              "      <th>year</th>\n",
              "    </tr>\n",
              "  </thead>\n",
              "  <tbody>\n",
              "    <tr>\n",
              "      <th>0</th>\n",
              "      <td>2017-07-01 00:00:00</td>\n",
              "      <td>1</td>\n",
              "      <td>0</td>\n",
              "      <td>5</td>\n",
              "      <td>26</td>\n",
              "      <td>7</td>\n",
              "      <td>2017</td>\n",
              "    </tr>\n",
              "    <tr>\n",
              "      <th>1</th>\n",
              "      <td>2017-07-01 01:00:00</td>\n",
              "      <td>1</td>\n",
              "      <td>1</td>\n",
              "      <td>5</td>\n",
              "      <td>26</td>\n",
              "      <td>7</td>\n",
              "      <td>2017</td>\n",
              "    </tr>\n",
              "    <tr>\n",
              "      <th>2</th>\n",
              "      <td>2017-07-01 02:00:00</td>\n",
              "      <td>1</td>\n",
              "      <td>2</td>\n",
              "      <td>5</td>\n",
              "      <td>26</td>\n",
              "      <td>7</td>\n",
              "      <td>2017</td>\n",
              "    </tr>\n",
              "    <tr>\n",
              "      <th>3</th>\n",
              "      <td>2017-07-01 03:00:00</td>\n",
              "      <td>1</td>\n",
              "      <td>3</td>\n",
              "      <td>5</td>\n",
              "      <td>26</td>\n",
              "      <td>7</td>\n",
              "      <td>2017</td>\n",
              "    </tr>\n",
              "    <tr>\n",
              "      <th>4</th>\n",
              "      <td>2017-07-01 04:00:00</td>\n",
              "      <td>1</td>\n",
              "      <td>4</td>\n",
              "      <td>5</td>\n",
              "      <td>26</td>\n",
              "      <td>7</td>\n",
              "      <td>2017</td>\n",
              "    </tr>\n",
              "    <tr>\n",
              "      <th>...</th>\n",
              "      <td>...</td>\n",
              "      <td>...</td>\n",
              "      <td>...</td>\n",
              "      <td>...</td>\n",
              "      <td>...</td>\n",
              "      <td>...</td>\n",
              "      <td>...</td>\n",
              "    </tr>\n",
              "    <tr>\n",
              "      <th>11803</th>\n",
              "      <td>2017-10-31 19:00:00</td>\n",
              "      <td>4</td>\n",
              "      <td>19</td>\n",
              "      <td>1</td>\n",
              "      <td>44</td>\n",
              "      <td>10</td>\n",
              "      <td>2017</td>\n",
              "    </tr>\n",
              "    <tr>\n",
              "      <th>11804</th>\n",
              "      <td>2017-10-31 20:00:00</td>\n",
              "      <td>4</td>\n",
              "      <td>20</td>\n",
              "      <td>1</td>\n",
              "      <td>44</td>\n",
              "      <td>10</td>\n",
              "      <td>2017</td>\n",
              "    </tr>\n",
              "    <tr>\n",
              "      <th>11805</th>\n",
              "      <td>2017-10-31 21:00:00</td>\n",
              "      <td>4</td>\n",
              "      <td>21</td>\n",
              "      <td>1</td>\n",
              "      <td>44</td>\n",
              "      <td>10</td>\n",
              "      <td>2017</td>\n",
              "    </tr>\n",
              "    <tr>\n",
              "      <th>11806</th>\n",
              "      <td>2017-10-31 22:00:00</td>\n",
              "      <td>4</td>\n",
              "      <td>22</td>\n",
              "      <td>1</td>\n",
              "      <td>44</td>\n",
              "      <td>10</td>\n",
              "      <td>2017</td>\n",
              "    </tr>\n",
              "    <tr>\n",
              "      <th>11807</th>\n",
              "      <td>2017-10-31 23:00:00</td>\n",
              "      <td>4</td>\n",
              "      <td>23</td>\n",
              "      <td>1</td>\n",
              "      <td>44</td>\n",
              "      <td>10</td>\n",
              "      <td>2017</td>\n",
              "    </tr>\n",
              "  </tbody>\n",
              "</table>\n",
              "<p>11808 rows × 7 columns</p>\n",
              "</div>"
            ],
            "text/plain": [
              "                 DateTime  Junction  hourofday  ...  weekofyear  monthofyear  year\n",
              "0     2017-07-01 00:00:00         1          0  ...          26            7  2017\n",
              "1     2017-07-01 01:00:00         1          1  ...          26            7  2017\n",
              "2     2017-07-01 02:00:00         1          2  ...          26            7  2017\n",
              "3     2017-07-01 03:00:00         1          3  ...          26            7  2017\n",
              "4     2017-07-01 04:00:00         1          4  ...          26            7  2017\n",
              "...                   ...       ...        ...  ...         ...          ...   ...\n",
              "11803 2017-10-31 19:00:00         4         19  ...          44           10  2017\n",
              "11804 2017-10-31 20:00:00         4         20  ...          44           10  2017\n",
              "11805 2017-10-31 21:00:00         4         21  ...          44           10  2017\n",
              "11806 2017-10-31 22:00:00         4         22  ...          44           10  2017\n",
              "11807 2017-10-31 23:00:00         4         23  ...          44           10  2017\n",
              "\n",
              "[11808 rows x 7 columns]"
            ]
          },
          "metadata": {},
          "execution_count": 12
        }
      ]
    },
    {
      "cell_type": "code",
      "metadata": {
        "scrolled": true,
        "id": "BWGJujQzdbpp",
        "colab": {
          "base_uri": "https://localhost:8080/",
          "height": 423
        },
        "outputId": "4c40464c-0814-48cd-b1a8-5ab769114e92"
      },
      "source": [
        "train"
      ],
      "execution_count": null,
      "outputs": [
        {
          "output_type": "execute_result",
          "data": {
            "text/html": [
              "<div>\n",
              "<style scoped>\n",
              "    .dataframe tbody tr th:only-of-type {\n",
              "        vertical-align: middle;\n",
              "    }\n",
              "\n",
              "    .dataframe tbody tr th {\n",
              "        vertical-align: top;\n",
              "    }\n",
              "\n",
              "    .dataframe thead th {\n",
              "        text-align: right;\n",
              "    }\n",
              "</style>\n",
              "<table border=\"1\" class=\"dataframe\">\n",
              "  <thead>\n",
              "    <tr style=\"text-align: right;\">\n",
              "      <th></th>\n",
              "      <th>DateTime</th>\n",
              "      <th>Junction</th>\n",
              "      <th>Vehicles</th>\n",
              "      <th>hourofday</th>\n",
              "      <th>dayofweek</th>\n",
              "      <th>weekofyear</th>\n",
              "      <th>monthofyear</th>\n",
              "      <th>year</th>\n",
              "    </tr>\n",
              "  </thead>\n",
              "  <tbody>\n",
              "    <tr>\n",
              "      <th>0</th>\n",
              "      <td>2015-11-01 00:00:00</td>\n",
              "      <td>1</td>\n",
              "      <td>15</td>\n",
              "      <td>0</td>\n",
              "      <td>6</td>\n",
              "      <td>44</td>\n",
              "      <td>11</td>\n",
              "      <td>2015</td>\n",
              "    </tr>\n",
              "    <tr>\n",
              "      <th>1</th>\n",
              "      <td>2015-11-01 01:00:00</td>\n",
              "      <td>1</td>\n",
              "      <td>13</td>\n",
              "      <td>1</td>\n",
              "      <td>6</td>\n",
              "      <td>44</td>\n",
              "      <td>11</td>\n",
              "      <td>2015</td>\n",
              "    </tr>\n",
              "    <tr>\n",
              "      <th>2</th>\n",
              "      <td>2015-11-01 02:00:00</td>\n",
              "      <td>1</td>\n",
              "      <td>10</td>\n",
              "      <td>2</td>\n",
              "      <td>6</td>\n",
              "      <td>44</td>\n",
              "      <td>11</td>\n",
              "      <td>2015</td>\n",
              "    </tr>\n",
              "    <tr>\n",
              "      <th>3</th>\n",
              "      <td>2015-11-01 03:00:00</td>\n",
              "      <td>1</td>\n",
              "      <td>7</td>\n",
              "      <td>3</td>\n",
              "      <td>6</td>\n",
              "      <td>44</td>\n",
              "      <td>11</td>\n",
              "      <td>2015</td>\n",
              "    </tr>\n",
              "    <tr>\n",
              "      <th>4</th>\n",
              "      <td>2015-11-01 04:00:00</td>\n",
              "      <td>1</td>\n",
              "      <td>9</td>\n",
              "      <td>4</td>\n",
              "      <td>6</td>\n",
              "      <td>44</td>\n",
              "      <td>11</td>\n",
              "      <td>2015</td>\n",
              "    </tr>\n",
              "    <tr>\n",
              "      <th>...</th>\n",
              "      <td>...</td>\n",
              "      <td>...</td>\n",
              "      <td>...</td>\n",
              "      <td>...</td>\n",
              "      <td>...</td>\n",
              "      <td>...</td>\n",
              "      <td>...</td>\n",
              "      <td>...</td>\n",
              "    </tr>\n",
              "    <tr>\n",
              "      <th>48115</th>\n",
              "      <td>2017-06-30 19:00:00</td>\n",
              "      <td>4</td>\n",
              "      <td>11</td>\n",
              "      <td>19</td>\n",
              "      <td>4</td>\n",
              "      <td>26</td>\n",
              "      <td>6</td>\n",
              "      <td>2017</td>\n",
              "    </tr>\n",
              "    <tr>\n",
              "      <th>48116</th>\n",
              "      <td>2017-06-30 20:00:00</td>\n",
              "      <td>4</td>\n",
              "      <td>30</td>\n",
              "      <td>20</td>\n",
              "      <td>4</td>\n",
              "      <td>26</td>\n",
              "      <td>6</td>\n",
              "      <td>2017</td>\n",
              "    </tr>\n",
              "    <tr>\n",
              "      <th>48117</th>\n",
              "      <td>2017-06-30 21:00:00</td>\n",
              "      <td>4</td>\n",
              "      <td>16</td>\n",
              "      <td>21</td>\n",
              "      <td>4</td>\n",
              "      <td>26</td>\n",
              "      <td>6</td>\n",
              "      <td>2017</td>\n",
              "    </tr>\n",
              "    <tr>\n",
              "      <th>48118</th>\n",
              "      <td>2017-06-30 22:00:00</td>\n",
              "      <td>4</td>\n",
              "      <td>22</td>\n",
              "      <td>22</td>\n",
              "      <td>4</td>\n",
              "      <td>26</td>\n",
              "      <td>6</td>\n",
              "      <td>2017</td>\n",
              "    </tr>\n",
              "    <tr>\n",
              "      <th>48119</th>\n",
              "      <td>2017-06-30 23:00:00</td>\n",
              "      <td>4</td>\n",
              "      <td>12</td>\n",
              "      <td>23</td>\n",
              "      <td>4</td>\n",
              "      <td>26</td>\n",
              "      <td>6</td>\n",
              "      <td>2017</td>\n",
              "    </tr>\n",
              "  </tbody>\n",
              "</table>\n",
              "<p>48120 rows × 8 columns</p>\n",
              "</div>"
            ],
            "text/plain": [
              "                 DateTime  Junction  Vehicles  ...  weekofyear  monthofyear  year\n",
              "0     2015-11-01 00:00:00         1        15  ...          44           11  2015\n",
              "1     2015-11-01 01:00:00         1        13  ...          44           11  2015\n",
              "2     2015-11-01 02:00:00         1        10  ...          44           11  2015\n",
              "3     2015-11-01 03:00:00         1         7  ...          44           11  2015\n",
              "4     2015-11-01 04:00:00         1         9  ...          44           11  2015\n",
              "...                   ...       ...       ...  ...         ...          ...   ...\n",
              "48115 2017-06-30 19:00:00         4        11  ...          26            6  2017\n",
              "48116 2017-06-30 20:00:00         4        30  ...          26            6  2017\n",
              "48117 2017-06-30 21:00:00         4        16  ...          26            6  2017\n",
              "48118 2017-06-30 22:00:00         4        22  ...          26            6  2017\n",
              "48119 2017-06-30 23:00:00         4        12  ...          26            6  2017\n",
              "\n",
              "[48120 rows x 8 columns]"
            ]
          },
          "metadata": {},
          "execution_count": 13
        }
      ]
    },
    {
      "cell_type": "markdown",
      "metadata": {
        "id": "8Cr2X9kIdbpp"
      },
      "source": [
        "# Convertir columnas a enteros"
      ]
    },
    {
      "cell_type": "code",
      "metadata": {
        "id": "_e25tWn0dbpp"
      },
      "source": [
        "train.hourofday=train.hourofday.astype(int)\n",
        "train.dayofweek=train.dayofweek.astype(int)\n",
        "train.weekofyear=train.weekofyear.astype(int)\n",
        "train.monthofyear=train.monthofyear.astype(int)\n",
        "train.year=train.year.astype(int)\n",
        "\n",
        "test.hourofday=test.hourofday.astype(int)\n",
        "test.dayofweek=test.dayofweek.astype(int)\n",
        "test.weekofyear=test.weekofyear.astype(int)\n",
        "test.monthofyear=test.monthofyear.astype(int)\n",
        "test.year=test.year.astype(int)\n"
      ],
      "execution_count": null,
      "outputs": []
    },
    {
      "cell_type": "markdown",
      "metadata": {
        "id": "0Th5Ax7ov3Su"
      },
      "source": [
        "# Graficar los datos"
      ]
    },
    {
      "cell_type": "code",
      "metadata": {
        "colab": {
          "base_uri": "https://localhost:8080/",
          "height": 530
        },
        "id": "4wd5jd1wv5tb",
        "outputId": "9551a545-830a-42c7-8d06-58fca629f54d"
      },
      "source": [
        "import matplotlib.pyplot as plt\n",
        "#suma de horas en 4 meses\n",
        "train['Vehicles'].plot(figsize=(16, 8))\n",
        "plt.title('Time Series')\n",
        "plt.xlabel(\"DateTime\")\n",
        "plt.ylabel(\"Vehicles\")"
      ],
      "execution_count": null,
      "outputs": [
        {
          "output_type": "execute_result",
          "data": {
            "text/plain": [
              "Text(0, 0.5, 'Vehicles')"
            ]
          },
          "metadata": {},
          "execution_count": 15
        },
        {
          "output_type": "display_data",
          "data": {
            "image/png": "[encoded data removed]",
            "text/plain": [
              "<Figure size 1152x576 with 1 Axes>"
            ]
          },
          "metadata": {
            "needs_background": "light"
          }
        }
      ]
    },
    {
      "cell_type": "markdown",
      "metadata": {
        "id": "EEXKvle3Zaz-"
      },
      "source": [
        "# Definir variables X y Y"
      ]
    },
    {
      "cell_type": "code",
      "metadata": {
        "id": "69nh8siNZaSJ"
      },
      "source": [
        "y = train['Vehicles'].values # numero de vehiculos en el cruce\n",
        "X = train.drop(['Vehicles', 'DateTime'], axis=1) # Fecha\n",
        "X_test = test.drop(['DateTime'], axis=1)# Fecha para predecir y validar modelo"
      ],
      "execution_count": null,
      "outputs": []
    },
    {
      "cell_type": "markdown",
      "metadata": {
        "id": "RatSXssswNCC"
      },
      "source": [
        "# Dividir el conjunto de entrenamiento para la prueba y la validación"
      ]
    },
    {
      "cell_type": "code",
      "metadata": {
        "colab": {
          "base_uri": "https://localhost:8080/"
        },
        "id": "kEOqT7EweZWx",
        "outputId": "3db45173-62e3-4930-980f-29f61a1824cb"
      },
      "source": [
        "from sklearn.model_selection import train_test_split\n",
        "\n",
        "X_train, X_val, y_train, y_val = train_test_split(X, y, test_size=0.1, shuffle=False)\n",
        "print(X_train.shape)\n",
        "print(X_val.shape)\n",
        "print(y_train.shape)\n",
        "print(y_val.shape)\n",
        "print(X_test.shape)\n"
      ],
      "execution_count": null,
      "outputs": [
        {
          "output_type": "stream",
          "name": "stdout",
          "text": [
            "(43308, 6)\n",
            "(4812, 6)\n",
            "(43308,)\n",
            "(4812,)\n",
            "(11808, 6)\n"
          ]
        }
      ]
    },
    {
      "cell_type": "code",
      "metadata": {
        "id": "bksURHRUdbpr"
      },
      "source": [],
      "execution_count": null,
      "outputs": []
    },
    {
      "cell_type": "markdown",
      "metadata": {
        "id": "usKnbRmYdbps"
      },
      "source": [
        "# RMSE para Random forest, bagging y XGBoosting"
      ]
    },
    {
      "cell_type": "markdown",
      "metadata": {
        "id": "2FGQgg3Z6t0Z"
      },
      "source": [
        "## Random Forest"
      ]
    },
    {
      "cell_type": "code",
      "metadata": {
        "id": "VhOHX0Andbps",
        "colab": {
          "base_uri": "https://localhost:8080/"
        },
        "outputId": "cf741057-aec7-4dac-cc18-c1ecd7fc1004"
      },
      "source": [
        "from sklearn.ensemble import RandomForestRegressor\n",
        "\n",
        "# Instaurar rf\n",
        "rf = RandomForestRegressor(n_estimators=100, random_state=2)\n",
        "\n",
        "# Ajuste del  rf al conjunto de entrenamiento\n",
        "rf.fit(X_train, y_train)"
      ],
      "execution_count": null,
      "outputs": [
        {
          "output_type": "execute_result",
          "data": {
            "text/plain": [
              "RandomForestRegressor(random_state=2)"
            ]
          },
          "metadata": {},
          "execution_count": 50
        }
      ]
    },
    {
      "cell_type": "code",
      "metadata": {
        "id": "0CN82hLsdbps",
        "colab": {
          "base_uri": "https://localhost:8080/"
        },
        "outputId": "ae8101da-b145-4ebb-8ade-a0802487074f"
      },
      "source": [
        "from sklearn.metrics import mean_squared_error as MSE\n",
        "\n",
        "# Predict the test set labels\n",
        "y_pred = rf.predict(X_val)\n",
        "\n",
        "# Evaluate the test set RMSE\n",
        "rmse_test = MSE(y_val, y_pred) ** 0.5\n",
        "\n",
        "# Print rmse_test\n",
        "print('Test set RMSE of rf: {:.2f}'.format(rmse_test))"
      ],
      "execution_count": null,
      "outputs": [
        {
          "output_type": "stream",
          "name": "stdout",
          "text": [
            "Test set RMSE of rf: 13.32\n"
          ]
        }
      ]
    },
    {
      "cell_type": "markdown",
      "metadata": {
        "id": "PHrCi--g64wY"
      },
      "source": [
        "## Bagging"
      ]
    },
    {
      "cell_type": "code",
      "metadata": {
        "id": "ceTYLsvqdbpt",
        "colab": {
          "base_uri": "https://localhost:8080/"
        },
        "outputId": "7b469f82-153b-45cb-d95b-de0c8acb8906"
      },
      "source": [
        " from sklearn.ensemble import BaggingRegressor\n",
        "\n",
        "# Instaurar br\n",
        "br = BaggingRegressor(n_estimators=100, random_state=2)\n",
        "\n",
        "# Ajuste del  br para el conjunto de entrenamiento\n",
        "br.fit(X_train, y_train)"
      ],
      "execution_count": null,
      "outputs": [
        {
          "output_type": "execute_result",
          "data": {
            "text/plain": [
              "BaggingRegressor(n_estimators=100, random_state=2)"
            ]
          },
          "metadata": {},
          "execution_count": 31
        }
      ]
    },
    {
      "cell_type": "code",
      "metadata": {
        "id": "rT3OTgMFdbpt",
        "colab": {
          "base_uri": "https://localhost:8080/"
        },
        "outputId": "c7cf9e36-311c-4823-bfee-754946639811"
      },
      "source": [
        "from sklearn.metrics import mean_squared_error as MSE\n",
        "\n",
        "# Predict the test set labels\n",
        "y_pred1 = br.predict(X_val)\n",
        "\n",
        "# Evaluate the test set RMSE\n",
        "rmse_test1 = MSE(y_val, y_pred1) ** 0.5\n",
        "\n",
        "# Print rmse_test\n",
        "print('Test set RMSE of br: {:.2f}'.format(rmse_test1))"
      ],
      "execution_count": null,
      "outputs": [
        {
          "output_type": "stream",
          "name": "stdout",
          "text": [
            "Test set RMSE of br: 13.32\n"
          ]
        }
      ]
    },
    {
      "cell_type": "markdown",
      "metadata": {
        "id": "CcPawOqJ68_2"
      },
      "source": [
        "##XGBoosting"
      ]
    },
    {
      "cell_type": "code",
      "metadata": {
        "colab": {
          "base_uri": "https://localhost:8080/"
        },
        "id": "cPKO7UWP3ebu",
        "outputId": "7296f388-86ec-4f25-fef5-cc321e7a5f92"
      },
      "source": [
        "import xgboost as xgb\n",
        "\n",
        "# Instaurar xgbr\n",
        "xgbr = xgb.XGBRegressor(n_estimators=100, random_state=2)\n",
        "\n",
        "# Ajuste del  rf al conjunto de entrenamiento\n",
        "xgbr.fit(X_train, y_train)"
      ],
      "execution_count": null,
      "outputs": [
        {
          "output_type": "stream",
          "name": "stdout",
          "text": [
            "[22:40:43] WARNING: /workspace/src/objective/regression_obj.cu:152: reg:linear is now deprecated in favor of reg:squarederror.\n"
          ]
        },
        {
          "output_type": "execute_result",
          "data": {
            "text/plain": [
              "XGBRegressor(random_state=2)"
            ]
          },
          "metadata": {},
          "execution_count": 48
        }
      ]
    },
    {
      "cell_type": "code",
      "metadata": {
        "colab": {
          "base_uri": "https://localhost:8080/"
        },
        "id": "Tsh3pwyj3enb",
        "outputId": "1fdf5a42-9f43-4bb1-d743-b571a2dd866e"
      },
      "source": [
        "from sklearn.metrics import mean_squared_error as MSE\n",
        "\n",
        "# Predict the test set labels\n",
        "y_pred2 = xgbr.predict(X_val)\n",
        "\n",
        "# Evaluate the test set RMSE\n",
        "rmse_test2 = MSE(y_val, y_pred2) ** 0.5\n",
        "\n",
        "# Print rmse_test\n",
        "print('Test set RMSE of xgbr: {:.2f}'.format(rmse_test2))"
      ],
      "execution_count": null,
      "outputs": [
        {
          "output_type": "stream",
          "name": "stdout",
          "text": [
            "Test set RMSE of xgbr: 12.46\n"
          ]
        }
      ]
    },
    {
      "cell_type": "markdown",
      "metadata": {
        "id": "ekfezBSCfjnc"
      },
      "source": [
        "# Hacer un  pipeline para crear modelo\n"
      ]
    },
    {
      "cell_type": "code",
      "metadata": {
        "colab": {
          "base_uri": "https://localhost:8080/"
        },
        "id": "KZi8I6tLfp9x",
        "outputId": "542e905b-2e96-444c-df76-0e648581671b"
      },
      "source": [
        "from sklearn.pipeline import make_pipeline\n",
        "from sklearn.preprocessing import StandardScaler\n",
        "from sklearn.ensemble import BaggingRegressor\n",
        "from sklearn.ensemble import GradientBoostingRegressor\n",
        "\n",
        "model = make_pipeline(StandardScaler(), BaggingRegressor(base_estimator=GradientBoostingRegressor(max_depth=10, min_samples_split=2, loss='ls',n_estimators=400, learning_rate=.1, random_state=1))).fit(X_train, y_train)\n",
        "print(model.score(X_train, y_train))"
      ],
      "execution_count": null,
      "outputs": [
        {
          "output_type": "stream",
          "name": "stderr",
          "text": [
            "/usr/local/lib/python3.7/dist-packages/sklearn/ensemble/_gb.py:290: FutureWarning: The loss 'ls' was deprecated in v1.0 and will be removed in version 1.2. Use 'squared_error' which is equivalent.\n",
            "  FutureWarning,\n",
            "/usr/local/lib/python3.7/dist-packages/sklearn/ensemble/_gb.py:290: FutureWarning: The loss 'ls' was deprecated in v1.0 and will be removed in version 1.2. Use 'squared_error' which is equivalent.\n",
            "  FutureWarning,\n",
            "/usr/local/lib/python3.7/dist-packages/sklearn/ensemble/_gb.py:290: FutureWarning: The loss 'ls' was deprecated in v1.0 and will be removed in version 1.2. Use 'squared_error' which is equivalent.\n",
            "  FutureWarning,\n",
            "/usr/local/lib/python3.7/dist-packages/sklearn/ensemble/_gb.py:290: FutureWarning: The loss 'ls' was deprecated in v1.0 and will be removed in version 1.2. Use 'squared_error' which is equivalent.\n",
            "  FutureWarning,\n",
            "/usr/local/lib/python3.7/dist-packages/sklearn/ensemble/_gb.py:290: FutureWarning: The loss 'ls' was deprecated in v1.0 and will be removed in version 1.2. Use 'squared_error' which is equivalent.\n",
            "  FutureWarning,\n",
            "/usr/local/lib/python3.7/dist-packages/sklearn/ensemble/_gb.py:290: FutureWarning: The loss 'ls' was deprecated in v1.0 and will be removed in version 1.2. Use 'squared_error' which is equivalent.\n",
            "  FutureWarning,\n",
            "/usr/local/lib/python3.7/dist-packages/sklearn/ensemble/_gb.py:290: FutureWarning: The loss 'ls' was deprecated in v1.0 and will be removed in version 1.2. Use 'squared_error' which is equivalent.\n",
            "  FutureWarning,\n",
            "/usr/local/lib/python3.7/dist-packages/sklearn/ensemble/_gb.py:290: FutureWarning: The loss 'ls' was deprecated in v1.0 and will be removed in version 1.2. Use 'squared_error' which is equivalent.\n",
            "  FutureWarning,\n",
            "/usr/local/lib/python3.7/dist-packages/sklearn/ensemble/_gb.py:290: FutureWarning: The loss 'ls' was deprecated in v1.0 and will be removed in version 1.2. Use 'squared_error' which is equivalent.\n",
            "  FutureWarning,\n",
            "/usr/local/lib/python3.7/dist-packages/sklearn/ensemble/_gb.py:290: FutureWarning: The loss 'ls' was deprecated in v1.0 and will be removed in version 1.2. Use 'squared_error' which is equivalent.\n",
            "  FutureWarning,\n"
          ]
        },
        {
          "output_type": "stream",
          "name": "stdout",
          "text": [
            "0.9922442284297157\n"
          ]
        }
      ]
    },
    {
      "cell_type": "markdown",
      "metadata": {
        "id": "twOF6WfXm79U"
      },
      "source": [
        "# Predicción en el conjunto de validación"
      ]
    },
    {
      "cell_type": "code",
      "metadata": {
        "colab": {
          "base_uri": "https://localhost:8080/"
        },
        "id": "v6dEwJ5yfO7-",
        "outputId": "6295e394-3fef-4662-df6c-34c236e80621"
      },
      "source": [
        "from sklearn.metrics import r2_score\n",
        "\n",
        "y_pred = model.predict(X_val)\n",
        "y_pred = y_pred.astype(int)\n",
        "print(model.score(X_val, y_val))# precision del conjunto\n",
        "print(r2_score(y_pred, model.predict(X_val)))# coeficiente de determinacion R^2"
      ],
      "execution_count": null,
      "outputs": [
        {
          "output_type": "stream",
          "name": "stdout",
          "text": [
            "-3.39741454833149\n",
            "0.9966937780792786\n"
          ]
        }
      ]
    },
    {
      "cell_type": "code",
      "metadata": {
        "id": "_qTz61Jddbpx",
        "colab": {
          "base_uri": "https://localhost:8080/"
        },
        "outputId": "ca6a2f9a-f75c-4768-f050-a479c931c4b8"
      },
      "source": [
        "y_val"
      ],
      "execution_count": null,
      "outputs": [
        {
          "output_type": "execute_result",
          "data": {
            "text/plain": [
              "array([17, 13,  9, ..., 16, 22, 12])"
            ]
          },
          "metadata": {},
          "execution_count": 35
        }
      ]
    },
    {
      "cell_type": "code",
      "metadata": {
        "colab": {
          "base_uri": "https://localhost:8080/"
        },
        "id": "UTdJUVJhiQd-",
        "outputId": "2164242b-83a6-481d-9f51-145b0d734d76"
      },
      "source": [
        "y_pred"
      ],
      "execution_count": null,
      "outputs": [
        {
          "output_type": "execute_result",
          "data": {
            "text/plain": [
              "array([15, 13, 11, ..., 21, 21, 18])"
            ]
          },
          "metadata": {},
          "execution_count": 36
        }
      ]
    },
    {
      "cell_type": "code",
      "metadata": {
        "colab": {
          "base_uri": "https://localhost:8080/",
          "height": 423
        },
        "id": "uc0ZHyRXknDA",
        "outputId": "f841dad6-11c7-425d-abd4-e8ece6436a84"
      },
      "source": [
        "df_val=pd.DataFrame({'actual': y_val, 'predicted': y_pred})\n",
        "df_val.reset_index(drop=True, inplace=True)\n",
        "df_val"
      ],
      "execution_count": null,
      "outputs": [
        {
          "output_type": "execute_result",
          "data": {
            "text/html": [
              "<div>\n",
              "<style scoped>\n",
              "    .dataframe tbody tr th:only-of-type {\n",
              "        vertical-align: middle;\n",
              "    }\n",
              "\n",
              "    .dataframe tbody tr th {\n",
              "        vertical-align: top;\n",
              "    }\n",
              "\n",
              "    .dataframe thead th {\n",
              "        text-align: right;\n",
              "    }\n",
              "</style>\n",
              "<table border=\"1\" class=\"dataframe\">\n",
              "  <thead>\n",
              "    <tr style=\"text-align: right;\">\n",
              "      <th></th>\n",
              "      <th>actual</th>\n",
              "      <th>predicted</th>\n",
              "    </tr>\n",
              "  </thead>\n",
              "  <tbody>\n",
              "    <tr>\n",
              "      <th>0</th>\n",
              "      <td>17</td>\n",
              "      <td>15</td>\n",
              "    </tr>\n",
              "    <tr>\n",
              "      <th>1</th>\n",
              "      <td>13</td>\n",
              "      <td>13</td>\n",
              "    </tr>\n",
              "    <tr>\n",
              "      <th>2</th>\n",
              "      <td>9</td>\n",
              "      <td>11</td>\n",
              "    </tr>\n",
              "    <tr>\n",
              "      <th>3</th>\n",
              "      <td>11</td>\n",
              "      <td>14</td>\n",
              "    </tr>\n",
              "    <tr>\n",
              "      <th>4</th>\n",
              "      <td>12</td>\n",
              "      <td>14</td>\n",
              "    </tr>\n",
              "    <tr>\n",
              "      <th>...</th>\n",
              "      <td>...</td>\n",
              "      <td>...</td>\n",
              "    </tr>\n",
              "    <tr>\n",
              "      <th>4807</th>\n",
              "      <td>11</td>\n",
              "      <td>25</td>\n",
              "    </tr>\n",
              "    <tr>\n",
              "      <th>4808</th>\n",
              "      <td>30</td>\n",
              "      <td>25</td>\n",
              "    </tr>\n",
              "    <tr>\n",
              "      <th>4809</th>\n",
              "      <td>16</td>\n",
              "      <td>21</td>\n",
              "    </tr>\n",
              "    <tr>\n",
              "      <th>4810</th>\n",
              "      <td>22</td>\n",
              "      <td>21</td>\n",
              "    </tr>\n",
              "    <tr>\n",
              "      <th>4811</th>\n",
              "      <td>12</td>\n",
              "      <td>18</td>\n",
              "    </tr>\n",
              "  </tbody>\n",
              "</table>\n",
              "<p>4812 rows × 2 columns</p>\n",
              "</div>"
            ],
            "text/plain": [
              "      actual  predicted\n",
              "0         17         15\n",
              "1         13         13\n",
              "2          9         11\n",
              "3         11         14\n",
              "4         12         14\n",
              "...      ...        ...\n",
              "4807      11         25\n",
              "4808      30         25\n",
              "4809      16         21\n",
              "4810      22         21\n",
              "4811      12         18\n",
              "\n",
              "[4812 rows x 2 columns]"
            ]
          },
          "metadata": {},
          "execution_count": 37
        }
      ]
    },
    {
      "cell_type": "markdown",
      "metadata": {
        "id": "Y83vWFmgdbpx"
      },
      "source": [
        "# Graficar predicciones"
      ]
    },
    {
      "cell_type": "code",
      "metadata": {
        "colab": {
          "base_uri": "https://localhost:8080/",
          "height": 265
        },
        "id": "htUFyqKjJldF",
        "outputId": "35d80789-0f2f-4b04-f4ea-86ac488889d1"
      },
      "source": [
        "# Graficar las predicciones y las observaciones\n",
        "from matplotlib import pyplot\n",
        "\n",
        "pyplot.plot(y_train)\n",
        "pyplot.plot([None for i in y_train] + [x for x in y_val])# naranja valor actual\n",
        "pyplot.plot([None for i in y_train] + [y for y in y_pred])# verde valor que se halló con la predicción\n",
        "pyplot.show()"
      ],
      "execution_count": null,
      "outputs": [
        {
          "output_type": "display_data",
          "data": {
            "image/png": "[encoded data removed]",
            "text/plain": [
              "<Figure size 432x288 with 1 Axes>"
            ]
          },
          "metadata": {
            "needs_background": "light"
          }
        }
      ]
    },
    {
      "cell_type": "markdown",
      "metadata": {
        "id": "kI_djEdjeGO-"
      },
      "source": []
    }
  ]
}
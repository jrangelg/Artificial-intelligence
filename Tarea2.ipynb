{
  "nbformat": 4,
  "nbformat_minor": 0,
  "metadata": {
    "colab": {
      "provenance": [],
      "authorship_tag": "ABX9TyMrHjb5hwRNPM+7+6ukIYaC",
      "include_colab_link": true
    },
    "kernelspec": {
      "name": "python3",
      "display_name": "Python 3"
    },
    "language_info": {
      "name": "python"
    }
  },
  "cells": [
    {
      "cell_type": "markdown",
      "metadata": {
        "id": "view-in-github",
        "colab_type": "text"
      },
      "source": [
        "<a href=\"https://colab.research.google.com/github/jrangelg/Artificial-intelligence-course-2023-1/blob/Tareas/Tarea2.ipynb\" target=\"_parent\"><img src=\"https://colab.research.google.com/assets/colab-badge.svg\" alt=\"Open In Colab\"/></a>"
      ]
    },
    {
      "cell_type": "markdown",
      "source": [
        "# TAREA 2\n"
      ],
      "metadata": {
        "id": "3yFgrhGTmfBj"
      }
    },
    {
      "cell_type": "markdown",
      "source": [
        "## Primer punto"
      ],
      "metadata": {
        "id": "HWQlsDnxrZsm"
      }
    },
    {
      "cell_type": "code",
      "source": [
        "from datetime import date\n",
        "\n",
        "def calculate_age(birth_date):\n",
        "    today = date.today()\n",
        "    age = today.year - birth_date.year - ((today.month, today.day) < (birth_date.month, birth_date.day))\n",
        "    return age\n",
        "\n",
        "birth_date_str = input(\"Ingrese su fecha de nacimiento (dd/mm/yyyy): \")\n",
        "birth_date = datetime.strptime(birth_date_str, \"%d/%m/%Y\").date()\n",
        "age = calculate_age(birth_date)\n",
        "print(\"Su edad es:\", age)"
      ],
      "metadata": {
        "colab": {
          "base_uri": "https://localhost:8080/"
        },
        "id": "dG0fONqjqG_7",
        "outputId": "dcb50a94-0116-432e-925e-095258fdbad6"
      },
      "execution_count": 23,
      "outputs": [
        {
          "output_type": "stream",
          "name": "stdout",
          "text": [
            "Ingrese su fecha de nacimiento (dd/mm/yyyy): 12/10/2000\n",
            "Su edad es: 22\n"
          ]
        }
      ]
    },
    {
      "cell_type": "markdown",
      "source": [
        "## SEGUNDO PUNTO"
      ],
      "metadata": {
        "id": "t6Ocu7mSt6d5"
      }
    },
    {
      "cell_type": "code",
      "source": [
        "def escribir_centrado(texto):\n",
        "    ancho_terminal = 80\n",
        "    texto_centrado = texto.center(ancho_terminal)\n",
        "    print(texto_centrado)\n",
        "\n",
        "texto = input(\"Ingrese un texto: \")\n",
        "escribir_centrado(texto)"
      ],
      "metadata": {
        "colab": {
          "base_uri": "https://localhost:8080/"
        },
        "id": "jH_pixxDq4tD",
        "outputId": "d8ec06f3-8aaa-4a6a-e220-4b25f6c0fb53"
      },
      "execution_count": 24,
      "outputs": [
        {
          "output_type": "stream",
          "name": "stdout",
          "text": [
            "Ingrese un texto: GRGGDGHDGDGF\n",
            "                                  GRGGDGHDGDGF                                  \n"
          ]
        }
      ]
    },
    {
      "cell_type": "markdown",
      "source": [
        "## TERCER PUNTO\n"
      ],
      "metadata": {
        "id": "T3j3mAB2u_PL"
      }
    },
    {
      "cell_type": "code",
      "source": [
        "def markdown(func):\n",
        "    def wrapper(texto):\n",
        "        texto_marcado = f\"**_ {texto} _**\"\n",
        "        return func(texto_marcado)\n",
        "    return wrapper\n",
        "\n",
        "@markdown\n",
        "def escribir(texto):\n",
        "    print(texto)\n",
        "\n",
        "texto = input(\"Ingrese un texto: \")\n",
        "escribir(texto)"
      ],
      "metadata": {
        "colab": {
          "base_uri": "https://localhost:8080/"
        },
        "id": "_D1ZdVysudUy",
        "outputId": "402d0618-ffe9-4d43-ad6c-668ff2d25568"
      },
      "execution_count": 25,
      "outputs": [
        {
          "output_type": "stream",
          "name": "stdout",
          "text": [
            "Ingrese un texto: SFDHHFDHDHFDHGHF\n",
            "**_ SFDHHFDHDHFDHGHF _**\n"
          ]
        }
      ]
    },
    {
      "cell_type": "markdown",
      "source": [
        "# CUARTO PUNTO"
      ],
      "metadata": {
        "id": "oiDhxJ0PvZXx"
      }
    },
    {
      "cell_type": "code",
      "source": [
        "def mult( x,y ):\n",
        "  if( x%y==0 ):\n",
        "    return(print(str(x)+\" es multiplo de \" +str(y)))\n",
        "  else:\n",
        "    return(print(str(x)+\" no es multiplo de \" +str(y)))"
      ],
      "metadata": {
        "id": "mPffesd3vclT"
      },
      "execution_count": 30,
      "outputs": []
    },
    {
      "cell_type": "code",
      "source": [
        "mult(5,5)"
      ],
      "metadata": {
        "colab": {
          "base_uri": "https://localhost:8080/"
        },
        "id": "DZFc_6Nzv736",
        "outputId": "0176cc21-b7e3-4a3d-827f-94ad244a9e8b"
      },
      "execution_count": 31,
      "outputs": [
        {
          "output_type": "stream",
          "name": "stdout",
          "text": [
            "5 es multiplo de 5\n"
          ]
        }
      ]
    },
    {
      "cell_type": "code",
      "source": [
        "mult(5,6)"
      ],
      "metadata": {
        "colab": {
          "base_uri": "https://localhost:8080/"
        },
        "id": "iBXdaO3Pwhbh",
        "outputId": "76b2f873-5e2b-4ce3-f0ad-e65b3af54012"
      },
      "execution_count": 32,
      "outputs": [
        {
          "output_type": "stream",
          "name": "stdout",
          "text": [
            "5 no es multiplo de 6\n"
          ]
        }
      ]
    },
    {
      "cell_type": "markdown",
      "source": [
        "# QUINTO PUNTO"
      ],
      "metadata": {
        "id": "HsI8PuM8wpcZ"
      }
    },
    {
      "cell_type": "code",
      "source": [
        "def media(x):\n",
        "  y=0\n",
        "  for i in range(24):\n",
        "    y=y+x[i]\n",
        "  return(y/24)\n"
      ],
      "metadata": {
        "id": "Kr8vdJDpwpBI"
      },
      "execution_count": 33,
      "outputs": []
    },
    {
      "cell_type": "code",
      "source": [
        "x=list(range(24))\n",
        "for i in range(24):\n",
        "  x[i] = int(input(\"Deme la \" + f\"{i+1} ésima\"+\" temperatura\"))\n"
      ],
      "metadata": {
        "colab": {
          "base_uri": "https://localhost:8080/"
        },
        "id": "d53b0DncxQVA",
        "outputId": "e18c0ff5-d97a-41b9-ea2c-3ab6293f640a"
      },
      "execution_count": 49,
      "outputs": [
        {
          "name": "stdout",
          "output_type": "stream",
          "text": [
            "Deme la 1 ésima temperatura1\n",
            "Deme la 2 ésima temperatura1\n",
            "Deme la 3 ésima temperatura1\n",
            "Deme la 4 ésima temperatura1\n",
            "Deme la 5 ésima temperatura1\n",
            "Deme la 6 ésima temperatura1\n",
            "Deme la 7 ésima temperatura1\n",
            "Deme la 8 ésima temperatura1\n",
            "Deme la 9 ésima temperatura1\n",
            "Deme la 10 ésima temperatura1\n",
            "Deme la 11 ésima temperatura1\n",
            "Deme la 12 ésima temperatura1\n",
            "Deme la 13 ésima temperatura1\n",
            "Deme la 14 ésima temperatura1\n",
            "Deme la 15 ésima temperatura1\n",
            "Deme la 16 ésima temperatura1\n",
            "Deme la 17 ésima temperatura1\n",
            "Deme la 18 ésima temperatura1\n",
            "Deme la 19 ésima temperatura1\n",
            "Deme la 20 ésima temperatura1\n",
            "Deme la 21 ésima temperatura1\n",
            "Deme la 22 ésima temperatura1\n",
            "Deme la 23 ésima temperatura1\n",
            "Deme la 24 ésima temperatura1\n"
          ]
        }
      ]
    },
    {
      "cell_type": "code",
      "source": [
        "x"
      ],
      "metadata": {
        "colab": {
          "base_uri": "https://localhost:8080/"
        },
        "id": "-jujyHp0xb7I",
        "outputId": "26d9342f-e9d5-43a6-eeb5-3c80f937f8d8"
      },
      "execution_count": 50,
      "outputs": [
        {
          "output_type": "execute_result",
          "data": {
            "text/plain": [
              "[1, 1, 1, 1, 1, 1, 1, 1, 1, 1, 1, 1, 1, 1, 1, 1, 1, 1, 1, 1, 1, 1, 1, 1]"
            ]
          },
          "metadata": {},
          "execution_count": 50
        }
      ]
    },
    {
      "cell_type": "code",
      "source": [
        "print(\"la temperatura media es: \" + str(sum(x)/24))"
      ],
      "metadata": {
        "colab": {
          "base_uri": "https://localhost:8080/"
        },
        "id": "9iViUAsly4ln",
        "outputId": "e8f1bcef-6542-41be-ba9e-71c533a9515b"
      },
      "execution_count": 53,
      "outputs": [
        {
          "output_type": "stream",
          "name": "stdout",
          "text": [
            "la temperatura media es: 1.0\n"
          ]
        }
      ]
    },
    {
      "cell_type": "markdown",
      "source": [
        "# SEXTO PUNTO\n"
      ],
      "metadata": {
        "id": "K5JIOC2XzHS4"
      }
    },
    {
      "cell_type": "code",
      "source": [
        "def esp(x):\n",
        "  y=\"\"\n",
        "  for i in range(len(x)):\n",
        "    y= y +f\"{x[i]} \"\n",
        "  return(y)"
      ],
      "metadata": {
        "id": "lUl_ZmanzJZP"
      },
      "execution_count": 58,
      "outputs": []
    },
    {
      "cell_type": "code",
      "source": [
        "print(esp(\"eeee\"))"
      ],
      "metadata": {
        "colab": {
          "base_uri": "https://localhost:8080/"
        },
        "id": "n2rc0vRg0DGH",
        "outputId": "df89b586-5620-4a78-9147-7bf4ded7183d"
      },
      "execution_count": 59,
      "outputs": [
        {
          "output_type": "stream",
          "name": "stdout",
          "text": [
            "e e e e \n"
          ]
        }
      ]
    },
    {
      "cell_type": "markdown",
      "source": [
        "# SEPTIMO Y OCTAVO"
      ],
      "metadata": {
        "id": "HpKM_ZsT0Vi_"
      }
    },
    {
      "cell_type": "code",
      "source": [
        "import math as mt"
      ],
      "metadata": {
        "id": "UiLpH9NO0Uh3"
      },
      "execution_count": 61,
      "outputs": []
    },
    {
      "cell_type": "code",
      "source": [
        "mt.pi"
      ],
      "metadata": {
        "colab": {
          "base_uri": "https://localhost:8080/"
        },
        "id": "Jnca6K_X0z-A",
        "outputId": "37efe46d-391d-437d-acf3-eeb6dacbe34e"
      },
      "execution_count": 62,
      "outputs": [
        {
          "output_type": "execute_result",
          "data": {
            "text/plain": [
              "3.141592653589793"
            ]
          },
          "metadata": {},
          "execution_count": 62
        }
      ]
    },
    {
      "cell_type": "code",
      "source": [
        "x=(1,2,3)"
      ],
      "metadata": {
        "id": "QZ9RZG3U06lQ"
      },
      "execution_count": 63,
      "outputs": []
    },
    {
      "cell_type": "code",
      "source": [
        "type(x)"
      ],
      "metadata": {
        "colab": {
          "base_uri": "https://localhost:8080/"
        },
        "id": "dGjlaPLH1Fx3",
        "outputId": "8ee1fcad-6284-46da-dc81-b3b78582cae0"
      },
      "execution_count": 64,
      "outputs": [
        {
          "output_type": "execute_result",
          "data": {
            "text/plain": [
              "tuple"
            ]
          },
          "metadata": {},
          "execution_count": 64
        }
      ]
    }
  ]
}
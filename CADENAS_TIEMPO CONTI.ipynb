{
  "nbformat": 4,
  "nbformat_minor": 0,
  "metadata": {
    "colab": {
      "provenance": [],
      "authorship_tag": "ABX9TyOkLH1Xpu4SlKJWvvFnZa6G",
      "include_colab_link": true
    },
    "kernelspec": {
      "name": "python3",
      "display_name": "Python 3"
    },
    "language_info": {
      "name": "python"
    }
  },
  "cells": [
    {
      "cell_type": "markdown",
      "metadata": {
        "id": "view-in-github",
        "colab_type": "text"
      },
      "source": [
        "<a href=\"https://colab.research.google.com/github/jrangelg/Artificial-intelligence/blob/main/CADENAS_TIEMPO%20CONTI.ipynb\" target=\"_parent\"><img src=\"https://colab.research.google.com/assets/colab-badge.svg\" alt=\"Open In Colab\"/></a>"
      ]
    },
    {
      "cell_type": "markdown",
      "source": [
        "# SIMULACIÓN DE UNA CADENA DE MARKOV EN TIEMPO CONTINUO"
      ],
      "metadata": {
        "id": "4IqOD_ljZJts"
      }
    },
    {
      "cell_type": "code",
      "execution_count": null,
      "metadata": {
        "id": "ccfFEmrkZIta"
      },
      "outputs": [],
      "source": [
        "import numpy as np\n",
        "\n",
        "# Función para generar la matriz de transición en el tiempo t\n",
        "def transition_matrix(t):\n",
        "    # Definir una matriz de transición que depende del tiempo t\n",
        "    P_t = np.array([[np.exp(-t), 1 - np.exp(-t)], [2 * np.exp(-t), 1 - 2 * np.exp(-t)]])\n",
        "    return P_t\n",
        "\n",
        "# Simulación de la cadena de Markov en tiempo continuo\n",
        "def continuous_time_markov_chain(initial_state, transition_func, times):\n",
        "    num_states = len(initial_state)\n",
        "    current_state = initial_state\n",
        "    states_over_time = [current_state]\n",
        "\n",
        "    for t in times:\n",
        "        P = transition_func(t)\n",
        "        dt = t - times[0] if len(times) > 1 else t  # Calcular el intervalo de tiempo\n",
        "\n",
        "        # Simular transiciones en el tiempo dt\n",
        "        transition_probabilities = np.diag(np.exp(np.diag(P) * dt))\n",
        "        next_state_probs = np.dot(current_state, P - np.diag(np.diag(P)))  # Multiplicar por las probabilidades de transición\n",
        "        next_state = np.dot(transition_probabilities, current_state) + next_state_probs\n",
        "        current_state = next_state / np.sum(next_state)  # Normalizar para obtener probabilidades válidas\n",
        "        states_over_time.append(current_state)\n",
        "\n",
        "    return np.array(states_over_time)\n",
        "\n",
        "# Parámetros de simulación\n",
        "initial_state = np.array([0.6, 0.4])  # Estado inicial\n",
        "simulation_times = [0.1, 0.5, 1.0]  # Tiempos de simulación\n",
        "\n",
        "# Simular la cadena de Markov en tiempo continuo\n",
        "simulated_states = continuous_time_markov_chain(initial_state, transition_matrix, simulation_times)\n",
        "\n",
        "# Imprimir los resultados de la simulación\n",
        "for i, time in enumerate(simulation_times):\n",
        "    print(f\"Matriz de estado para t = {time}:\")\n",
        "    print(simulated_states[i])\n",
        "    print()\n"
      ]
    }
  ]
}
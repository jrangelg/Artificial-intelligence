{
  "nbformat": 4,
  "nbformat_minor": 0,
  "metadata": {
    "colab": {
      "provenance": [],
      "authorship_tag": "ABX9TyPvVCbjiOCIStjB6xrStpOW",
      "include_colab_link": true
    },
    "kernelspec": {
      "name": "python3",
      "display_name": "Python 3"
    },
    "language_info": {
      "name": "python"
    }
  },
  "cells": [
    {
      "cell_type": "markdown",
      "metadata": {
        "id": "view-in-github",
        "colab_type": "text"
      },
      "source": [
        "<a href=\"https://colab.research.google.com/github/jrangelg/Artificial-intelligence/blob/main/Operanciones.ipynb\" target=\"_parent\"><img src=\"https://colab.research.google.com/assets/colab-badge.svg\" alt=\"Open In Colab\"/></a>"
      ]
    },
    {
      "cell_type": "markdown",
      "source": [
        "# Investigación de operaciones"
      ],
      "metadata": {
        "id": "3_BGi-hTaQNU"
      }
    },
    {
      "cell_type": "code",
      "source": [
        "pip install pulp\n"
      ],
      "metadata": {
        "colab": {
          "base_uri": "https://localhost:8080/"
        },
        "id": "QQQ2XPEfaGem",
        "outputId": "1414c2e3-8069-4268-ab4a-2a48e448ce0e"
      },
      "execution_count": 3,
      "outputs": [
        {
          "output_type": "stream",
          "name": "stdout",
          "text": [
            "Collecting pulp\n",
            "  Downloading PuLP-2.7.0-py3-none-any.whl (14.3 MB)\n",
            "\u001b[2K     \u001b[90m━━━━━━━━━━━━━━━━━━━━━━━━━━━━━━━━━━━━━━━━\u001b[0m \u001b[32m14.3/14.3 MB\u001b[0m \u001b[31m111.2 MB/s\u001b[0m eta \u001b[36m0:00:00\u001b[0m\n",
            "\u001b[?25hInstalling collected packages: pulp\n",
            "Successfully installed pulp-2.7.0\n"
          ]
        }
      ]
    },
    {
      "cell_type": "code",
      "source": [
        "import pulp\n",
        "\n",
        "# Conjuntos y parámetros\n",
        "refineries = ['Barrancabermeja', 'Cartagena', 'Orito']\n",
        "countries = ['Estados Unidos', 'Japón', 'Reino Unido', 'Canadá']\n",
        "\n",
        "costs = {\n",
        "    'Barrancabermeja': [1500, 2200, 2000, 1800],\n",
        "    'Cartagena': [1400, 2400, 1900, 2200],\n",
        "    'Orito': [2000, 2500, 2100, 1900]\n",
        "}\n",
        "\n",
        "demands = {\n",
        "    'Estados Unidos': 500000,\n",
        "    'Japón': 300000,\n",
        "    'Reino Unido': 200000,\n",
        "    'Canadá': 250000\n",
        "}\n",
        "\n",
        "capacities = {\n",
        "    'Barrancabermeja': 600000,\n",
        "    'Cartagena': 500000,\n",
        "    'Orito': 400000\n",
        "}\n",
        "\n",
        "# Inicializar el problema\n",
        "prob = pulp.LpProblem(\"Optimización de distribución de petróleo\", pulp.LpMinimize)\n",
        "\n",
        "# Variables de decisión\n",
        "x = {(r, p): pulp.LpVariable(f\"X_{r}_{p}\", lowBound=0, cat='Continuous') for r in refineries for p in countries}\n",
        "\n",
        "# Función objetivo\n",
        "prob += pulp.lpSum(costs[r][i] * x[r, c] for i, r in enumerate(refineries) for c in countries)\n",
        "\n",
        "# Restricciones de capacidad de refinación\n",
        "for r in refineries:\n",
        "    prob += pulp.lpSum(x[r, c] for c in countries) <= capacities[r]\n",
        "\n",
        "# Restricciones de demanda\n",
        "for c in countries:\n",
        "    prob += pulp.lpSum(x[r, c] for r in refineries) >= demands[c]\n",
        "\n",
        "# Resolver el problema\n",
        "prob.solve()\n",
        "\n",
        "# Mostrar resultados\n",
        "print(\"Estado:\", pulp.LpStatus[prob.status])\n",
        "print(\"Costo total mínimo: $\", pulp.value(prob.objective))\n",
        "print(\"\\nCantidad de petróleo refinado a enviar (en litros):\")\n",
        "for r in refineries:\n",
        "    for c in countries:\n",
        "        print(f\"{r} -> {c}: {x[r, c].varValue}\")\n"
      ],
      "metadata": {
        "colab": {
          "base_uri": "https://localhost:8080/"
        },
        "id": "q0q0KKWCaAQJ",
        "outputId": "f13df137-7964-4cc3-b6d5-d8762ed6e717"
      },
      "execution_count": 4,
      "outputs": [
        {
          "output_type": "stream",
          "name": "stdout",
          "text": [
            "Estado: Optimal\n",
            "Costo total mínimo: $ 2340000000.0\n",
            "\n",
            "Cantidad de petróleo refinado a enviar (en litros):\n",
            "Barrancabermeja -> Estados Unidos: 500000.0\n",
            "Barrancabermeja -> Japón: 0.0\n",
            "Barrancabermeja -> Reino Unido: 0.0\n",
            "Barrancabermeja -> Canadá: 100000.0\n",
            "Cartagena -> Estados Unidos: 0.0\n",
            "Cartagena -> Japón: 250000.0\n",
            "Cartagena -> Reino Unido: 0.0\n",
            "Cartagena -> Canadá: 0.0\n",
            "Orito -> Estados Unidos: 0.0\n",
            "Orito -> Japón: 50000.0\n",
            "Orito -> Reino Unido: 200000.0\n",
            "Orito -> Canadá: 150000.0\n"
          ]
        },
        {
          "output_type": "stream",
          "name": "stderr",
          "text": [
            "/usr/local/lib/python3.10/dist-packages/pulp/pulp.py:1352: UserWarning: Spaces are not permitted in the name. Converted to '_'\n",
            "  warnings.warn(\"Spaces are not permitted in the name. Converted to '_'\")\n"
          ]
        }
      ]
    },
    {
      "cell_type": "code",
      "execution_count": 5,
      "metadata": {
        "colab": {
          "base_uri": "https://localhost:8080/"
        },
        "id": "lbL6Lx8ZZszV",
        "outputId": "dd378519-9a5c-49f0-d0ca-c9f392ef9b95"
      },
      "outputs": [
        {
          "output_type": "stream",
          "name": "stdout",
          "text": [
            "\n",
            "Valor óptimo del problema dual: 79999998.0\n"
          ]
        }
      ],
      "source": [
        "# Crear el problema dual\n",
        "dual_prob = pulp.LpProblem(\"Problema Dual\", pulp.LpMaximize)\n",
        "\n",
        "# Variables duales asociadas a las restricciones de capacidad de refinación\n",
        "dual_vars = {r: pulp.LpVariable(f\"Y_{r}\", lowBound=0, cat='Continuous') for r in refineries}\n",
        "\n",
        "# Función objetivo dual\n",
        "dual_prob += pulp.lpSum(capacities[r] * dual_vars[r] for r in refineries)\n",
        "\n",
        "# Restricciones duales asociadas a la demanda de cada país\n",
        "for c in countries:\n",
        "    dual_prob += pulp.lpSum(costs[r][i] * dual_vars[r] for i, r in enumerate(refineries)) <= demands[c]\n",
        "\n",
        "# Resolver el problema dual\n",
        "dual_prob.solve()\n",
        "\n",
        "# Mostrar resultados\n",
        "print(\"\\nValor óptimo del problema dual:\", pulp.value(dual_prob.objective))\n"
      ]
    }
  ]
}
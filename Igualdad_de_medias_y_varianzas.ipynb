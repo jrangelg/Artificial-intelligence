{
  "nbformat": 4,
  "nbformat_minor": 0,
  "metadata": {
    "colab": {
      "provenance": [],
      "authorship_tag": "ABX9TyO3PDtWvTR9qeDnyR+rc5wt",
      "include_colab_link": true
    },
    "kernelspec": {
      "name": "python3",
      "display_name": "Python 3"
    },
    "language_info": {
      "name": "python"
    }
  },
  "cells": [
    {
      "cell_type": "markdown",
      "metadata": {
        "id": "view-in-github",
        "colab_type": "text"
      },
      "source": [
        "<a href=\"https://colab.research.google.com/github/jrangelg/Artificial-intelligence/blob/Tareas/Igualdad_de_medias_y_varianzas.ipynb\" target=\"_parent\"><img src=\"https://colab.research.google.com/assets/colab-badge.svg\" alt=\"Open In Colab\"/></a>"
      ]
    },
    {
      "cell_type": "markdown",
      "source": [
        "# DISEÑO DE EXPERIMENTOS\n",
        "\n"
      ],
      "metadata": {
        "id": "XOMZcj4xCMiq"
      }
    },
    {
      "cell_type": "code",
      "execution_count": null,
      "metadata": {
        "id": "bYCwpMKaCL9P"
      },
      "outputs": [],
      "source": [
        "# prompt: COMO GENERAR ALEATORIOS DE LA NORMAL\n",
        "\n",
        "import numpy as np\n",
        "\n",
        "# Generar números aleatorios de una distribución normal estándar (media=0, desviación estándar=1)\n",
        "x = np.random.normal(loc=8, scale=4, size=20)  # Genera 10 números\n",
        "y = np.random.normal(loc=8, scale=4, size=15)  # Genera 10 números\n",
        "\n",
        "print(x)\n",
        "\n"
      ]
    },
    {
      "cell_type": "markdown",
      "source": [
        "# PRIMER PASO ES VER NORMALIDAD"
      ],
      "metadata": {
        "id": "_8guk8jYDDab"
      }
    },
    {
      "cell_type": "code",
      "source": [
        "# prompt: Prueba de bondad de ajuste distr normal\n",
        "\n",
        "import numpy as np\n",
        "from scipy import stats\n",
        "\n",
        "# Datos (reemplaza con tus datos reales)\n",
        "x = np.random.normal(loc=8, scale=4, size=20)  # Genera 20 números\n",
        "y = np.random.normal(loc=8, scale=4, size=15)  # Genera 15 números\n",
        "\n",
        "# Combinar los datos si es necesario\n",
        "datos = np.concatenate((x, y))\n",
        "\n",
        "# Prueba de Kolmogorov-Smirnov\n",
        "k, p = stats.kstest(datos, 'norm') #Comparar con distribución normal\n",
        "print(f\"Prueba de Kolmogorov-Smirnov:\")\n",
        "print(f\"Estadístico D: {k}\")\n",
        "print(f\"Valor p: {p}\")\n",
        "alpha = 0.05\n",
        "if p > alpha:\n",
        "  print(\"No se rechaza la hipótesis de normalidad.\")\n",
        "else:\n",
        "  print(\"Se rechaza la hipótesis de normalidad.\")\n",
        "\n",
        "#Prueba de Shapiro-Wilk\n",
        "shapiro_test = stats.shapiro(datos)\n",
        "print(f\"Prueba de Shapiro-Wilk:\")\n",
        "print(f\"Estadístico W: {shapiro_test.statistic}\")\n",
        "print(f\"Valor p: {shapiro_test.pvalue}\")\n",
        "\n",
        "alpha = 0.05\n",
        "if shapiro_test.pvalue > alpha:\n",
        "    print(\"No se rechaza la hipótesis de normalidad\")\n",
        "else:\n",
        "    print(\"Se rechaza la hipótesis de normalidad\")\n",
        "\n",
        "#Prueba de Anderson-Darling\n",
        "anderson_result = stats.anderson(datos, dist='norm')\n",
        "print(f\"Prueba de Anderson-Darling:\")\n",
        "print(f\"Estadístico A^2: {anderson_result.statistic}\")\n",
        "print(f\"Valores críticos: {anderson_result.critical_values}\")\n",
        "print(f\"Niveles de significancia: {anderson_result.significance_level}\")\n",
        "\n",
        "if anderson_result.statistic < anderson_result.critical_values[2]:\n",
        "    print(\"No se rechaza la hipótesis de normalidad al 5% de significancia\")\n",
        "else:\n",
        "    print(\"Se rechaza la hipótesis de normalidad al 5% de significancia\")"
      ],
      "metadata": {
        "colab": {
          "base_uri": "https://localhost:8080/"
        },
        "id": "ea4jKY12Cu26",
        "outputId": "7d5cccdb-be2a-4a85-e733-a2f8df1a0aa7"
      },
      "execution_count": 2,
      "outputs": [
        {
          "output_type": "stream",
          "name": "stdout",
          "text": [
            "Prueba de Kolmogorov-Smirnov:\n",
            "Estadístico D: 0.9134669421258205\n",
            "Valor p: 1.2664726123742562e-37\n",
            "Se rechaza la hipótesis de normalidad.\n",
            "Prueba de Shapiro-Wilk:\n",
            "Estadístico W: 0.9405366729314193\n",
            "Valor p: 0.05810426205451237\n",
            "No se rechaza la hipótesis de normalidad\n",
            "Prueba de Anderson-Darling:\n",
            "Estadístico A^2: 0.7213752115744541\n",
            "Valores críticos: [0.527 0.6   0.719 0.839 0.998]\n",
            "Niveles de significancia: [15.  10.   5.   2.5  1. ]\n",
            "Se rechaza la hipótesis de normalidad al 5% de significancia\n"
          ]
        }
      ]
    },
    {
      "cell_type": "code",
      "source": [
        "stats.shapiro(x)"
      ],
      "metadata": {
        "colab": {
          "base_uri": "https://localhost:8080/"
        },
        "id": "DSz0ChOMDNpb",
        "outputId": "7820cb1c-c102-4d96-843a-a58997d033d0"
      },
      "execution_count": 5,
      "outputs": [
        {
          "output_type": "execute_result",
          "data": {
            "text/plain": [
              "ShapiroResult(statistic=0.9072593628249221, pvalue=0.0565278467958714)"
            ]
          },
          "metadata": {},
          "execution_count": 5
        }
      ]
    },
    {
      "cell_type": "markdown",
      "source": [
        "$$\n",
        "H_0 : X \\sim N(\\mu,σ)\\\\\n",
        "H_a : X \\neq N(\\mu,σ)\n",
        "$$"
      ],
      "metadata": {
        "id": "oeRzW912EOCC"
      }
    },
    {
      "cell_type": "code",
      "source": [
        "stats.shapiro(y) # No se rechaza Ho"
      ],
      "metadata": {
        "colab": {
          "base_uri": "https://localhost:8080/"
        },
        "id": "mN-cv4lTD8hK",
        "outputId": "b3c52f38-0d2b-48c4-a8a6-1f9c79a40697"
      },
      "execution_count": 6,
      "outputs": [
        {
          "output_type": "execute_result",
          "data": {
            "text/plain": [
              "ShapiroResult(statistic=0.9617165620413555, pvalue=0.7222045463462314)"
            ]
          },
          "metadata": {},
          "execution_count": 6
        }
      ]
    },
    {
      "cell_type": "code",
      "source": [
        "# prompt: Hacer histograma con distribución normal sobrepuesta\n",
        "\n",
        "import numpy as np\n",
        "import matplotlib.pyplot as plt\n",
        "from scipy import stats\n",
        "\n",
        "# Datos (reemplaza con tus datos reales)\n",
        "x = np.random.normal(loc=8, scale=4, size=20)  # Genera 20 números\n",
        "y = np.random.normal(loc=8, scale=4, size=15)  # Genera 15 números\n",
        "\n",
        "# Combinar los datos si es necesario\n",
        "datos = np.concatenate((x, y))\n",
        "\n",
        "# Crear el histograma\n",
        "plt.hist(datos, bins='auto', density=True, alpha=0.6, color='skyblue', label='Datos')\n",
        "\n",
        "# Ajustar una distribución normal a los datos\n",
        "mu, std = stats.norm.fit(datos)\n",
        "\n",
        "# Generar la curva de la distribución normal\n",
        "xmin, xmax = plt.xlim()\n",
        "x_normal = np.linspace(xmin, xmax, 100)\n",
        "p = stats.norm.pdf(x_normal, mu, std)\n",
        "plt.plot(x_normal, p, 'k', linewidth=2, label='Distribución Normal Ajustada')\n",
        "\n",
        "# Agregar título y etiquetas\n",
        "plt.title('Histograma con Distribución Normal Superpuesta')\n",
        "plt.xlabel('Valores')\n",
        "plt.ylabel('Frecuencia')\n",
        "plt.legend()\n",
        "\n",
        "# Mostrar el gráfico\n",
        "plt.show()"
      ],
      "metadata": {
        "colab": {
          "base_uri": "https://localhost:8080/",
          "height": 472
        },
        "id": "ysA88CqGE1_U",
        "outputId": "4ee98388-e187-4bf5-8279-f60c6730c9a4"
      },
      "execution_count": 7,
      "outputs": [
        {
          "output_type": "display_data",
          "data": {
            "text/plain": [
              "<Figure size 640x480 with 1 Axes>"
            ],
            "image/png": "[encoded data removed]"
          },
          "metadata": {}
        }
      ]
    },
    {
      "cell_type": "markdown",
      "source": [
        "# SUPUESTO DE HOMOCEDASTICIDAD\n",
        "$$\n",
        "H_0: \\frac{\\sigma_1}{\\sigma_2}=1\\\\\n",
        "H_a: \\frac{\\sigma_1}{\\sigma_2}\\neq1\n",
        "$$\n",
        "\n",
        "Homocedasticidad bajo la hipótesis nula, Heterocedasticidad bajo la hipótesis alterna."
      ],
      "metadata": {
        "id": "d9msaSbxFBGg"
      }
    },
    {
      "cell_type": "code",
      "source": [
        "# prompt: homocedasticidad de x y y\n",
        "\n",
        "import numpy as np\n",
        "from scipy import stats\n",
        "import matplotlib.pyplot as plt\n",
        "\n",
        "# Datos (reemplaza con tus datos reales)\n",
        "x = np.random.normal(loc=8, scale=4, size=20)  # Genera 20 números\n",
        "y = np.random.normal(loc=8, scale=4, size=15)  # Genera 15 números\n",
        "\n",
        "# Prueba de Levene para la homocedasticidad\n",
        "levene_test = stats.levene(x, y)\n",
        "print(f\"Prueba de Levene:\")\n",
        "print(f\"Estadístico W: {levene_test.statistic}\")\n",
        "print(f\"Valor p: {levene_test.pvalue}\")\n",
        "\n",
        "alpha = 0.05\n",
        "if levene_test.pvalue > alpha:\n",
        "    print(\"No se rechaza la hipótesis de homocedasticidad\")\n",
        "else:\n",
        "    print(\"Se rechaza la hipótesis de homocedasticidad\")\n",
        "\n",
        "\n",
        "# Prueba de Bartlett para la homocedasticidad (más sensible a las desviaciones de la normalidad)\n",
        "bartlett_test = stats.bartlett(x, y)\n",
        "print(f\"\\nPrueba de Bartlett:\")\n",
        "print(f\"Estadístico T^2: {bartlett_test.statistic}\")\n",
        "print(f\"Valor p: {bartlett_test.pvalue}\")\n",
        "\n",
        "if bartlett_test.pvalue > alpha:\n",
        "    print(\"No se rechaza la hipótesis de homocedasticidad\")\n",
        "else:\n",
        "    print(\"Se rechaza la hipótesis de homocedasticidad\")\n",
        "\n"
      ],
      "metadata": {
        "colab": {
          "base_uri": "https://localhost:8080/"
        },
        "id": "Xkvi-jXvGHjZ",
        "outputId": "d8c1e3c6-f5ec-46e5-82cf-edf551419ee4"
      },
      "execution_count": 10,
      "outputs": [
        {
          "output_type": "stream",
          "name": "stdout",
          "text": [
            "Prueba de Levene:\n",
            "Estadístico W: 0.1118454139346018\n",
            "Valor p: 0.7401691542170141\n",
            "No se rechaza la hipótesis de homocedasticidad\n",
            "\n",
            "Prueba de Bartlett:\n",
            "Estadístico T^2: 0.058492069928639465\n",
            "Valor p: 0.8088953571092783\n",
            "No se rechaza la hipótesis de homocedasticidad\n"
          ]
        }
      ]
    },
    {
      "cell_type": "code",
      "source": [
        "# prompt: t-student para dif medias co n v ar iguales\n",
        "\n",
        "import numpy as np\n",
        "from scipy import stats\n",
        "\n",
        "# Datos (reemplaza con tus datos reales)\n",
        "x = np.random.normal(loc=8, scale=4, size=20)  # Genera 20 números\n",
        "y = np.random.normal(loc=8, scale=4, size=15)  # Genera 15 números\n",
        "\n",
        "# Prueba t de Student para muestras independientes con varianzas iguales\n",
        "t_statistic, p_value = stats.ttest_ind(x, y, equal_var=True)\n",
        "\n",
        "print(f\"Prueba t de Student:\")\n",
        "print(f\"Estadístico t: {t_statistic}\")\n",
        "print(f\"Valor p: {p_value}\")\n",
        "\n",
        "alpha = 0.05\n",
        "if p_value > alpha:\n",
        "    print(\"No se rechaza la hipótesis nula (las medias de las poblaciones son iguales)\")\n",
        "else:\n",
        "    print(\"Se rechaza la hipótesis nula (las medias de las poblaciones son diferentes)\")"
      ],
      "metadata": {
        "colab": {
          "base_uri": "https://localhost:8080/"
        },
        "id": "0SJvphgUHsaR",
        "outputId": "f3d1719d-5f8d-4210-a261-6ee7c0fdbca7"
      },
      "execution_count": 11,
      "outputs": [
        {
          "output_type": "stream",
          "name": "stdout",
          "text": [
            "Prueba t de Student:\n",
            "Estadístico t: -0.27058856484497457\n",
            "Valor p: 0.7883927407849757\n",
            "No se rechaza la hipótesis nula (las medias de las poblaciones son iguales)\n"
          ]
        }
      ]
    },
    {
      "cell_type": "markdown",
      "source": [
        "# DIFERENCIA DE MEDIAS BAJO VARIANZAS DIFERENTES"
      ],
      "metadata": {
        "id": "FOqbfG0nIBBW"
      }
    },
    {
      "cell_type": "code",
      "source": [
        "# prompt: t-student para dif medias co n v ar iguales\n",
        "\n",
        "import numpy as np\n",
        "from scipy import stats\n",
        "\n",
        "# Datos (reemplaza con tus datos reales)\n",
        "x = np.random.normal(loc=8, scale=4, size=20)  # Genera 20 números\n",
        "y = np.random.normal(loc=8, scale=9, size=15)  # Genera 15 números\n",
        "\n",
        "\n",
        "# Prueba de Bartlett para la homocedasticidad (más sensible a las desviaciones de la normalidad)\n",
        "bartlett_test = stats.bartlett(x, y)\n",
        "print(f\"\\nPrueba de Bartlett:\")\n",
        "print(f\"Estadístico T^2: {bartlett_test.statistic}\")\n",
        "print(f\"Valor p: {bartlett_test.pvalue}\")\n",
        "\n",
        "if bartlett_test.pvalue > alpha:\n",
        "    print(\"No se rechaza la hipótesis de homocedasticidad\")\n",
        "else:\n",
        "    print(\"Se rechaza la hipótesis de homocedasticidad\")\n",
        "\n",
        "# Prueba t de Student para muestras independientes con varianzas iguales\n",
        "t_statistic, p_value = stats.ttest_ind(x, y, equal_var=False)\n",
        "\n",
        "print(f\"Prueba t de Student:\")\n",
        "print(f\"Estadístico t: {t_statistic}\")\n",
        "print(f\"Valor p: {p_value}\")\n",
        "\n",
        "alpha = 0.05\n",
        "if p_value > alpha:\n",
        "    print(\"No se rechaza la hipótesis nula (las medias de las poblaciones son iguales)\")\n",
        "else:\n",
        "    print(\"Se rechaza la hipótesis nula (las medias de las poblaciones son diferentes)\")"
      ],
      "metadata": {
        "colab": {
          "base_uri": "https://localhost:8080/"
        },
        "id": "Onwr3W49IAsV",
        "outputId": "a9ae2969-41bb-4723-a299-332ae094a1ab"
      },
      "execution_count": 12,
      "outputs": [
        {
          "output_type": "stream",
          "name": "stdout",
          "text": [
            "\n",
            "Prueba de Bartlett:\n",
            "Estadístico T^2: 5.907361064593669\n",
            "Valor p: 0.015077742296727165\n",
            "Se rechaza la hipótesis de homocedasticidad\n",
            "Prueba t de Student:\n",
            "Estadístico t: 0.6171305845412942\n",
            "Valor p: 0.5440755288854084\n",
            "No se rechaza la hipótesis nula (las medias de las poblaciones son iguales)\n"
          ]
        }
      ]
    },
    {
      "cell_type": "code",
      "source": [
        "# prompt: t-student para dif medias co n v ar iguales\n",
        "\n",
        "import numpy as np\n",
        "from scipy import stats\n",
        "\n",
        "# Datos (reemplaza con tus datos reales)\n",
        "x = np.random.normal(loc=8, scale=4, size=20)  # Genera 20 números\n",
        "y = np.random.normal(loc=90, scale=9, size=15)  # Genera 15 números\n",
        "\n",
        "\n",
        "# Prueba de Bartlett para la homocedasticidad (más sensible a las desviaciones de la normalidad)\n",
        "bartlett_test = stats.bartlett(x, y)\n",
        "print(f\"\\nPrueba de Bartlett:\")\n",
        "print(f\"Estadístico T^2: {bartlett_test.statistic}\")\n",
        "print(f\"Valor p: {bartlett_test.pvalue}\")\n",
        "\n",
        "if bartlett_test.pvalue > alpha:\n",
        "    print(\"No se rechaza la hipótesis de homocedasticidad\")\n",
        "else:\n",
        "    print(\"Se rechaza la hipótesis de homocedasticidad\")\n",
        "\n",
        "# Prueba t de Student para muestras independientes con varianzas iguales\n",
        "t_statistic, p_value = stats.ttest_ind(x, y, equal_var=False)\n",
        "\n",
        "print(f\"Prueba t de Student:\")\n",
        "print(f\"Estadístico t: {t_statistic}\")\n",
        "print(f\"Valor p: {p_value}\")\n",
        "\n",
        "alpha = 0.05\n",
        "if p_value > alpha:\n",
        "    print(\"No se rechaza la hipótesis nula (las medias de las poblaciones son iguales)\")\n",
        "else:\n",
        "    print(\"Se rechaza la hipótesis nula (las medias de las poblaciones son diferentes)\")"
      ],
      "metadata": {
        "colab": {
          "base_uri": "https://localhost:8080/"
        },
        "id": "XDfvpOH1I2Ox",
        "outputId": "43f6254c-4910-4884-d138-46d5b5b3b973"
      },
      "execution_count": 13,
      "outputs": [
        {
          "output_type": "stream",
          "name": "stdout",
          "text": [
            "\n",
            "Prueba de Bartlett:\n",
            "Estadístico T^2: 3.0406329057840176\n",
            "Valor p: 0.08120425107122851\n",
            "No se rechaza la hipótesis de homocedasticidad\n",
            "Prueba t de Student:\n",
            "Estadístico t: -42.80526771376501\n",
            "Valor p: 4.725977794994371e-23\n",
            "Se rechaza la hipótesis nula (las medias de las poblaciones son diferentes)\n"
          ]
        }
      ]
    },
    {
      "cell_type": "code",
      "source": [
        "x=[1.4,2.5,3.1]\n",
        "np.mean(x)\n",
        "z=x-np.mean(x)\n",
        "z=(x-np.mean(x))*(x-np.mean(x))\n",
        "sum(z)/2\n",
        "np.var(x)"
      ],
      "metadata": {
        "colab": {
          "base_uri": "https://localhost:8080/"
        },
        "id": "Nxrui65_L5OP",
        "outputId": "82def653-cf37-4d4e-bb7c-6c9a0e378b83"
      },
      "execution_count": 22,
      "outputs": [
        {
          "output_type": "execute_result",
          "data": {
            "text/plain": [
              "0.4955555555555556"
            ]
          },
          "metadata": {},
          "execution_count": 22
        }
      ]
    }
  ]
}